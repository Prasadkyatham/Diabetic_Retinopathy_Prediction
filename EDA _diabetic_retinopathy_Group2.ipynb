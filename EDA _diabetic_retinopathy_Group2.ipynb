{
 "cells": [
  {
   "cell_type": "markdown",
   "id": "0613f0d6",
   "metadata": {},
   "source": [
    "# 1 Import Necessary Libraries"
   ]
  },
  {
   "cell_type": "code",
   "execution_count": 1,
   "id": "25395eb3",
   "metadata": {},
   "outputs": [],
   "source": [
    "# !pip install tpot"
   ]
  },
  {
   "cell_type": "code",
   "execution_count": 2,
   "id": "4935675b",
   "metadata": {
    "scrolled": true
   },
   "outputs": [
    {
     "name": "stdout",
     "output_type": "stream",
     "text": [
      "Requirement already satisfied: pycaret in c:\\users\\prasad\\anaconda3\\lib\\site-packages (2.3.10)\n",
      "Collecting scipy<=1.5.4\n",
      "  Using cached scipy-1.5.4-cp38-cp38-win_amd64.whl (31.4 MB)\n",
      "Requirement already satisfied: lightgbm>=2.3.1 in c:\\users\\prasad\\anaconda3\\lib\\site-packages (from pycaret) (3.3.2)\n",
      "Collecting scikit-learn==0.23.2\n",
      "  Using cached scikit_learn-0.23.2-cp38-cp38-win_amd64.whl (6.8 MB)\n",
      "Requirement already satisfied: pyLDAvis in c:\\users\\prasad\\anaconda3\\lib\\site-packages (from pycaret) (3.2.2)\n",
      "Requirement already satisfied: kmodes>=0.10.1 in c:\\users\\prasad\\anaconda3\\lib\\site-packages (from pycaret) (0.12.1)\n",
      "Requirement already satisfied: spacy<2.4.0 in c:\\users\\prasad\\anaconda3\\lib\\site-packages (from pycaret) (2.3.7)\n",
      "Requirement already satisfied: pyod in c:\\users\\prasad\\anaconda3\\lib\\site-packages (from pycaret) (1.0.4)\n",
      "Requirement already satisfied: IPython in c:\\users\\prasad\\anaconda3\\lib\\site-packages (from pycaret) (7.22.0)\n",
      "Requirement already satisfied: gensim<4.0.0 in c:\\users\\prasad\\anaconda3\\lib\\site-packages (from pycaret) (3.8.3)\n",
      "Requirement already satisfied: imbalanced-learn==0.7.0 in c:\\users\\prasad\\anaconda3\\lib\\site-packages (from pycaret) (0.7.0)\n",
      "Requirement already satisfied: numba<0.55 in c:\\users\\prasad\\anaconda3\\lib\\site-packages (from pycaret) (0.53.1)\n",
      "Requirement already satisfied: mlflow in c:\\users\\prasad\\anaconda3\\lib\\site-packages (from pycaret) (1.27.0)\n",
      "Requirement already satisfied: pandas-profiling>=2.8.0 in c:\\users\\prasad\\anaconda3\\lib\\site-packages (from pycaret) (3.2.0)\n",
      "Requirement already satisfied: yellowbrick>=1.0.1 in c:\\users\\prasad\\anaconda3\\lib\\site-packages (from pycaret) (1.3.post1)\n",
      "Requirement already satisfied: textblob in c:\\users\\prasad\\anaconda3\\lib\\site-packages (from pycaret) (0.17.1)\n",
      "Requirement already satisfied: Boruta in c:\\users\\prasad\\anaconda3\\lib\\site-packages (from pycaret) (0.3)\n",
      "Requirement already satisfied: nltk in c:\\users\\prasad\\anaconda3\\lib\\site-packages (from pycaret) (3.6.1)\n",
      "Requirement already satisfied: joblib in c:\\users\\prasad\\anaconda3\\lib\\site-packages (from pycaret) (1.1.0)\n",
      "Requirement already satisfied: ipywidgets in c:\\users\\prasad\\anaconda3\\lib\\site-packages (from pycaret) (7.6.3)\n",
      "Requirement already satisfied: pandas in c:\\users\\prasad\\anaconda3\\lib\\site-packages (from pycaret) (1.4.3)\n",
      "Requirement already satisfied: pyyaml<6.0.0 in c:\\users\\prasad\\anaconda3\\lib\\site-packages (from pycaret) (5.4.1)\n",
      "Requirement already satisfied: seaborn in c:\\users\\prasad\\anaconda3\\lib\\site-packages (from pycaret) (0.11.1)\n",
      "Requirement already satisfied: wordcloud in c:\\users\\prasad\\anaconda3\\lib\\site-packages (from pycaret) (1.8.1)\n",
      "Requirement already satisfied: matplotlib in c:\\users\\prasad\\anaconda3\\lib\\site-packages (from pycaret) (3.3.4)\n",
      "Requirement already satisfied: scikit-plot in c:\\users\\prasad\\anaconda3\\lib\\site-packages (from pycaret) (0.3.7)\n",
      "Requirement already satisfied: umap-learn in c:\\users\\prasad\\anaconda3\\lib\\site-packages (from pycaret) (0.5.3)\n",
      "Requirement already satisfied: plotly>=4.4.1 in c:\\users\\prasad\\anaconda3\\lib\\site-packages (from pycaret) (5.9.0)\n",
      "Requirement already satisfied: mlxtend>=0.17.0 in c:\\users\\prasad\\anaconda3\\lib\\site-packages (from pycaret) (0.19.0)\n",
      "Requirement already satisfied: cufflinks>=0.17.0 in c:\\users\\prasad\\anaconda3\\lib\\site-packages (from pycaret) (0.17.3)\n",
      "Requirement already satisfied: numpy>=1.13.3 in c:\\users\\prasad\\anaconda3\\lib\\site-packages (from imbalanced-learn==0.7.0->pycaret) (1.19.5)\n",
      "Requirement already satisfied: threadpoolctl>=2.0.0 in c:\\users\\prasad\\anaconda3\\lib\\site-packages (from scikit-learn==0.23.2->pycaret) (2.1.0)\n",
      "Requirement already satisfied: colorlover>=0.2.1 in c:\\users\\prasad\\anaconda3\\lib\\site-packages (from cufflinks>=0.17.0->pycaret) (0.3.0)\n",
      "Requirement already satisfied: six>=1.9.0 in c:\\users\\prasad\\anaconda3\\lib\\site-packages (from cufflinks>=0.17.0->pycaret) (1.15.0)\n",
      "Requirement already satisfied: setuptools>=34.4.1 in c:\\users\\prasad\\anaconda3\\lib\\site-packages (from cufflinks>=0.17.0->pycaret) (52.0.0.post20210125)\n",
      "Requirement already satisfied: smart-open>=1.8.1 in c:\\users\\prasad\\anaconda3\\lib\\site-packages (from gensim<4.0.0->pycaret) (5.2.1)\n",
      "Collecting Cython==0.29.14\n",
      "  Using cached Cython-0.29.14-cp38-cp38-win_amd64.whl (1.7 MB)\n",
      "Requirement already satisfied: jedi>=0.16 in c:\\users\\prasad\\anaconda3\\lib\\site-packages (from IPython->pycaret) (0.17.2)\n",
      "Requirement already satisfied: colorama in c:\\users\\prasad\\anaconda3\\lib\\site-packages (from IPython->pycaret) (0.4.4)\n",
      "Requirement already satisfied: pickleshare in c:\\users\\prasad\\anaconda3\\lib\\site-packages (from IPython->pycaret) (0.7.5)\n",
      "Requirement already satisfied: pygments in c:\\users\\prasad\\anaconda3\\lib\\site-packages (from IPython->pycaret) (2.8.1)\n",
      "Requirement already satisfied: traitlets>=4.2 in c:\\users\\prasad\\anaconda3\\lib\\site-packages (from IPython->pycaret) (5.0.5)\n",
      "Requirement already satisfied: decorator in c:\\users\\prasad\\anaconda3\\lib\\site-packages (from IPython->pycaret) (5.0.6)\n",
      "Requirement already satisfied: prompt-toolkit!=3.0.0,!=3.0.1,<3.1.0,>=2.0.0 in c:\\users\\prasad\\anaconda3\\lib\\site-packages (from IPython->pycaret) (3.0.17)\n",
      "Requirement already satisfied: backcall in c:\\users\\prasad\\anaconda3\\lib\\site-packages (from IPython->pycaret) (0.2.0)\n",
      "Requirement already satisfied: ipykernel>=4.5.1 in c:\\users\\prasad\\anaconda3\\lib\\site-packages (from ipywidgets->pycaret) (5.3.4)\n",
      "Requirement already satisfied: jupyterlab-widgets>=1.0.0 in c:\\users\\prasad\\anaconda3\\lib\\site-packages (from ipywidgets->pycaret) (1.0.0)\n",
      "Requirement already satisfied: widgetsnbextension~=3.5.0 in c:\\users\\prasad\\anaconda3\\lib\\site-packages (from ipywidgets->pycaret) (3.5.1)\n",
      "Requirement already satisfied: nbformat>=4.2.0 in c:\\users\\prasad\\anaconda3\\lib\\site-packages (from ipywidgets->pycaret) (5.1.3)\n",
      "Requirement already satisfied: tornado>=4.2 in c:\\users\\prasad\\anaconda3\\lib\\site-packages (from ipykernel>=4.5.1->ipywidgets->pycaret) (6.1)\n",
      "Requirement already satisfied: jupyter-client in c:\\users\\prasad\\anaconda3\\lib\\site-packages (from ipykernel>=4.5.1->ipywidgets->pycaret) (6.1.12)\n",
      "Requirement already satisfied: parso<0.8.0,>=0.7.0 in c:\\users\\prasad\\anaconda3\\lib\\site-packages (from jedi>=0.16->IPython->pycaret) (0.7.0)\n",
      "Requirement already satisfied: wheel in c:\\users\\prasad\\anaconda3\\lib\\site-packages (from lightgbm>=2.3.1->pycaret) (0.36.2)\n",
      "Requirement already satisfied: pillow>=6.2.0 in c:\\users\\prasad\\anaconda3\\lib\\site-packages (from matplotlib->pycaret) (8.2.0)\n",
      "Requirement already satisfied: python-dateutil>=2.1 in c:\\users\\prasad\\anaconda3\\lib\\site-packages (from matplotlib->pycaret) (2.8.1)\n",
      "Requirement already satisfied: kiwisolver>=1.0.1 in c:\\users\\prasad\\anaconda3\\lib\\site-packages (from matplotlib->pycaret) (1.3.1)\n",
      "Requirement already satisfied: cycler>=0.10 in c:\\users\\prasad\\anaconda3\\lib\\site-packages (from matplotlib->pycaret) (0.10.0)\n",
      "Requirement already satisfied: pyparsing!=2.0.4,!=2.1.2,!=2.1.6,>=2.0.3 in c:\\users\\prasad\\anaconda3\\lib\\site-packages (from matplotlib->pycaret) (2.4.7)\n",
      "Requirement already satisfied: ipython-genutils in c:\\users\\prasad\\anaconda3\\lib\\site-packages (from nbformat>=4.2.0->ipywidgets->pycaret) (0.2.0)\n",
      "Requirement already satisfied: jsonschema!=2.5.0,>=2.4 in c:\\users\\prasad\\anaconda3\\lib\\site-packages (from nbformat>=4.2.0->ipywidgets->pycaret) (3.2.0)\n",
      "Requirement already satisfied: jupyter-core in c:\\users\\prasad\\anaconda3\\lib\\site-packages (from nbformat>=4.2.0->ipywidgets->pycaret) (4.7.1)\n",
      "Requirement already satisfied: pyrsistent>=0.14.0 in c:\\users\\prasad\\anaconda3\\lib\\site-packages (from jsonschema!=2.5.0,>=2.4->nbformat>=4.2.0->ipywidgets->pycaret) (0.17.3)\n",
      "Requirement already satisfied: attrs>=17.4.0 in c:\\users\\prasad\\anaconda3\\lib\\site-packages (from jsonschema!=2.5.0,>=2.4->nbformat>=4.2.0->ipywidgets->pycaret) (20.3.0)\n",
      "Requirement already satisfied: llvmlite<0.37,>=0.36.0rc1 in c:\\users\\prasad\\anaconda3\\lib\\site-packages (from numba<0.55->pycaret) (0.36.0)\n",
      "Requirement already satisfied: pytz>=2020.1 in c:\\users\\prasad\\anaconda3\\lib\\site-packages (from pandas->pycaret) (2021.1)\n",
      "Requirement already satisfied: pydantic>=1.8.1 in c:\\users\\prasad\\anaconda3\\lib\\site-packages (from pandas-profiling>=2.8.0->pycaret) (1.8.2)\n",
      "Requirement already satisfied: markupsafe~=2.1.1 in c:\\users\\prasad\\anaconda3\\lib\\site-packages (from pandas-profiling>=2.8.0->pycaret) (2.1.1)\n",
      "Requirement already satisfied: visions[type_image_path]==0.7.4 in c:\\users\\prasad\\anaconda3\\lib\\site-packages (from pandas-profiling>=2.8.0->pycaret) (0.7.4)\n",
      "Requirement already satisfied: missingno>=0.4.2 in c:\\users\\prasad\\anaconda3\\lib\\site-packages (from pandas-profiling>=2.8.0->pycaret) (0.5.0)\n",
      "Requirement already satisfied: jinja2>=2.11.1 in c:\\users\\prasad\\anaconda3\\lib\\site-packages (from pandas-profiling>=2.8.0->pycaret) (2.11.3)\n",
      "Requirement already satisfied: htmlmin>=0.1.12 in c:\\users\\prasad\\anaconda3\\lib\\site-packages (from pandas-profiling>=2.8.0->pycaret) (0.1.12)\n",
      "Requirement already satisfied: phik>=0.11.1 in c:\\users\\prasad\\anaconda3\\lib\\site-packages (from pandas-profiling>=2.8.0->pycaret) (0.12.0)\n",
      "Requirement already satisfied: tangled-up-in-unicode==0.2.0 in c:\\users\\prasad\\anaconda3\\lib\\site-packages (from pandas-profiling>=2.8.0->pycaret) (0.2.0)\n",
      "Requirement already satisfied: tqdm>=4.48.2 in c:\\users\\prasad\\anaconda3\\lib\\site-packages (from pandas-profiling>=2.8.0->pycaret) (4.59.0)\n",
      "Requirement already satisfied: multimethod>=1.4 in c:\\users\\prasad\\anaconda3\\lib\\site-packages (from pandas-profiling>=2.8.0->pycaret) (1.6)\n",
      "Requirement already satisfied: requests>=2.24.0 in c:\\users\\prasad\\anaconda3\\lib\\site-packages (from pandas-profiling>=2.8.0->pycaret) (2.25.1)\n",
      "Requirement already satisfied: networkx>=2.4 in c:\\users\\prasad\\anaconda3\\lib\\site-packages (from visions[type_image_path]==0.7.4->pandas-profiling>=2.8.0->pycaret) (2.5)\n",
      "Requirement already satisfied: imagehash in c:\\users\\prasad\\anaconda3\\lib\\site-packages (from visions[type_image_path]==0.7.4->pandas-profiling>=2.8.0->pycaret) (4.2.1)\n",
      "Requirement already satisfied: tenacity>=6.2.0 in c:\\users\\prasad\\anaconda3\\lib\\site-packages (from plotly>=4.4.1->pycaret) (8.0.1)\n",
      "Requirement already satisfied: wcwidth in c:\\users\\prasad\\anaconda3\\lib\\site-packages (from prompt-toolkit!=3.0.0,!=3.0.1,<3.1.0,>=2.0.0->IPython->pycaret) (0.2.5)\n",
      "Requirement already satisfied: typing-extensions>=3.7.4.3 in c:\\users\\prasad\\anaconda3\\lib\\site-packages (from pydantic>=1.8.1->pandas-profiling>=2.8.0->pycaret) (3.7.4.3)\n",
      "Requirement already satisfied: idna<3,>=2.5 in c:\\users\\prasad\\anaconda3\\lib\\site-packages (from requests>=2.24.0->pandas-profiling>=2.8.0->pycaret) (2.10)\n",
      "Requirement already satisfied: chardet<5,>=3.0.2 in c:\\users\\prasad\\anaconda3\\lib\\site-packages (from requests>=2.24.0->pandas-profiling>=2.8.0->pycaret) (4.0.0)\n",
      "Requirement already satisfied: urllib3<1.27,>=1.21.1 in c:\\users\\prasad\\anaconda3\\lib\\site-packages (from requests>=2.24.0->pandas-profiling>=2.8.0->pycaret) (1.26.4)\n",
      "Requirement already satisfied: certifi>=2017.4.17 in c:\\users\\prasad\\anaconda3\\lib\\site-packages (from requests>=2.24.0->pandas-profiling>=2.8.0->pycaret) (2022.6.15)\n",
      "Requirement already satisfied: preshed<3.1.0,>=3.0.2 in c:\\users\\prasad\\anaconda3\\lib\\site-packages (from spacy<2.4.0->pycaret) (3.0.6)\n",
      "Requirement already satisfied: wasabi<1.1.0,>=0.4.0 in c:\\users\\prasad\\anaconda3\\lib\\site-packages (from spacy<2.4.0->pycaret) (0.9.0)\n",
      "Requirement already satisfied: murmurhash<1.1.0,>=0.28.0 in c:\\users\\prasad\\anaconda3\\lib\\site-packages (from spacy<2.4.0->pycaret) (1.0.6)\n",
      "Requirement already satisfied: plac<1.2.0,>=0.9.6 in c:\\users\\prasad\\anaconda3\\lib\\site-packages (from spacy<2.4.0->pycaret) (1.1.3)\n",
      "Requirement already satisfied: catalogue<1.1.0,>=0.0.7 in c:\\users\\prasad\\anaconda3\\lib\\site-packages (from spacy<2.4.0->pycaret) (1.0.0)\n",
      "Requirement already satisfied: srsly<1.1.0,>=1.0.2 in c:\\users\\prasad\\anaconda3\\lib\\site-packages (from spacy<2.4.0->pycaret) (1.0.5)\n",
      "Requirement already satisfied: blis<0.8.0,>=0.4.0 in c:\\users\\prasad\\anaconda3\\lib\\site-packages (from spacy<2.4.0->pycaret) (0.7.6)\n",
      "Requirement already satisfied: thinc<7.5.0,>=7.4.1 in c:\\users\\prasad\\anaconda3\\lib\\site-packages (from spacy<2.4.0->pycaret) (7.4.5)\n",
      "Requirement already satisfied: cymem<2.1.0,>=2.0.2 in c:\\users\\prasad\\anaconda3\\lib\\site-packages (from spacy<2.4.0->pycaret) (2.0.6)\n",
      "Requirement already satisfied: notebook>=4.4.1 in c:\\users\\prasad\\anaconda3\\lib\\site-packages (from widgetsnbextension~=3.5.0->ipywidgets->pycaret) (6.3.0)\n",
      "Requirement already satisfied: pyzmq>=17 in c:\\users\\prasad\\anaconda3\\lib\\site-packages (from notebook>=4.4.1->widgetsnbextension~=3.5.0->ipywidgets->pycaret) (20.0.0)\n",
      "Requirement already satisfied: argon2-cffi in c:\\users\\prasad\\anaconda3\\lib\\site-packages (from notebook>=4.4.1->widgetsnbextension~=3.5.0->ipywidgets->pycaret) (20.1.0)\n",
      "Requirement already satisfied: terminado>=0.8.3 in c:\\users\\prasad\\anaconda3\\lib\\site-packages (from notebook>=4.4.1->widgetsnbextension~=3.5.0->ipywidgets->pycaret) (0.9.4)\n",
      "Requirement already satisfied: nbconvert in c:\\users\\prasad\\anaconda3\\lib\\site-packages (from notebook>=4.4.1->widgetsnbextension~=3.5.0->ipywidgets->pycaret) (6.0.7)\n",
      "Requirement already satisfied: prometheus-client in c:\\users\\prasad\\anaconda3\\lib\\site-packages (from notebook>=4.4.1->widgetsnbextension~=3.5.0->ipywidgets->pycaret) (0.10.1)\n",
      "Requirement already satisfied: Send2Trash>=1.5.0 in c:\\users\\prasad\\anaconda3\\lib\\site-packages (from notebook>=4.4.1->widgetsnbextension~=3.5.0->ipywidgets->pycaret) (1.5.0)\n",
      "Requirement already satisfied: pywin32>=1.0 in c:\\users\\prasad\\anaconda3\\lib\\site-packages (from jupyter-core->nbformat>=4.2.0->ipywidgets->pycaret) (227)\n",
      "Requirement already satisfied: pywinpty>=0.5 in c:\\users\\prasad\\anaconda3\\lib\\site-packages (from terminado>=0.8.3->notebook>=4.4.1->widgetsnbextension~=3.5.0->ipywidgets->pycaret) (0.5.7)\n",
      "Requirement already satisfied: cffi>=1.0.0 in c:\\users\\prasad\\anaconda3\\lib\\site-packages (from argon2-cffi->notebook>=4.4.1->widgetsnbextension~=3.5.0->ipywidgets->pycaret) (1.14.5)\n",
      "Requirement already satisfied: pycparser in c:\\users\\prasad\\anaconda3\\lib\\site-packages (from cffi>=1.0.0->argon2-cffi->notebook>=4.4.1->widgetsnbextension~=3.5.0->ipywidgets->pycaret) (2.20)\n",
      "Requirement already satisfied: PyWavelets in c:\\users\\prasad\\anaconda3\\lib\\site-packages (from imagehash->visions[type_image_path]==0.7.4->pandas-profiling>=2.8.0->pycaret) (1.1.1)\n",
      "Requirement already satisfied: querystring-parser in c:\\users\\prasad\\anaconda3\\lib\\site-packages (from mlflow->pycaret) (1.2.4)\n",
      "Requirement already satisfied: sqlalchemy>=1.4.0 in c:\\users\\prasad\\anaconda3\\lib\\site-packages (from mlflow->pycaret) (1.4.7)\n",
      "Requirement already satisfied: sqlparse>=0.3.1 in c:\\users\\prasad\\anaconda3\\lib\\site-packages (from mlflow->pycaret) (0.4.2)\n",
      "Requirement already satisfied: docker>=4.0.0 in c:\\users\\prasad\\anaconda3\\lib\\site-packages (from mlflow->pycaret) (5.0.3)\n",
      "Requirement already satisfied: Flask in c:\\users\\prasad\\anaconda3\\lib\\site-packages (from mlflow->pycaret) (1.1.2)\n",
      "Requirement already satisfied: databricks-cli>=0.8.7 in c:\\users\\prasad\\anaconda3\\lib\\site-packages (from mlflow->pycaret) (0.17.0)\n",
      "Requirement already satisfied: prometheus-flask-exporter in c:\\users\\prasad\\anaconda3\\lib\\site-packages (from mlflow->pycaret) (0.20.3)\n",
      "Requirement already satisfied: alembic in c:\\users\\prasad\\anaconda3\\lib\\site-packages (from mlflow->pycaret) (1.8.1)\n",
      "Requirement already satisfied: waitress in c:\\users\\prasad\\anaconda3\\lib\\site-packages (from mlflow->pycaret) (2.1.2)\n",
      "Requirement already satisfied: importlib-metadata!=4.7.0,>=3.7.0 in c:\\users\\prasad\\anaconda3\\lib\\site-packages (from mlflow->pycaret) (4.11.3)\n",
      "Requirement already satisfied: protobuf>=3.12.0 in c:\\users\\prasad\\anaconda3\\lib\\site-packages (from mlflow->pycaret) (3.19.4)\n",
      "Requirement already satisfied: gitpython>=2.1.0 in c:\\users\\prasad\\anaconda3\\lib\\site-packages (from mlflow->pycaret) (3.1.27)\n",
      "Requirement already satisfied: entrypoints in c:\\users\\prasad\\anaconda3\\lib\\site-packages (from mlflow->pycaret) (0.3)\n",
      "Requirement already satisfied: packaging in c:\\users\\prasad\\anaconda3\\lib\\site-packages (from mlflow->pycaret) (21.3)\n",
      "Requirement already satisfied: cloudpickle in c:\\users\\prasad\\anaconda3\\lib\\site-packages (from mlflow->pycaret) (1.6.0)\n",
      "Requirement already satisfied: click>=7.0 in c:\\users\\prasad\\anaconda3\\lib\\site-packages (from mlflow->pycaret) (7.1.2)\n",
      "Requirement already satisfied: pyjwt>=1.7.0 in c:\\users\\prasad\\anaconda3\\lib\\site-packages (from databricks-cli>=0.8.7->mlflow->pycaret) (2.4.0)\n",
      "Requirement already satisfied: tabulate>=0.7.7 in c:\\users\\prasad\\anaconda3\\lib\\site-packages (from databricks-cli>=0.8.7->mlflow->pycaret) (0.8.9)\n",
      "Requirement already satisfied: oauthlib>=3.1.0 in c:\\users\\prasad\\anaconda3\\lib\\site-packages (from databricks-cli>=0.8.7->mlflow->pycaret) (3.2.0)\n",
      "Requirement already satisfied: websocket-client>=0.32.0 in c:\\users\\prasad\\anaconda3\\lib\\site-packages (from docker>=4.0.0->mlflow->pycaret) (1.3.3)\n",
      "Requirement already satisfied: gitdb<5,>=4.0.1 in c:\\users\\prasad\\anaconda3\\lib\\site-packages (from gitpython>=2.1.0->mlflow->pycaret) (4.0.9)\n",
      "Requirement already satisfied: smmap<6,>=3.0.1 in c:\\users\\prasad\\anaconda3\\lib\\site-packages (from gitdb<5,>=4.0.1->gitpython>=2.1.0->mlflow->pycaret) (5.0.0)\n",
      "Requirement already satisfied: zipp>=0.5 in c:\\users\\prasad\\anaconda3\\lib\\site-packages (from importlib-metadata!=4.7.0,>=3.7.0->mlflow->pycaret) (3.4.1)\n",
      "Requirement already satisfied: greenlet!=0.4.17 in c:\\users\\prasad\\anaconda3\\lib\\site-packages (from sqlalchemy>=1.4.0->mlflow->pycaret) (1.0.0)\n",
      "Requirement already satisfied: Mako in c:\\users\\prasad\\anaconda3\\lib\\site-packages (from alembic->mlflow->pycaret) (1.2.1)\n",
      "Requirement already satisfied: importlib-resources in c:\\users\\prasad\\anaconda3\\lib\\site-packages (from alembic->mlflow->pycaret) (5.4.0)\n",
      "Requirement already satisfied: Werkzeug>=0.15 in c:\\users\\prasad\\anaconda3\\lib\\site-packages (from Flask->mlflow->pycaret) (1.0.1)\n",
      "Requirement already satisfied: itsdangerous>=0.24 in c:\\users\\prasad\\anaconda3\\lib\\site-packages (from Flask->mlflow->pycaret) (1.1.0)\n",
      "Requirement already satisfied: nbclient<0.6.0,>=0.5.0 in c:\\users\\prasad\\anaconda3\\lib\\site-packages (from nbconvert->notebook>=4.4.1->widgetsnbextension~=3.5.0->ipywidgets->pycaret) (0.5.3)\n",
      "Requirement already satisfied: mistune<2,>=0.8.1 in c:\\users\\prasad\\anaconda3\\lib\\site-packages (from nbconvert->notebook>=4.4.1->widgetsnbextension~=3.5.0->ipywidgets->pycaret) (0.8.4)\n",
      "Requirement already satisfied: jupyterlab-pygments in c:\\users\\prasad\\anaconda3\\lib\\site-packages (from nbconvert->notebook>=4.4.1->widgetsnbextension~=3.5.0->ipywidgets->pycaret) (0.1.2)\n",
      "Requirement already satisfied: pandocfilters>=1.4.1 in c:\\users\\prasad\\anaconda3\\lib\\site-packages (from nbconvert->notebook>=4.4.1->widgetsnbextension~=3.5.0->ipywidgets->pycaret) (1.4.3)\n",
      "Requirement already satisfied: testpath in c:\\users\\prasad\\anaconda3\\lib\\site-packages (from nbconvert->notebook>=4.4.1->widgetsnbextension~=3.5.0->ipywidgets->pycaret) (0.4.4)\n",
      "Requirement already satisfied: bleach in c:\\users\\prasad\\anaconda3\\lib\\site-packages (from nbconvert->notebook>=4.4.1->widgetsnbextension~=3.5.0->ipywidgets->pycaret) (3.3.0)\n",
      "Requirement already satisfied: defusedxml in c:\\users\\prasad\\anaconda3\\lib\\site-packages (from nbconvert->notebook>=4.4.1->widgetsnbextension~=3.5.0->ipywidgets->pycaret) (0.7.1)\n",
      "Requirement already satisfied: nest-asyncio in c:\\users\\prasad\\anaconda3\\lib\\site-packages (from nbclient<0.6.0,>=0.5.0->nbconvert->notebook>=4.4.1->widgetsnbextension~=3.5.0->ipywidgets->pycaret) (1.5.1)\n",
      "Requirement already satisfied: async-generator in c:\\users\\prasad\\anaconda3\\lib\\site-packages (from nbclient<0.6.0,>=0.5.0->nbconvert->notebook>=4.4.1->widgetsnbextension~=3.5.0->ipywidgets->pycaret) (1.10)\n",
      "Requirement already satisfied: webencodings in c:\\users\\prasad\\anaconda3\\lib\\site-packages (from bleach->nbconvert->notebook>=4.4.1->widgetsnbextension~=3.5.0->ipywidgets->pycaret) (0.5.1)\n",
      "Requirement already satisfied: regex in c:\\users\\prasad\\anaconda3\\lib\\site-packages (from nltk->pycaret) (2021.4.4)\n",
      "Requirement already satisfied: numexpr in c:\\users\\prasad\\anaconda3\\lib\\site-packages (from pyLDAvis->pycaret) (2.7.3)\n",
      "Requirement already satisfied: funcy in c:\\users\\prasad\\anaconda3\\lib\\site-packages (from pyLDAvis->pycaret) (1.17)\n",
      "Requirement already satisfied: future in c:\\users\\prasad\\anaconda3\\lib\\site-packages (from pyLDAvis->pycaret) (0.18.2)\n",
      "Requirement already satisfied: statsmodels in c:\\users\\prasad\\anaconda3\\lib\\site-packages (from pyod->pycaret) (0.12.2)\n",
      "Requirement already satisfied: patsy>=0.5 in c:\\users\\prasad\\anaconda3\\lib\\site-packages (from statsmodels->pyod->pycaret) (0.5.2)\n",
      "Requirement already satisfied: pynndescent>=0.5 in c:\\users\\prasad\\anaconda3\\lib\\site-packages (from umap-learn->pycaret) (0.5.7)\n",
      "Installing collected packages: scipy, scikit-learn, Cython\n",
      "  Attempting uninstall: scipy\n",
      "    Found existing installation: scipy 1.6.2\n",
      "    Uninstalling scipy-1.6.2:\n",
      "      Successfully uninstalled scipy-1.6.2\n"
     ]
    },
    {
     "name": "stderr",
     "output_type": "stream",
     "text": [
      "ERROR: Could not install packages due to an OSError: [WinError 5] Access is denied: 'C:\\\\Users\\\\prasad\\\\AppData\\\\Local\\\\Temp\\\\pip-uninstall-sxd2cvpx\\\\ndimage\\\\_nd_image.cp38-win_amd64.pyd'\n",
      "Consider using the `--user` option or check the permissions.\n",
      "\n"
     ]
    }
   ],
   "source": [
    "!pip install pycaret"
   ]
  },
  {
   "cell_type": "code",
   "execution_count": 3,
   "id": "cf4f384b",
   "metadata": {},
   "outputs": [
    {
     "name": "stdout",
     "output_type": "stream",
     "text": [
      "Collecting markupsafe==2.0.1\n",
      "  Using cached MarkupSafe-2.0.1-cp38-cp38-win_amd64.whl (14 kB)\n",
      "Installing collected packages: markupsafe\n",
      "  Attempting uninstall: markupsafe\n",
      "    Found existing installation: MarkupSafe 2.1.1\n",
      "    Uninstalling MarkupSafe-2.1.1:\n",
      "      Successfully uninstalled MarkupSafe-2.1.1\n",
      "Successfully installed markupsafe-2.0.1\n"
     ]
    },
    {
     "name": "stderr",
     "output_type": "stream",
     "text": [
      "ERROR: pip's dependency resolver does not currently take into account all the packages that are installed. This behaviour is the source of the following dependency conflicts.\n",
      "anaconda-project 0.9.1 requires ruamel-yaml, which is not installed.\n",
      "sphinx 4.0.1 requires MarkupSafe<2.0, but you have markupsafe 2.0.1 which is incompatible.\n",
      "pandas-profiling 3.2.0 requires markupsafe~=2.1.1, but you have markupsafe 2.0.1 which is incompatible.\n"
     ]
    }
   ],
   "source": [
    "!pip install markupsafe==2.0.1"
   ]
  },
  {
   "cell_type": "code",
   "execution_count": 4,
   "id": "090a0467",
   "metadata": {},
   "outputs": [
    {
     "name": "stderr",
     "output_type": "stream",
     "text": [
      "ERROR: Could not install packages due to an OSError: [WinError 5] Access is denied: 'C:\\\\Users\\\\prasad\\\\anaconda3\\\\Lib\\\\site-packages\\\\sklearn\\\\~_check_build\\\\_check_build.cp38-win_amd64.pyd'\n",
      "Consider using the `--user` option or check the permissions.\n",
      "\n"
     ]
    }
   ],
   "source": [
    "!pip install pycaret==2.3.10 markupsafe==2.0.1 pyyaml==5.4.1 -qq"
   ]
  },
  {
   "cell_type": "code",
   "execution_count": 5,
   "id": "f42b0c51",
   "metadata": {},
   "outputs": [],
   "source": [
    "import pandas as pd\n",
    "import numpy as np\n",
    "import matplotlib.pyplot as plt\n",
    "import seaborn as sns\n",
    "from sklearn.preprocessing import LabelEncoder\n",
    "import warnings\n",
    "warnings.filterwarnings('ignore')\n",
    "from sklearn.preprocessing import LabelEncoder\n"
   ]
  },
  {
   "cell_type": "markdown",
   "id": "76ccb9ac",
   "metadata": {},
   "source": [
    "# 2 Get Data"
   ]
  },
  {
   "cell_type": "code",
   "execution_count": 6,
   "id": "3c4fa937",
   "metadata": {},
   "outputs": [
    {
     "data": {
      "text/html": [
       "<div>\n",
       "<style scoped>\n",
       "    .dataframe tbody tr th:only-of-type {\n",
       "        vertical-align: middle;\n",
       "    }\n",
       "\n",
       "    .dataframe tbody tr th {\n",
       "        vertical-align: top;\n",
       "    }\n",
       "\n",
       "    .dataframe thead th {\n",
       "        text-align: right;\n",
       "    }\n",
       "</style>\n",
       "<table border=\"1\" class=\"dataframe\">\n",
       "  <thead>\n",
       "    <tr style=\"text-align: right;\">\n",
       "      <th></th>\n",
       "      <th>ID</th>\n",
       "      <th>age</th>\n",
       "      <th>systolic_bp</th>\n",
       "      <th>diastolic_bp</th>\n",
       "      <th>cholesterol</th>\n",
       "      <th>prognosis</th>\n",
       "    </tr>\n",
       "  </thead>\n",
       "  <tbody>\n",
       "    <tr>\n",
       "      <th>0</th>\n",
       "      <td>0</td>\n",
       "      <td>77.196340</td>\n",
       "      <td>85.288742</td>\n",
       "      <td>80.021878</td>\n",
       "      <td>79.957109</td>\n",
       "      <td>retinopathy</td>\n",
       "    </tr>\n",
       "    <tr>\n",
       "      <th>1</th>\n",
       "      <td>1</td>\n",
       "      <td>63.529850</td>\n",
       "      <td>99.379736</td>\n",
       "      <td>84.852361</td>\n",
       "      <td>110.382411</td>\n",
       "      <td>retinopathy</td>\n",
       "    </tr>\n",
       "    <tr>\n",
       "      <th>2</th>\n",
       "      <td>2</td>\n",
       "      <td>69.003986</td>\n",
       "      <td>111.349455</td>\n",
       "      <td>109.850616</td>\n",
       "      <td>100.828246</td>\n",
       "      <td>retinopathy</td>\n",
       "    </tr>\n",
       "    <tr>\n",
       "      <th>3</th>\n",
       "      <td>3</td>\n",
       "      <td>82.638210</td>\n",
       "      <td>95.056128</td>\n",
       "      <td>79.666851</td>\n",
       "      <td>87.066303</td>\n",
       "      <td>retinopathy</td>\n",
       "    </tr>\n",
       "    <tr>\n",
       "      <th>4</th>\n",
       "      <td>4</td>\n",
       "      <td>78.346286</td>\n",
       "      <td>109.154591</td>\n",
       "      <td>90.713220</td>\n",
       "      <td>92.511770</td>\n",
       "      <td>retinopathy</td>\n",
       "    </tr>\n",
       "    <tr>\n",
       "      <th>...</th>\n",
       "      <td>...</td>\n",
       "      <td>...</td>\n",
       "      <td>...</td>\n",
       "      <td>...</td>\n",
       "      <td>...</td>\n",
       "      <td>...</td>\n",
       "    </tr>\n",
       "    <tr>\n",
       "      <th>5995</th>\n",
       "      <td>5995</td>\n",
       "      <td>49.611850</td>\n",
       "      <td>94.857639</td>\n",
       "      <td>86.615671</td>\n",
       "      <td>107.643986</td>\n",
       "      <td>no_retinopathy</td>\n",
       "    </tr>\n",
       "    <tr>\n",
       "      <th>5996</th>\n",
       "      <td>5996</td>\n",
       "      <td>63.099686</td>\n",
       "      <td>100.039527</td>\n",
       "      <td>93.515186</td>\n",
       "      <td>104.971404</td>\n",
       "      <td>retinopathy</td>\n",
       "    </tr>\n",
       "    <tr>\n",
       "      <th>5997</th>\n",
       "      <td>5997</td>\n",
       "      <td>55.562243</td>\n",
       "      <td>98.421446</td>\n",
       "      <td>102.697875</td>\n",
       "      <td>120.875951</td>\n",
       "      <td>retinopathy</td>\n",
       "    </tr>\n",
       "    <tr>\n",
       "      <th>5998</th>\n",
       "      <td>5998</td>\n",
       "      <td>63.468956</td>\n",
       "      <td>106.809289</td>\n",
       "      <td>88.060631</td>\n",
       "      <td>106.052213</td>\n",
       "      <td>retinopathy</td>\n",
       "    </tr>\n",
       "    <tr>\n",
       "      <th>5999</th>\n",
       "      <td>5999</td>\n",
       "      <td>62.506825</td>\n",
       "      <td>96.900784</td>\n",
       "      <td>86.878033</td>\n",
       "      <td>108.625436</td>\n",
       "      <td>no_retinopathy</td>\n",
       "    </tr>\n",
       "  </tbody>\n",
       "</table>\n",
       "<p>6000 rows × 6 columns</p>\n",
       "</div>"
      ],
      "text/plain": [
       "        ID        age  systolic_bp  diastolic_bp  cholesterol       prognosis\n",
       "0        0  77.196340    85.288742     80.021878    79.957109     retinopathy\n",
       "1        1  63.529850    99.379736     84.852361   110.382411     retinopathy\n",
       "2        2  69.003986   111.349455    109.850616   100.828246     retinopathy\n",
       "3        3  82.638210    95.056128     79.666851    87.066303     retinopathy\n",
       "4        4  78.346286   109.154591     90.713220    92.511770     retinopathy\n",
       "...    ...        ...          ...           ...          ...             ...\n",
       "5995  5995  49.611850    94.857639     86.615671   107.643986  no_retinopathy\n",
       "5996  5996  63.099686   100.039527     93.515186   104.971404     retinopathy\n",
       "5997  5997  55.562243    98.421446    102.697875   120.875951     retinopathy\n",
       "5998  5998  63.468956   106.809289     88.060631   106.052213     retinopathy\n",
       "5999  5999  62.506825    96.900784     86.878033   108.625436  no_retinopathy\n",
       "\n",
       "[6000 rows x 6 columns]"
      ]
     },
     "execution_count": 6,
     "metadata": {},
     "output_type": "execute_result"
    }
   ],
   "source": [
    "Data = pd.read_csv(\"C:/Users/prasad/Downloads/pronostico_dataset.csv\", sep=\";\")\n",
    "Data"
   ]
  },
  {
   "cell_type": "code",
   "execution_count": 7,
   "id": "cb19fb8c",
   "metadata": {},
   "outputs": [
    {
     "data": {
      "text/plain": [
       "(6000, 6)"
      ]
     },
     "execution_count": 7,
     "metadata": {},
     "output_type": "execute_result"
    }
   ],
   "source": [
    "Data.shape"
   ]
  },
  {
   "cell_type": "markdown",
   "id": "0e1def4d",
   "metadata": {},
   "source": [
    "# 3 Data Understanding"
   ]
  },
  {
   "cell_type": "markdown",
   "id": "cde5c917",
   "metadata": {},
   "source": [
    "### 3.1 Perform Intial Analysis"
   ]
  },
  {
   "cell_type": "code",
   "execution_count": 8,
   "id": "3504026a",
   "metadata": {},
   "outputs": [
    {
     "data": {
      "text/plain": [
       "(6000, 6)"
      ]
     },
     "execution_count": 8,
     "metadata": {},
     "output_type": "execute_result"
    }
   ],
   "source": [
    "Data.shape"
   ]
  },
  {
   "cell_type": "code",
   "execution_count": 9,
   "id": "6ea61c65",
   "metadata": {},
   "outputs": [
    {
     "name": "stdout",
     "output_type": "stream",
     "text": [
      "<class 'pandas.core.frame.DataFrame'>\n",
      "RangeIndex: 6000 entries, 0 to 5999\n",
      "Data columns (total 6 columns):\n",
      " #   Column        Non-Null Count  Dtype  \n",
      "---  ------        --------------  -----  \n",
      " 0   ID            6000 non-null   int64  \n",
      " 1   age           6000 non-null   float64\n",
      " 2   systolic_bp   6000 non-null   float64\n",
      " 3   diastolic_bp  6000 non-null   float64\n",
      " 4   cholesterol   6000 non-null   float64\n",
      " 5   prognosis     6000 non-null   object \n",
      "dtypes: float64(4), int64(1), object(1)\n",
      "memory usage: 281.4+ KB\n"
     ]
    }
   ],
   "source": [
    "Data.info()"
   ]
  },
  {
   "cell_type": "code",
   "execution_count": 10,
   "id": "5bbe50df",
   "metadata": {},
   "outputs": [
    {
     "data": {
      "text/html": [
       "<div>\n",
       "<style scoped>\n",
       "    .dataframe tbody tr th:only-of-type {\n",
       "        vertical-align: middle;\n",
       "    }\n",
       "\n",
       "    .dataframe tbody tr th {\n",
       "        vertical-align: top;\n",
       "    }\n",
       "\n",
       "    .dataframe thead th {\n",
       "        text-align: right;\n",
       "    }\n",
       "</style>\n",
       "<table border=\"1\" class=\"dataframe\">\n",
       "  <thead>\n",
       "    <tr style=\"text-align: right;\">\n",
       "      <th></th>\n",
       "      <th>count</th>\n",
       "      <th>mean</th>\n",
       "      <th>std</th>\n",
       "      <th>min</th>\n",
       "      <th>25%</th>\n",
       "      <th>50%</th>\n",
       "      <th>75%</th>\n",
       "      <th>max</th>\n",
       "    </tr>\n",
       "  </thead>\n",
       "  <tbody>\n",
       "    <tr>\n",
       "      <th>ID</th>\n",
       "      <td>6000.0</td>\n",
       "      <td>2999.500000</td>\n",
       "      <td>1732.195139</td>\n",
       "      <td>0.000000</td>\n",
       "      <td>1499.750000</td>\n",
       "      <td>2999.500000</td>\n",
       "      <td>4499.250000</td>\n",
       "      <td>5999.000000</td>\n",
       "    </tr>\n",
       "    <tr>\n",
       "      <th>age</th>\n",
       "      <td>6000.0</td>\n",
       "      <td>60.464121</td>\n",
       "      <td>8.564392</td>\n",
       "      <td>35.164761</td>\n",
       "      <td>54.371941</td>\n",
       "      <td>59.831159</td>\n",
       "      <td>65.809652</td>\n",
       "      <td>103.279497</td>\n",
       "    </tr>\n",
       "    <tr>\n",
       "      <th>systolic_bp</th>\n",
       "      <td>6000.0</td>\n",
       "      <td>100.694822</td>\n",
       "      <td>10.669267</td>\n",
       "      <td>69.675429</td>\n",
       "      <td>93.267420</td>\n",
       "      <td>100.119926</td>\n",
       "      <td>107.439501</td>\n",
       "      <td>151.699660</td>\n",
       "    </tr>\n",
       "    <tr>\n",
       "      <th>diastolic_bp</th>\n",
       "      <td>6000.0</td>\n",
       "      <td>90.505547</td>\n",
       "      <td>9.648200</td>\n",
       "      <td>62.807105</td>\n",
       "      <td>83.641788</td>\n",
       "      <td>89.912429</td>\n",
       "      <td>96.682405</td>\n",
       "      <td>133.456382</td>\n",
       "    </tr>\n",
       "    <tr>\n",
       "      <th>cholesterol</th>\n",
       "      <td>6000.0</td>\n",
       "      <td>100.628255</td>\n",
       "      <td>10.433915</td>\n",
       "      <td>69.967453</td>\n",
       "      <td>93.202373</td>\n",
       "      <td>100.060637</td>\n",
       "      <td>107.250829</td>\n",
       "      <td>148.233544</td>\n",
       "    </tr>\n",
       "  </tbody>\n",
       "</table>\n",
       "</div>"
      ],
      "text/plain": [
       "               count         mean          std        min          25%  \\\n",
       "ID            6000.0  2999.500000  1732.195139   0.000000  1499.750000   \n",
       "age           6000.0    60.464121     8.564392  35.164761    54.371941   \n",
       "systolic_bp   6000.0   100.694822    10.669267  69.675429    93.267420   \n",
       "diastolic_bp  6000.0    90.505547     9.648200  62.807105    83.641788   \n",
       "cholesterol   6000.0   100.628255    10.433915  69.967453    93.202373   \n",
       "\n",
       "                      50%          75%          max  \n",
       "ID            2999.500000  4499.250000  5999.000000  \n",
       "age             59.831159    65.809652   103.279497  \n",
       "systolic_bp    100.119926   107.439501   151.699660  \n",
       "diastolic_bp    89.912429    96.682405   133.456382  \n",
       "cholesterol    100.060637   107.250829   148.233544  "
      ]
     },
     "execution_count": 10,
     "metadata": {},
     "output_type": "execute_result"
    }
   ],
   "source": [
    "Data.describe().T"
   ]
  },
  {
   "cell_type": "code",
   "execution_count": 11,
   "id": "5dbed9ad",
   "metadata": {
    "scrolled": true
   },
   "outputs": [
    {
     "data": {
      "text/plain": [
       "ID              0\n",
       "age             0\n",
       "systolic_bp     0\n",
       "diastolic_bp    0\n",
       "cholesterol     0\n",
       "prognosis       0\n",
       "dtype: int64"
      ]
     },
     "execution_count": 11,
     "metadata": {},
     "output_type": "execute_result"
    }
   ],
   "source": [
    "Data.isna().sum()"
   ]
  },
  {
   "cell_type": "code",
   "execution_count": 12,
   "id": "8dab4bc5",
   "metadata": {},
   "outputs": [
    {
     "data": {
      "text/plain": [
       "<AxesSubplot:>"
      ]
     },
     "execution_count": 12,
     "metadata": {},
     "output_type": "execute_result"
    },
    {
     "data": {
      "image/png": "[encoded data removed]",
      "text/plain": [
       "<Figure size 432x288 with 2 Axes>"
      ]
     },
     "metadata": {
      "needs_background": "light"
     },
     "output_type": "display_data"
    }
   ],
   "source": [
    "import seaborn as sns\n",
    "cols = Data.columns \n",
    "colours = ['#0000ff', '#ffff00'] # specify the colours blue is missing.\n",
    "sns.heatmap(Data[cols].isnull(),\n",
    "            cmap=sns.color_palette(colours))"
   ]
  },
  {
   "cell_type": "markdown",
   "id": "8798d83b",
   "metadata": {},
   "source": [
    "#Good!. There is no missing value and all features type are number. Therefore, there is no need to preprocess for missing values"
   ]
  },
  {
   "cell_type": "markdown",
   "id": "e52445e2",
   "metadata": {},
   "source": [
    "### 3.1.1Droping the ID Coloumn  Because it has no use in prediction of retinopathy"
   ]
  },
  {
   "cell_type": "code",
   "execution_count": 13,
   "id": "7fccdab6",
   "metadata": {},
   "outputs": [],
   "source": [
    "Data.drop(columns='ID',inplace=True)"
   ]
  },
  {
   "cell_type": "code",
   "execution_count": 14,
   "id": "e02d05f6",
   "metadata": {},
   "outputs": [
    {
     "data": {
      "text/plain": [
       "0"
      ]
     },
     "execution_count": 14,
     "metadata": {},
     "output_type": "execute_result"
    }
   ],
   "source": [
    "Data.duplicated().sum()"
   ]
  },
  {
   "cell_type": "code",
   "execution_count": 15,
   "id": "85a35405",
   "metadata": {
    "scrolled": true
   },
   "outputs": [],
   "source": [
    "# we use labelencoder on target variable \n",
    "label_encoder= LabelEncoder()\n",
    "Data.iloc[:,-1]=label_encoder.fit_transform(Data.iloc[:,-1])"
   ]
  },
  {
   "cell_type": "code",
   "execution_count": 16,
   "id": "f4c49a52",
   "metadata": {},
   "outputs": [
    {
     "data": {
      "text/html": [
       "<div>\n",
       "<style scoped>\n",
       "    .dataframe tbody tr th:only-of-type {\n",
       "        vertical-align: middle;\n",
       "    }\n",
       "\n",
       "    .dataframe tbody tr th {\n",
       "        vertical-align: top;\n",
       "    }\n",
       "\n",
       "    .dataframe thead th {\n",
       "        text-align: right;\n",
       "    }\n",
       "</style>\n",
       "<table border=\"1\" class=\"dataframe\">\n",
       "  <thead>\n",
       "    <tr style=\"text-align: right;\">\n",
       "      <th></th>\n",
       "      <th>age</th>\n",
       "      <th>systolic_bp</th>\n",
       "      <th>diastolic_bp</th>\n",
       "      <th>cholesterol</th>\n",
       "      <th>prognosis</th>\n",
       "    </tr>\n",
       "  </thead>\n",
       "  <tbody>\n",
       "    <tr>\n",
       "      <th>0</th>\n",
       "      <td>77.196340</td>\n",
       "      <td>85.288742</td>\n",
       "      <td>80.021878</td>\n",
       "      <td>79.957109</td>\n",
       "      <td>1</td>\n",
       "    </tr>\n",
       "    <tr>\n",
       "      <th>1</th>\n",
       "      <td>63.529850</td>\n",
       "      <td>99.379736</td>\n",
       "      <td>84.852361</td>\n",
       "      <td>110.382411</td>\n",
       "      <td>1</td>\n",
       "    </tr>\n",
       "    <tr>\n",
       "      <th>2</th>\n",
       "      <td>69.003986</td>\n",
       "      <td>111.349455</td>\n",
       "      <td>109.850616</td>\n",
       "      <td>100.828246</td>\n",
       "      <td>1</td>\n",
       "    </tr>\n",
       "    <tr>\n",
       "      <th>3</th>\n",
       "      <td>82.638210</td>\n",
       "      <td>95.056128</td>\n",
       "      <td>79.666851</td>\n",
       "      <td>87.066303</td>\n",
       "      <td>1</td>\n",
       "    </tr>\n",
       "    <tr>\n",
       "      <th>4</th>\n",
       "      <td>78.346286</td>\n",
       "      <td>109.154591</td>\n",
       "      <td>90.713220</td>\n",
       "      <td>92.511770</td>\n",
       "      <td>1</td>\n",
       "    </tr>\n",
       "    <tr>\n",
       "      <th>5</th>\n",
       "      <td>52.181782</td>\n",
       "      <td>121.080264</td>\n",
       "      <td>110.488129</td>\n",
       "      <td>115.468279</td>\n",
       "      <td>1</td>\n",
       "    </tr>\n",
       "    <tr>\n",
       "      <th>6</th>\n",
       "      <td>68.722144</td>\n",
       "      <td>115.232290</td>\n",
       "      <td>92.730813</td>\n",
       "      <td>106.784960</td>\n",
       "      <td>1</td>\n",
       "    </tr>\n",
       "    <tr>\n",
       "      <th>7</th>\n",
       "      <td>58.716578</td>\n",
       "      <td>98.653683</td>\n",
       "      <td>94.172130</td>\n",
       "      <td>100.829654</td>\n",
       "      <td>1</td>\n",
       "    </tr>\n",
       "    <tr>\n",
       "      <th>8</th>\n",
       "      <td>59.121758</td>\n",
       "      <td>102.681371</td>\n",
       "      <td>96.991612</td>\n",
       "      <td>106.331045</td>\n",
       "      <td>1</td>\n",
       "    </tr>\n",
       "    <tr>\n",
       "      <th>9</th>\n",
       "      <td>63.624683</td>\n",
       "      <td>96.341053</td>\n",
       "      <td>80.919213</td>\n",
       "      <td>121.558605</td>\n",
       "      <td>1</td>\n",
       "    </tr>\n",
       "  </tbody>\n",
       "</table>\n",
       "</div>"
      ],
      "text/plain": [
       "         age  systolic_bp  diastolic_bp  cholesterol  prognosis\n",
       "0  77.196340    85.288742     80.021878    79.957109          1\n",
       "1  63.529850    99.379736     84.852361   110.382411          1\n",
       "2  69.003986   111.349455    109.850616   100.828246          1\n",
       "3  82.638210    95.056128     79.666851    87.066303          1\n",
       "4  78.346286   109.154591     90.713220    92.511770          1\n",
       "5  52.181782   121.080264    110.488129   115.468279          1\n",
       "6  68.722144   115.232290     92.730813   106.784960          1\n",
       "7  58.716578    98.653683     94.172130   100.829654          1\n",
       "8  59.121758   102.681371     96.991612   106.331045          1\n",
       "9  63.624683    96.341053     80.919213   121.558605          1"
      ]
     },
     "execution_count": 16,
     "metadata": {},
     "output_type": "execute_result"
    }
   ],
   "source": [
    "Data.head(10)"
   ]
  },
  {
   "cell_type": "code",
   "execution_count": 17,
   "id": "4aa8f08b",
   "metadata": {},
   "outputs": [
    {
     "data": {
      "text/html": [
       "<div>\n",
       "<style scoped>\n",
       "    .dataframe tbody tr th:only-of-type {\n",
       "        vertical-align: middle;\n",
       "    }\n",
       "\n",
       "    .dataframe tbody tr th {\n",
       "        vertical-align: top;\n",
       "    }\n",
       "\n",
       "    .dataframe thead th {\n",
       "        text-align: right;\n",
       "    }\n",
       "</style>\n",
       "<table border=\"1\" class=\"dataframe\">\n",
       "  <thead>\n",
       "    <tr style=\"text-align: right;\">\n",
       "      <th></th>\n",
       "      <th>age</th>\n",
       "      <th>cholesterol</th>\n",
       "      <th>diastolic_bp</th>\n",
       "      <th>systolic_bp</th>\n",
       "    </tr>\n",
       "    <tr>\n",
       "      <th>prognosis</th>\n",
       "      <th></th>\n",
       "      <th></th>\n",
       "      <th></th>\n",
       "      <th></th>\n",
       "    </tr>\n",
       "  </thead>\n",
       "  <tbody>\n",
       "    <tr>\n",
       "      <th>0</th>\n",
       "      <td>57.136708</td>\n",
       "      <td>97.236411</td>\n",
       "      <td>88.702601</td>\n",
       "      <td>96.962551</td>\n",
       "    </tr>\n",
       "    <tr>\n",
       "      <th>1</th>\n",
       "      <td>63.603982</td>\n",
       "      <td>103.828917</td>\n",
       "      <td>92.206868</td>\n",
       "      <td>104.216722</td>\n",
       "    </tr>\n",
       "  </tbody>\n",
       "</table>\n",
       "</div>"
      ],
      "text/plain": [
       "                 age  cholesterol  diastolic_bp  systolic_bp\n",
       "prognosis                                                   \n",
       "0          57.136708    97.236411     88.702601    96.962551\n",
       "1          63.603982   103.828917     92.206868   104.216722"
      ]
     },
     "execution_count": 17,
     "metadata": {},
     "output_type": "execute_result"
    }
   ],
   "source": [
    "# mean of the target variable of no_retinopathy & retinopathy\n",
    "pd.pivot_table(Data,values=['age','systolic_bp','diastolic_bp','cholesterol'],index='prognosis',aggfunc='mean')"
   ]
  },
  {
   "cell_type": "code",
   "execution_count": 18,
   "id": "e6cea3d3",
   "metadata": {
    "scrolled": true
   },
   "outputs": [
    {
     "data": {
      "text/plain": [
       "<AxesSubplot:xlabel='age', ylabel='Density'>"
      ]
     },
     "execution_count": 18,
     "metadata": {},
     "output_type": "execute_result"
    },
    {
     "data": {
      "image/png": "[encoded data removed]",
      "text/plain": [
       "<Figure size 432x288 with 1 Axes>"
      ]
     },
     "metadata": {
      "needs_background": "light"
     },
     "output_type": "display_data"
    }
   ],
   "source": [
    "sns.distplot(Data['age'])"
   ]
  },
  {
   "cell_type": "code",
   "execution_count": 19,
   "id": "0f1e5364",
   "metadata": {},
   "outputs": [
    {
     "data": {
      "text/plain": [
       "<AxesSubplot:xlabel='systolic_bp', ylabel='Density'>"
      ]
     },
     "execution_count": 19,
     "metadata": {},
     "output_type": "execute_result"
    },
    {
     "data": {
      "image/png": "[encoded data removed]",
      "text/plain": [
       "<Figure size 432x288 with 1 Axes>"
      ]
     },
     "metadata": {
      "needs_background": "light"
     },
     "output_type": "display_data"
    }
   ],
   "source": [
    "sns.distplot(Data['systolic_bp'])"
   ]
  },
  {
   "cell_type": "code",
   "execution_count": 20,
   "id": "77d0014a",
   "metadata": {},
   "outputs": [
    {
     "data": {
      "text/plain": [
       "<AxesSubplot:xlabel='diastolic_bp', ylabel='Density'>"
      ]
     },
     "execution_count": 20,
     "metadata": {},
     "output_type": "execute_result"
    },
    {
     "data": {
      "image/png": "[encoded data removed]",
      "text/plain": [
       "<Figure size 432x288 with 1 Axes>"
      ]
     },
     "metadata": {
      "needs_background": "light"
     },
     "output_type": "display_data"
    }
   ],
   "source": [
    "sns.distplot(Data['diastolic_bp'])"
   ]
  },
  {
   "cell_type": "code",
   "execution_count": 21,
   "id": "2df5e900",
   "metadata": {},
   "outputs": [
    {
     "data": {
      "text/plain": [
       "<AxesSubplot:xlabel='cholesterol', ylabel='Density'>"
      ]
     },
     "execution_count": 21,
     "metadata": {},
     "output_type": "execute_result"
    },
    {
     "data": {
      "image/png": "[encoded data removed]",
      "text/plain": [
       "<Figure size 432x288 with 1 Axes>"
      ]
     },
     "metadata": {
      "needs_background": "light"
     },
     "output_type": "display_data"
    }
   ],
   "source": [
    "sns.distplot(Data['cholesterol'])"
   ]
  },
  {
   "cell_type": "code",
   "execution_count": 22,
   "id": "1fd479dd",
   "metadata": {},
   "outputs": [
    {
     "data": {
      "image/png": "[encoded data removed]",
      "text/plain": [
       "<Figure size 432x288 with 1 Axes>"
      ]
     },
     "metadata": {
      "needs_background": "light"
     },
     "output_type": "display_data"
    }
   ],
   "source": [
    "Data[\"systolic_bp\"].hist()\n",
    "plt.title('systolic bp Distribution')\n",
    "plt.show()"
   ]
  },
  {
   "cell_type": "code",
   "execution_count": 23,
   "id": "8ce98e85",
   "metadata": {},
   "outputs": [
    {
     "data": {
      "image/png": "[encoded data removed]",
      "text/plain": [
       "<Figure size 432x288 with 1 Axes>"
      ]
     },
     "metadata": {
      "needs_background": "light"
     },
     "output_type": "display_data"
    }
   ],
   "source": [
    "Data[\"diastolic_bp\"].hist()\n",
    "plt.title('diastolic_bp Distribution')\n",
    "plt.show()"
   ]
  },
  {
   "cell_type": "code",
   "execution_count": 24,
   "id": "0cd2b0ba",
   "metadata": {},
   "outputs": [
    {
     "data": {
      "image/png": "[encoded data removed]",
      "text/plain": [
       "<Figure size 432x288 with 1 Axes>"
      ]
     },
     "metadata": {
      "needs_background": "light"
     },
     "output_type": "display_data"
    }
   ],
   "source": [
    "Data[\"cholesterol\"].hist()\n",
    "plt.title('Cholesrol Ditribution')\n",
    "plt.show()"
   ]
  },
  {
   "cell_type": "code",
   "execution_count": 25,
   "id": "a528191c",
   "metadata": {},
   "outputs": [
    {
     "data": {
      "image/png": "[encoded data removed]",
      "text/plain": [
       "<Figure size 432x288 with 1 Axes>"
      ]
     },
     "metadata": {
      "needs_background": "light"
     },
     "output_type": "display_data"
    }
   ],
   "source": [
    "Data['age'].hist()\n",
    "plt.title('age Distribution')\n",
    "plt.show()"
   ]
  },
  {
   "cell_type": "code",
   "execution_count": 26,
   "id": "2c29205e",
   "metadata": {},
   "outputs": [
    {
     "data": {
      "text/plain": [
       "1    3087\n",
       "0    2913\n",
       "Name: prognosis, dtype: int64"
      ]
     },
     "execution_count": 26,
     "metadata": {},
     "output_type": "execute_result"
    }
   ],
   "source": [
    "#checking the data is balanced or not\n",
    "Data['prognosis'].value_counts()"
   ]
  },
  {
   "cell_type": "code",
   "execution_count": 27,
   "id": "c5e028cc",
   "metadata": {},
   "outputs": [
    {
     "data": {
      "text/plain": [
       "<AxesSubplot:xlabel='prognosis', ylabel='count'>"
      ]
     },
     "execution_count": 27,
     "metadata": {},
     "output_type": "execute_result"
    },
    {
     "data": {
      "image/png": "[encoded data removed]",
      "text/plain": [
       "<Figure size 720x360 with 1 Axes>"
      ]
     },
     "metadata": {
      "needs_background": "light"
     },
     "output_type": "display_data"
    }
   ],
   "source": [
    "plt.figure(figsize=(10,5))\n",
    "sns.countplot(Data['prognosis'])"
   ]
  },
  {
   "cell_type": "code",
   "execution_count": 28,
   "id": "6ef77d5f",
   "metadata": {
    "scrolled": false
   },
   "outputs": [
    {
     "data": {
      "text/plain": [
       "<AxesSubplot:xlabel='prognosis', ylabel='age'>"
      ]
     },
     "execution_count": 28,
     "metadata": {},
     "output_type": "execute_result"
    },
    {
     "data": {
      "image/png": "[encoded data removed]",
      "text/plain": [
       "<Figure size 432x288 with 1 Axes>"
      ]
     },
     "metadata": {
      "needs_background": "light"
     },
     "output_type": "display_data"
    }
   ],
   "source": [
    "sns.boxplot(x='prognosis',y='age',data=Data)"
   ]
  },
  {
   "cell_type": "code",
   "execution_count": 29,
   "id": "32231884",
   "metadata": {},
   "outputs": [
    {
     "data": {
      "text/plain": [
       "<AxesSubplot:xlabel='age'>"
      ]
     },
     "execution_count": 29,
     "metadata": {},
     "output_type": "execute_result"
    },
    {
     "data": {
      "image/png": "[encoded data removed]",
      "text/plain": [
       "<Figure size 432x288 with 1 Axes>"
      ]
     },
     "metadata": {
      "needs_background": "light"
     },
     "output_type": "display_data"
    }
   ],
   "source": [
    "sns.boxplot('age',data=Data)"
   ]
  },
  {
   "cell_type": "code",
   "execution_count": 30,
   "id": "814751e0",
   "metadata": {},
   "outputs": [
    {
     "data": {
      "text/html": [
       "<div>\n",
       "<style scoped>\n",
       "    .dataframe tbody tr th:only-of-type {\n",
       "        vertical-align: middle;\n",
       "    }\n",
       "\n",
       "    .dataframe tbody tr th {\n",
       "        vertical-align: top;\n",
       "    }\n",
       "\n",
       "    .dataframe thead th {\n",
       "        text-align: right;\n",
       "    }\n",
       "</style>\n",
       "<table border=\"1\" class=\"dataframe\">\n",
       "  <thead>\n",
       "    <tr style=\"text-align: right;\">\n",
       "      <th></th>\n",
       "      <th>age</th>\n",
       "      <th>systolic_bp</th>\n",
       "      <th>diastolic_bp</th>\n",
       "      <th>cholesterol</th>\n",
       "      <th>prognosis</th>\n",
       "    </tr>\n",
       "  </thead>\n",
       "  <tbody>\n",
       "    <tr>\n",
       "      <th>24</th>\n",
       "      <td>82.979636</td>\n",
       "      <td>100.211368</td>\n",
       "      <td>86.173067</td>\n",
       "      <td>97.026684</td>\n",
       "      <td>1</td>\n",
       "    </tr>\n",
       "    <tr>\n",
       "      <th>144</th>\n",
       "      <td>84.334735</td>\n",
       "      <td>120.766914</td>\n",
       "      <td>94.047859</td>\n",
       "      <td>107.825557</td>\n",
       "      <td>1</td>\n",
       "    </tr>\n",
       "    <tr>\n",
       "      <th>292</th>\n",
       "      <td>83.385591</td>\n",
       "      <td>99.193072</td>\n",
       "      <td>91.498595</td>\n",
       "      <td>94.259227</td>\n",
       "      <td>1</td>\n",
       "    </tr>\n",
       "    <tr>\n",
       "      <th>465</th>\n",
       "      <td>84.688583</td>\n",
       "      <td>100.999339</td>\n",
       "      <td>88.130268</td>\n",
       "      <td>99.921832</td>\n",
       "      <td>1</td>\n",
       "    </tr>\n",
       "    <tr>\n",
       "      <th>494</th>\n",
       "      <td>88.192280</td>\n",
       "      <td>105.019242</td>\n",
       "      <td>96.770507</td>\n",
       "      <td>102.213642</td>\n",
       "      <td>1</td>\n",
       "    </tr>\n",
       "    <tr>\n",
       "      <th>...</th>\n",
       "      <td>...</td>\n",
       "      <td>...</td>\n",
       "      <td>...</td>\n",
       "      <td>...</td>\n",
       "      <td>...</td>\n",
       "    </tr>\n",
       "    <tr>\n",
       "      <th>5665</th>\n",
       "      <td>87.362573</td>\n",
       "      <td>98.688430</td>\n",
       "      <td>96.728927</td>\n",
       "      <td>97.918917</td>\n",
       "      <td>1</td>\n",
       "    </tr>\n",
       "    <tr>\n",
       "      <th>5681</th>\n",
       "      <td>86.207819</td>\n",
       "      <td>79.627072</td>\n",
       "      <td>83.980721</td>\n",
       "      <td>95.032315</td>\n",
       "      <td>1</td>\n",
       "    </tr>\n",
       "    <tr>\n",
       "      <th>5894</th>\n",
       "      <td>85.331533</td>\n",
       "      <td>94.221222</td>\n",
       "      <td>106.305896</td>\n",
       "      <td>111.711281</td>\n",
       "      <td>1</td>\n",
       "    </tr>\n",
       "    <tr>\n",
       "      <th>5959</th>\n",
       "      <td>89.839618</td>\n",
       "      <td>102.447308</td>\n",
       "      <td>107.572729</td>\n",
       "      <td>107.965425</td>\n",
       "      <td>1</td>\n",
       "    </tr>\n",
       "    <tr>\n",
       "      <th>5970</th>\n",
       "      <td>85.180507</td>\n",
       "      <td>120.106129</td>\n",
       "      <td>92.605936</td>\n",
       "      <td>125.065534</td>\n",
       "      <td>1</td>\n",
       "    </tr>\n",
       "  </tbody>\n",
       "</table>\n",
       "<p>65 rows × 5 columns</p>\n",
       "</div>"
      ],
      "text/plain": [
       "            age  systolic_bp  diastolic_bp  cholesterol  prognosis\n",
       "24    82.979636   100.211368     86.173067    97.026684          1\n",
       "144   84.334735   120.766914     94.047859   107.825557          1\n",
       "292   83.385591    99.193072     91.498595    94.259227          1\n",
       "465   84.688583   100.999339     88.130268    99.921832          1\n",
       "494   88.192280   105.019242     96.770507   102.213642          1\n",
       "...         ...          ...           ...          ...        ...\n",
       "5665  87.362573    98.688430     96.728927    97.918917          1\n",
       "5681  86.207819    79.627072     83.980721    95.032315          1\n",
       "5894  85.331533    94.221222    106.305896   111.711281          1\n",
       "5959  89.839618   102.447308    107.572729   107.965425          1\n",
       "5970  85.180507   120.106129     92.605936   125.065534          1\n",
       "\n",
       "[65 rows x 5 columns]"
      ]
     },
     "execution_count": 30,
     "metadata": {},
     "output_type": "execute_result"
    }
   ],
   "source": [
    "Q1 = Data.age.quantile(0.25)\n",
    "Q3 = Data.age.quantile(0.75)\n",
    "\n",
    "\n",
    "IQR = Q3 - Q1\n",
    "lower_limit = Q1 - 1.5*IQR\n",
    "upper_limit = Q3 + 1.5*IQR\n",
    "lower_limit,upper_limit\n",
    "\n",
    "Data1 =Data[(Data.age<lower_limit)|(Data.age>upper_limit)]\n",
    "Data1"
   ]
  },
  {
   "cell_type": "code",
   "execution_count": 31,
   "id": "a64effeb",
   "metadata": {
    "scrolled": false
   },
   "outputs": [
    {
     "data": {
      "text/plain": [
       "<AxesSubplot:xlabel='prognosis', ylabel='systolic_bp'>"
      ]
     },
     "execution_count": 31,
     "metadata": {},
     "output_type": "execute_result"
    },
    {
     "data": {
      "image/png": "[encoded data removed]",
      "text/plain": [
       "<Figure size 432x288 with 1 Axes>"
      ]
     },
     "metadata": {
      "needs_background": "light"
     },
     "output_type": "display_data"
    }
   ],
   "source": [
    "sns.boxplot(x='prognosis',y='systolic_bp',data=Data)"
   ]
  },
  {
   "cell_type": "code",
   "execution_count": 32,
   "id": "4f802a18",
   "metadata": {},
   "outputs": [
    {
     "data": {
      "text/plain": [
       "<AxesSubplot:xlabel='systolic_bp'>"
      ]
     },
     "execution_count": 32,
     "metadata": {},
     "output_type": "execute_result"
    },
    {
     "data": {
      "image/png": "[encoded data removed]",
      "text/plain": [
       "<Figure size 432x288 with 1 Axes>"
      ]
     },
     "metadata": {
      "needs_background": "light"
     },
     "output_type": "display_data"
    }
   ],
   "source": [
    "sns.boxplot('systolic_bp',data=Data)"
   ]
  },
  {
   "cell_type": "code",
   "execution_count": 33,
   "id": "43dcc308",
   "metadata": {
    "scrolled": true
   },
   "outputs": [
    {
     "data": {
      "text/html": [
       "<div>\n",
       "<style scoped>\n",
       "    .dataframe tbody tr th:only-of-type {\n",
       "        vertical-align: middle;\n",
       "    }\n",
       "\n",
       "    .dataframe tbody tr th {\n",
       "        vertical-align: top;\n",
       "    }\n",
       "\n",
       "    .dataframe thead th {\n",
       "        text-align: right;\n",
       "    }\n",
       "</style>\n",
       "<table border=\"1\" class=\"dataframe\">\n",
       "  <thead>\n",
       "    <tr style=\"text-align: right;\">\n",
       "      <th></th>\n",
       "      <th>age</th>\n",
       "      <th>systolic_bp</th>\n",
       "      <th>diastolic_bp</th>\n",
       "      <th>cholesterol</th>\n",
       "      <th>prognosis</th>\n",
       "    </tr>\n",
       "  </thead>\n",
       "  <tbody>\n",
       "    <tr>\n",
       "      <th>41</th>\n",
       "      <td>48.983566</td>\n",
       "      <td>131.120992</td>\n",
       "      <td>92.913213</td>\n",
       "      <td>105.666027</td>\n",
       "      <td>1</td>\n",
       "    </tr>\n",
       "    <tr>\n",
       "      <th>140</th>\n",
       "      <td>48.487584</td>\n",
       "      <td>132.133052</td>\n",
       "      <td>104.744896</td>\n",
       "      <td>111.873003</td>\n",
       "      <td>1</td>\n",
       "    </tr>\n",
       "    <tr>\n",
       "      <th>276</th>\n",
       "      <td>64.384898</td>\n",
       "      <td>132.548669</td>\n",
       "      <td>87.304374</td>\n",
       "      <td>100.381664</td>\n",
       "      <td>1</td>\n",
       "    </tr>\n",
       "    <tr>\n",
       "      <th>367</th>\n",
       "      <td>56.709259</td>\n",
       "      <td>136.298251</td>\n",
       "      <td>113.124571</td>\n",
       "      <td>111.942364</td>\n",
       "      <td>1</td>\n",
       "    </tr>\n",
       "    <tr>\n",
       "      <th>389</th>\n",
       "      <td>61.424309</td>\n",
       "      <td>133.231311</td>\n",
       "      <td>105.036232</td>\n",
       "      <td>105.950199</td>\n",
       "      <td>1</td>\n",
       "    </tr>\n",
       "    <tr>\n",
       "      <th>466</th>\n",
       "      <td>52.306971</td>\n",
       "      <td>132.681115</td>\n",
       "      <td>93.416624</td>\n",
       "      <td>116.187328</td>\n",
       "      <td>1</td>\n",
       "    </tr>\n",
       "    <tr>\n",
       "      <th>504</th>\n",
       "      <td>57.094555</td>\n",
       "      <td>133.972478</td>\n",
       "      <td>91.472213</td>\n",
       "      <td>109.131733</td>\n",
       "      <td>1</td>\n",
       "    </tr>\n",
       "    <tr>\n",
       "      <th>534</th>\n",
       "      <td>49.975447</td>\n",
       "      <td>133.442836</td>\n",
       "      <td>89.371453</td>\n",
       "      <td>117.593901</td>\n",
       "      <td>1</td>\n",
       "    </tr>\n",
       "    <tr>\n",
       "      <th>543</th>\n",
       "      <td>74.532779</td>\n",
       "      <td>129.121586</td>\n",
       "      <td>86.182661</td>\n",
       "      <td>106.376069</td>\n",
       "      <td>1</td>\n",
       "    </tr>\n",
       "    <tr>\n",
       "      <th>601</th>\n",
       "      <td>63.685795</td>\n",
       "      <td>131.800197</td>\n",
       "      <td>87.750273</td>\n",
       "      <td>116.396646</td>\n",
       "      <td>1</td>\n",
       "    </tr>\n",
       "    <tr>\n",
       "      <th>927</th>\n",
       "      <td>57.815802</td>\n",
       "      <td>131.114228</td>\n",
       "      <td>116.533523</td>\n",
       "      <td>123.362645</td>\n",
       "      <td>1</td>\n",
       "    </tr>\n",
       "    <tr>\n",
       "      <th>997</th>\n",
       "      <td>60.812819</td>\n",
       "      <td>129.190901</td>\n",
       "      <td>97.794610</td>\n",
       "      <td>102.237799</td>\n",
       "      <td>1</td>\n",
       "    </tr>\n",
       "    <tr>\n",
       "      <th>1004</th>\n",
       "      <td>61.986933</td>\n",
       "      <td>128.745082</td>\n",
       "      <td>111.575316</td>\n",
       "      <td>115.623253</td>\n",
       "      <td>1</td>\n",
       "    </tr>\n",
       "    <tr>\n",
       "      <th>1032</th>\n",
       "      <td>58.252152</td>\n",
       "      <td>136.205482</td>\n",
       "      <td>97.084642</td>\n",
       "      <td>129.562672</td>\n",
       "      <td>1</td>\n",
       "    </tr>\n",
       "    <tr>\n",
       "      <th>1413</th>\n",
       "      <td>54.124284</td>\n",
       "      <td>133.747265</td>\n",
       "      <td>91.145666</td>\n",
       "      <td>92.757082</td>\n",
       "      <td>1</td>\n",
       "    </tr>\n",
       "    <tr>\n",
       "      <th>1442</th>\n",
       "      <td>68.031559</td>\n",
       "      <td>135.140513</td>\n",
       "      <td>101.859688</td>\n",
       "      <td>113.009675</td>\n",
       "      <td>1</td>\n",
       "    </tr>\n",
       "    <tr>\n",
       "      <th>1508</th>\n",
       "      <td>69.800011</td>\n",
       "      <td>131.948163</td>\n",
       "      <td>97.560535</td>\n",
       "      <td>107.766495</td>\n",
       "      <td>1</td>\n",
       "    </tr>\n",
       "    <tr>\n",
       "      <th>1588</th>\n",
       "      <td>68.491526</td>\n",
       "      <td>137.785774</td>\n",
       "      <td>90.876388</td>\n",
       "      <td>94.170196</td>\n",
       "      <td>1</td>\n",
       "    </tr>\n",
       "    <tr>\n",
       "      <th>1802</th>\n",
       "      <td>73.615400</td>\n",
       "      <td>130.691845</td>\n",
       "      <td>103.589920</td>\n",
       "      <td>108.471530</td>\n",
       "      <td>1</td>\n",
       "    </tr>\n",
       "    <tr>\n",
       "      <th>2037</th>\n",
       "      <td>74.305798</td>\n",
       "      <td>71.998590</td>\n",
       "      <td>84.715959</td>\n",
       "      <td>71.777424</td>\n",
       "      <td>0</td>\n",
       "    </tr>\n",
       "    <tr>\n",
       "      <th>2057</th>\n",
       "      <td>54.643734</td>\n",
       "      <td>129.264088</td>\n",
       "      <td>100.970192</td>\n",
       "      <td>116.075067</td>\n",
       "      <td>1</td>\n",
       "    </tr>\n",
       "    <tr>\n",
       "      <th>2062</th>\n",
       "      <td>68.977371</td>\n",
       "      <td>69.675429</td>\n",
       "      <td>77.922442</td>\n",
       "      <td>88.682708</td>\n",
       "      <td>0</td>\n",
       "    </tr>\n",
       "    <tr>\n",
       "      <th>2388</th>\n",
       "      <td>57.843431</td>\n",
       "      <td>129.083308</td>\n",
       "      <td>108.709958</td>\n",
       "      <td>125.206436</td>\n",
       "      <td>1</td>\n",
       "    </tr>\n",
       "    <tr>\n",
       "      <th>2605</th>\n",
       "      <td>52.830968</td>\n",
       "      <td>150.670082</td>\n",
       "      <td>113.691693</td>\n",
       "      <td>129.862805</td>\n",
       "      <td>1</td>\n",
       "    </tr>\n",
       "    <tr>\n",
       "      <th>2690</th>\n",
       "      <td>58.446822</td>\n",
       "      <td>135.409354</td>\n",
       "      <td>109.254995</td>\n",
       "      <td>93.978299</td>\n",
       "      <td>1</td>\n",
       "    </tr>\n",
       "    <tr>\n",
       "      <th>3047</th>\n",
       "      <td>81.688878</td>\n",
       "      <td>131.517979</td>\n",
       "      <td>93.078759</td>\n",
       "      <td>123.475622</td>\n",
       "      <td>1</td>\n",
       "    </tr>\n",
       "    <tr>\n",
       "      <th>3118</th>\n",
       "      <td>103.279497</td>\n",
       "      <td>132.189203</td>\n",
       "      <td>86.577142</td>\n",
       "      <td>109.353330</td>\n",
       "      <td>1</td>\n",
       "    </tr>\n",
       "    <tr>\n",
       "      <th>3198</th>\n",
       "      <td>61.133905</td>\n",
       "      <td>136.061132</td>\n",
       "      <td>106.924470</td>\n",
       "      <td>127.694375</td>\n",
       "      <td>1</td>\n",
       "    </tr>\n",
       "    <tr>\n",
       "      <th>3277</th>\n",
       "      <td>68.948234</td>\n",
       "      <td>133.725316</td>\n",
       "      <td>105.559156</td>\n",
       "      <td>108.726828</td>\n",
       "      <td>1</td>\n",
       "    </tr>\n",
       "    <tr>\n",
       "      <th>3501</th>\n",
       "      <td>73.775680</td>\n",
       "      <td>130.721251</td>\n",
       "      <td>101.203003</td>\n",
       "      <td>105.198962</td>\n",
       "      <td>1</td>\n",
       "    </tr>\n",
       "    <tr>\n",
       "      <th>3633</th>\n",
       "      <td>51.139396</td>\n",
       "      <td>131.830814</td>\n",
       "      <td>99.652491</td>\n",
       "      <td>100.270510</td>\n",
       "      <td>1</td>\n",
       "    </tr>\n",
       "    <tr>\n",
       "      <th>3654</th>\n",
       "      <td>57.227391</td>\n",
       "      <td>129.868650</td>\n",
       "      <td>89.781223</td>\n",
       "      <td>106.606465</td>\n",
       "      <td>1</td>\n",
       "    </tr>\n",
       "    <tr>\n",
       "      <th>3686</th>\n",
       "      <td>58.960883</td>\n",
       "      <td>129.258220</td>\n",
       "      <td>106.681912</td>\n",
       "      <td>115.396088</td>\n",
       "      <td>1</td>\n",
       "    </tr>\n",
       "    <tr>\n",
       "      <th>3723</th>\n",
       "      <td>56.157936</td>\n",
       "      <td>128.981827</td>\n",
       "      <td>87.377029</td>\n",
       "      <td>109.478077</td>\n",
       "      <td>1</td>\n",
       "    </tr>\n",
       "    <tr>\n",
       "      <th>3743</th>\n",
       "      <td>45.602295</td>\n",
       "      <td>129.130767</td>\n",
       "      <td>92.849088</td>\n",
       "      <td>113.948251</td>\n",
       "      <td>1</td>\n",
       "    </tr>\n",
       "    <tr>\n",
       "      <th>3866</th>\n",
       "      <td>73.209218</td>\n",
       "      <td>133.261814</td>\n",
       "      <td>94.604826</td>\n",
       "      <td>109.659170</td>\n",
       "      <td>1</td>\n",
       "    </tr>\n",
       "    <tr>\n",
       "      <th>3983</th>\n",
       "      <td>59.406482</td>\n",
       "      <td>129.417745</td>\n",
       "      <td>104.663990</td>\n",
       "      <td>111.936021</td>\n",
       "      <td>1</td>\n",
       "    </tr>\n",
       "    <tr>\n",
       "      <th>4032</th>\n",
       "      <td>69.982603</td>\n",
       "      <td>134.669899</td>\n",
       "      <td>99.559831</td>\n",
       "      <td>108.826165</td>\n",
       "      <td>1</td>\n",
       "    </tr>\n",
       "    <tr>\n",
       "      <th>4610</th>\n",
       "      <td>69.406832</td>\n",
       "      <td>137.669708</td>\n",
       "      <td>96.096130</td>\n",
       "      <td>115.082940</td>\n",
       "      <td>1</td>\n",
       "    </tr>\n",
       "    <tr>\n",
       "      <th>4668</th>\n",
       "      <td>56.272190</td>\n",
       "      <td>129.473490</td>\n",
       "      <td>106.737267</td>\n",
       "      <td>120.258410</td>\n",
       "      <td>1</td>\n",
       "    </tr>\n",
       "    <tr>\n",
       "      <th>4755</th>\n",
       "      <td>61.238466</td>\n",
       "      <td>143.062378</td>\n",
       "      <td>116.420401</td>\n",
       "      <td>128.983542</td>\n",
       "      <td>1</td>\n",
       "    </tr>\n",
       "    <tr>\n",
       "      <th>4858</th>\n",
       "      <td>62.885102</td>\n",
       "      <td>133.190387</td>\n",
       "      <td>119.414219</td>\n",
       "      <td>104.180112</td>\n",
       "      <td>1</td>\n",
       "    </tr>\n",
       "    <tr>\n",
       "      <th>4873</th>\n",
       "      <td>58.238165</td>\n",
       "      <td>134.798196</td>\n",
       "      <td>121.820043</td>\n",
       "      <td>129.994146</td>\n",
       "      <td>1</td>\n",
       "    </tr>\n",
       "    <tr>\n",
       "      <th>5014</th>\n",
       "      <td>51.153768</td>\n",
       "      <td>133.628692</td>\n",
       "      <td>95.619152</td>\n",
       "      <td>124.252990</td>\n",
       "      <td>1</td>\n",
       "    </tr>\n",
       "    <tr>\n",
       "      <th>5049</th>\n",
       "      <td>67.760157</td>\n",
       "      <td>131.115824</td>\n",
       "      <td>95.672802</td>\n",
       "      <td>112.853779</td>\n",
       "      <td>1</td>\n",
       "    </tr>\n",
       "    <tr>\n",
       "      <th>5311</th>\n",
       "      <td>65.121917</td>\n",
       "      <td>143.742866</td>\n",
       "      <td>89.021066</td>\n",
       "      <td>100.947261</td>\n",
       "      <td>1</td>\n",
       "    </tr>\n",
       "    <tr>\n",
       "      <th>5366</th>\n",
       "      <td>61.216492</td>\n",
       "      <td>70.095126</td>\n",
       "      <td>74.824565</td>\n",
       "      <td>88.421307</td>\n",
       "      <td>0</td>\n",
       "    </tr>\n",
       "    <tr>\n",
       "      <th>5395</th>\n",
       "      <td>60.985392</td>\n",
       "      <td>71.546061</td>\n",
       "      <td>73.640541</td>\n",
       "      <td>77.061173</td>\n",
       "      <td>0</td>\n",
       "    </tr>\n",
       "    <tr>\n",
       "      <th>5581</th>\n",
       "      <td>76.094513</td>\n",
       "      <td>132.127969</td>\n",
       "      <td>93.257971</td>\n",
       "      <td>99.540052</td>\n",
       "      <td>1</td>\n",
       "    </tr>\n",
       "    <tr>\n",
       "      <th>5604</th>\n",
       "      <td>62.961418</td>\n",
       "      <td>70.925136</td>\n",
       "      <td>73.443589</td>\n",
       "      <td>99.688017</td>\n",
       "      <td>0</td>\n",
       "    </tr>\n",
       "    <tr>\n",
       "      <th>5616</th>\n",
       "      <td>55.313557</td>\n",
       "      <td>128.808759</td>\n",
       "      <td>106.652282</td>\n",
       "      <td>130.790049</td>\n",
       "      <td>1</td>\n",
       "    </tr>\n",
       "    <tr>\n",
       "      <th>5662</th>\n",
       "      <td>53.912866</td>\n",
       "      <td>151.699660</td>\n",
       "      <td>98.810241</td>\n",
       "      <td>97.405774</td>\n",
       "      <td>0</td>\n",
       "    </tr>\n",
       "    <tr>\n",
       "      <th>5764</th>\n",
       "      <td>52.288419</td>\n",
       "      <td>130.566190</td>\n",
       "      <td>104.364301</td>\n",
       "      <td>110.790714</td>\n",
       "      <td>0</td>\n",
       "    </tr>\n",
       "    <tr>\n",
       "      <th>5790</th>\n",
       "      <td>67.621061</td>\n",
       "      <td>136.768467</td>\n",
       "      <td>103.303347</td>\n",
       "      <td>108.764018</td>\n",
       "      <td>1</td>\n",
       "    </tr>\n",
       "    <tr>\n",
       "      <th>5834</th>\n",
       "      <td>70.418413</td>\n",
       "      <td>128.912234</td>\n",
       "      <td>112.002059</td>\n",
       "      <td>108.351002</td>\n",
       "      <td>1</td>\n",
       "    </tr>\n",
       "  </tbody>\n",
       "</table>\n",
       "</div>"
      ],
      "text/plain": [
       "             age  systolic_bp  diastolic_bp  cholesterol  prognosis\n",
       "41     48.983566   131.120992     92.913213   105.666027          1\n",
       "140    48.487584   132.133052    104.744896   111.873003          1\n",
       "276    64.384898   132.548669     87.304374   100.381664          1\n",
       "367    56.709259   136.298251    113.124571   111.942364          1\n",
       "389    61.424309   133.231311    105.036232   105.950199          1\n",
       "466    52.306971   132.681115     93.416624   116.187328          1\n",
       "504    57.094555   133.972478     91.472213   109.131733          1\n",
       "534    49.975447   133.442836     89.371453   117.593901          1\n",
       "543    74.532779   129.121586     86.182661   106.376069          1\n",
       "601    63.685795   131.800197     87.750273   116.396646          1\n",
       "927    57.815802   131.114228    116.533523   123.362645          1\n",
       "997    60.812819   129.190901     97.794610   102.237799          1\n",
       "1004   61.986933   128.745082    111.575316   115.623253          1\n",
       "1032   58.252152   136.205482     97.084642   129.562672          1\n",
       "1413   54.124284   133.747265     91.145666    92.757082          1\n",
       "1442   68.031559   135.140513    101.859688   113.009675          1\n",
       "1508   69.800011   131.948163     97.560535   107.766495          1\n",
       "1588   68.491526   137.785774     90.876388    94.170196          1\n",
       "1802   73.615400   130.691845    103.589920   108.471530          1\n",
       "2037   74.305798    71.998590     84.715959    71.777424          0\n",
       "2057   54.643734   129.264088    100.970192   116.075067          1\n",
       "2062   68.977371    69.675429     77.922442    88.682708          0\n",
       "2388   57.843431   129.083308    108.709958   125.206436          1\n",
       "2605   52.830968   150.670082    113.691693   129.862805          1\n",
       "2690   58.446822   135.409354    109.254995    93.978299          1\n",
       "3047   81.688878   131.517979     93.078759   123.475622          1\n",
       "3118  103.279497   132.189203     86.577142   109.353330          1\n",
       "3198   61.133905   136.061132    106.924470   127.694375          1\n",
       "3277   68.948234   133.725316    105.559156   108.726828          1\n",
       "3501   73.775680   130.721251    101.203003   105.198962          1\n",
       "3633   51.139396   131.830814     99.652491   100.270510          1\n",
       "3654   57.227391   129.868650     89.781223   106.606465          1\n",
       "3686   58.960883   129.258220    106.681912   115.396088          1\n",
       "3723   56.157936   128.981827     87.377029   109.478077          1\n",
       "3743   45.602295   129.130767     92.849088   113.948251          1\n",
       "3866   73.209218   133.261814     94.604826   109.659170          1\n",
       "3983   59.406482   129.417745    104.663990   111.936021          1\n",
       "4032   69.982603   134.669899     99.559831   108.826165          1\n",
       "4610   69.406832   137.669708     96.096130   115.082940          1\n",
       "4668   56.272190   129.473490    106.737267   120.258410          1\n",
       "4755   61.238466   143.062378    116.420401   128.983542          1\n",
       "4858   62.885102   133.190387    119.414219   104.180112          1\n",
       "4873   58.238165   134.798196    121.820043   129.994146          1\n",
       "5014   51.153768   133.628692     95.619152   124.252990          1\n",
       "5049   67.760157   131.115824     95.672802   112.853779          1\n",
       "5311   65.121917   143.742866     89.021066   100.947261          1\n",
       "5366   61.216492    70.095126     74.824565    88.421307          0\n",
       "5395   60.985392    71.546061     73.640541    77.061173          0\n",
       "5581   76.094513   132.127969     93.257971    99.540052          1\n",
       "5604   62.961418    70.925136     73.443589    99.688017          0\n",
       "5616   55.313557   128.808759    106.652282   130.790049          1\n",
       "5662   53.912866   151.699660     98.810241    97.405774          0\n",
       "5764   52.288419   130.566190    104.364301   110.790714          0\n",
       "5790   67.621061   136.768467    103.303347   108.764018          1\n",
       "5834   70.418413   128.912234    112.002059   108.351002          1"
      ]
     },
     "execution_count": 33,
     "metadata": {},
     "output_type": "execute_result"
    }
   ],
   "source": [
    "Q1 = Data.systolic_bp.quantile(0.25)\n",
    "Q3 = Data.systolic_bp.quantile(0.75)\n",
    "\n",
    "\n",
    "IQR = Q3 - Q1\n",
    "lower_limit = Q1 - 1.5*IQR\n",
    "upper_limit = Q3 + 1.5*IQR\n",
    "lower_limit,upper_limit\n",
    "\n",
    "Data2 =Data[(Data.systolic_bp<lower_limit)|(Data.systolic_bp>upper_limit)]\n",
    "Data2"
   ]
  },
  {
   "cell_type": "code",
   "execution_count": 34,
   "id": "a17a312e",
   "metadata": {
    "scrolled": false
   },
   "outputs": [
    {
     "data": {
      "text/plain": [
       "<AxesSubplot:xlabel='prognosis', ylabel='diastolic_bp'>"
      ]
     },
     "execution_count": 34,
     "metadata": {},
     "output_type": "execute_result"
    },
    {
     "data": {
      "image/png": "[encoded data removed]",
      "text/plain": [
       "<Figure size 432x288 with 1 Axes>"
      ]
     },
     "metadata": {
      "needs_background": "light"
     },
     "output_type": "display_data"
    }
   ],
   "source": [
    "sns.boxplot(x='prognosis',y='diastolic_bp',data=Data)"
   ]
  },
  {
   "cell_type": "code",
   "execution_count": 35,
   "id": "6434bc2d",
   "metadata": {},
   "outputs": [
    {
     "data": {
      "text/plain": [
       "<AxesSubplot:xlabel='diastolic_bp'>"
      ]
     },
     "execution_count": 35,
     "metadata": {},
     "output_type": "execute_result"
    },
    {
     "data": {
      "image/png": "[encoded data removed]",
      "text/plain": [
       "<Figure size 432x288 with 1 Axes>"
      ]
     },
     "metadata": {
      "needs_background": "light"
     },
     "output_type": "display_data"
    }
   ],
   "source": [
    "sns.boxplot('diastolic_bp',data=Data)"
   ]
  },
  {
   "cell_type": "code",
   "execution_count": 36,
   "id": "c5282189",
   "metadata": {
    "scrolled": true
   },
   "outputs": [
    {
     "data": {
      "text/html": [
       "<div>\n",
       "<style scoped>\n",
       "    .dataframe tbody tr th:only-of-type {\n",
       "        vertical-align: middle;\n",
       "    }\n",
       "\n",
       "    .dataframe tbody tr th {\n",
       "        vertical-align: top;\n",
       "    }\n",
       "\n",
       "    .dataframe thead th {\n",
       "        text-align: right;\n",
       "    }\n",
       "</style>\n",
       "<table border=\"1\" class=\"dataframe\">\n",
       "  <thead>\n",
       "    <tr style=\"text-align: right;\">\n",
       "      <th></th>\n",
       "      <th>age</th>\n",
       "      <th>systolic_bp</th>\n",
       "      <th>diastolic_bp</th>\n",
       "      <th>cholesterol</th>\n",
       "      <th>prognosis</th>\n",
       "    </tr>\n",
       "  </thead>\n",
       "  <tbody>\n",
       "    <tr>\n",
       "      <th>20</th>\n",
       "      <td>41.663762</td>\n",
       "      <td>113.817344</td>\n",
       "      <td>116.311952</td>\n",
       "      <td>117.852312</td>\n",
       "      <td>1</td>\n",
       "    </tr>\n",
       "    <tr>\n",
       "      <th>35</th>\n",
       "      <td>61.355212</td>\n",
       "      <td>97.823657</td>\n",
       "      <td>116.639356</td>\n",
       "      <td>111.179809</td>\n",
       "      <td>1</td>\n",
       "    </tr>\n",
       "    <tr>\n",
       "      <th>242</th>\n",
       "      <td>58.871766</td>\n",
       "      <td>97.247527</td>\n",
       "      <td>124.143136</td>\n",
       "      <td>96.775539</td>\n",
       "      <td>0</td>\n",
       "    </tr>\n",
       "    <tr>\n",
       "      <th>406</th>\n",
       "      <td>67.404012</td>\n",
       "      <td>104.409097</td>\n",
       "      <td>123.913707</td>\n",
       "      <td>108.544215</td>\n",
       "      <td>1</td>\n",
       "    </tr>\n",
       "    <tr>\n",
       "      <th>430</th>\n",
       "      <td>56.128985</td>\n",
       "      <td>118.542803</td>\n",
       "      <td>121.031955</td>\n",
       "      <td>119.820215</td>\n",
       "      <td>1</td>\n",
       "    </tr>\n",
       "    <tr>\n",
       "      <th>545</th>\n",
       "      <td>56.313788</td>\n",
       "      <td>102.927237</td>\n",
       "      <td>125.289993</td>\n",
       "      <td>116.587377</td>\n",
       "      <td>0</td>\n",
       "    </tr>\n",
       "    <tr>\n",
       "      <th>589</th>\n",
       "      <td>38.829539</td>\n",
       "      <td>106.671573</td>\n",
       "      <td>120.972543</td>\n",
       "      <td>107.418557</td>\n",
       "      <td>1</td>\n",
       "    </tr>\n",
       "    <tr>\n",
       "      <th>599</th>\n",
       "      <td>58.488598</td>\n",
       "      <td>118.127393</td>\n",
       "      <td>117.841303</td>\n",
       "      <td>93.380259</td>\n",
       "      <td>1</td>\n",
       "    </tr>\n",
       "    <tr>\n",
       "      <th>660</th>\n",
       "      <td>52.514843</td>\n",
       "      <td>109.308127</td>\n",
       "      <td>129.086305</td>\n",
       "      <td>106.808021</td>\n",
       "      <td>0</td>\n",
       "    </tr>\n",
       "    <tr>\n",
       "      <th>819</th>\n",
       "      <td>60.197121</td>\n",
       "      <td>110.094324</td>\n",
       "      <td>128.568519</td>\n",
       "      <td>131.925347</td>\n",
       "      <td>1</td>\n",
       "    </tr>\n",
       "    <tr>\n",
       "      <th>822</th>\n",
       "      <td>53.232881</td>\n",
       "      <td>101.620769</td>\n",
       "      <td>116.664238</td>\n",
       "      <td>119.096168</td>\n",
       "      <td>1</td>\n",
       "    </tr>\n",
       "    <tr>\n",
       "      <th>880</th>\n",
       "      <td>72.518310</td>\n",
       "      <td>96.955546</td>\n",
       "      <td>116.416732</td>\n",
       "      <td>97.989411</td>\n",
       "      <td>1</td>\n",
       "    </tr>\n",
       "    <tr>\n",
       "      <th>927</th>\n",
       "      <td>57.815802</td>\n",
       "      <td>131.114228</td>\n",
       "      <td>116.533523</td>\n",
       "      <td>123.362645</td>\n",
       "      <td>1</td>\n",
       "    </tr>\n",
       "    <tr>\n",
       "      <th>994</th>\n",
       "      <td>62.530066</td>\n",
       "      <td>116.089241</td>\n",
       "      <td>117.195368</td>\n",
       "      <td>117.449416</td>\n",
       "      <td>1</td>\n",
       "    </tr>\n",
       "    <tr>\n",
       "      <th>1179</th>\n",
       "      <td>69.136195</td>\n",
       "      <td>104.975099</td>\n",
       "      <td>118.839200</td>\n",
       "      <td>109.008546</td>\n",
       "      <td>1</td>\n",
       "    </tr>\n",
       "    <tr>\n",
       "      <th>1189</th>\n",
       "      <td>56.534139</td>\n",
       "      <td>123.143538</td>\n",
       "      <td>119.105337</td>\n",
       "      <td>105.071467</td>\n",
       "      <td>0</td>\n",
       "    </tr>\n",
       "    <tr>\n",
       "      <th>1267</th>\n",
       "      <td>82.670193</td>\n",
       "      <td>105.448673</td>\n",
       "      <td>117.458073</td>\n",
       "      <td>106.647082</td>\n",
       "      <td>1</td>\n",
       "    </tr>\n",
       "    <tr>\n",
       "      <th>1397</th>\n",
       "      <td>45.213993</td>\n",
       "      <td>127.260297</td>\n",
       "      <td>123.928961</td>\n",
       "      <td>105.960085</td>\n",
       "      <td>1</td>\n",
       "    </tr>\n",
       "    <tr>\n",
       "      <th>1608</th>\n",
       "      <td>56.664725</td>\n",
       "      <td>106.350373</td>\n",
       "      <td>117.172224</td>\n",
       "      <td>113.233902</td>\n",
       "      <td>1</td>\n",
       "    </tr>\n",
       "    <tr>\n",
       "      <th>1713</th>\n",
       "      <td>59.789945</td>\n",
       "      <td>115.433817</td>\n",
       "      <td>116.552503</td>\n",
       "      <td>98.379728</td>\n",
       "      <td>1</td>\n",
       "    </tr>\n",
       "    <tr>\n",
       "      <th>1760</th>\n",
       "      <td>63.536462</td>\n",
       "      <td>100.112540</td>\n",
       "      <td>123.903938</td>\n",
       "      <td>90.876591</td>\n",
       "      <td>0</td>\n",
       "    </tr>\n",
       "    <tr>\n",
       "      <th>1877</th>\n",
       "      <td>55.929804</td>\n",
       "      <td>112.925381</td>\n",
       "      <td>116.617231</td>\n",
       "      <td>120.424150</td>\n",
       "      <td>1</td>\n",
       "    </tr>\n",
       "    <tr>\n",
       "      <th>1891</th>\n",
       "      <td>77.566521</td>\n",
       "      <td>94.746164</td>\n",
       "      <td>118.628198</td>\n",
       "      <td>114.460192</td>\n",
       "      <td>1</td>\n",
       "    </tr>\n",
       "    <tr>\n",
       "      <th>1935</th>\n",
       "      <td>72.318871</td>\n",
       "      <td>126.000036</td>\n",
       "      <td>118.632604</td>\n",
       "      <td>110.848580</td>\n",
       "      <td>1</td>\n",
       "    </tr>\n",
       "    <tr>\n",
       "      <th>2007</th>\n",
       "      <td>56.016841</td>\n",
       "      <td>126.761344</td>\n",
       "      <td>118.888129</td>\n",
       "      <td>112.426764</td>\n",
       "      <td>1</td>\n",
       "    </tr>\n",
       "    <tr>\n",
       "      <th>2110</th>\n",
       "      <td>76.611699</td>\n",
       "      <td>125.990003</td>\n",
       "      <td>120.627887</td>\n",
       "      <td>104.320675</td>\n",
       "      <td>1</td>\n",
       "    </tr>\n",
       "    <tr>\n",
       "      <th>2129</th>\n",
       "      <td>65.971464</td>\n",
       "      <td>75.980499</td>\n",
       "      <td>63.131292</td>\n",
       "      <td>85.376097</td>\n",
       "      <td>0</td>\n",
       "    </tr>\n",
       "    <tr>\n",
       "      <th>2292</th>\n",
       "      <td>63.008066</td>\n",
       "      <td>91.805246</td>\n",
       "      <td>62.807105</td>\n",
       "      <td>80.572377</td>\n",
       "      <td>1</td>\n",
       "    </tr>\n",
       "    <tr>\n",
       "      <th>2333</th>\n",
       "      <td>50.412889</td>\n",
       "      <td>113.679011</td>\n",
       "      <td>121.968379</td>\n",
       "      <td>125.717840</td>\n",
       "      <td>0</td>\n",
       "    </tr>\n",
       "    <tr>\n",
       "      <th>2563</th>\n",
       "      <td>49.887624</td>\n",
       "      <td>106.278989</td>\n",
       "      <td>119.320220</td>\n",
       "      <td>112.341135</td>\n",
       "      <td>1</td>\n",
       "    </tr>\n",
       "    <tr>\n",
       "      <th>3006</th>\n",
       "      <td>60.735204</td>\n",
       "      <td>102.924001</td>\n",
       "      <td>128.218608</td>\n",
       "      <td>100.194761</td>\n",
       "      <td>0</td>\n",
       "    </tr>\n",
       "    <tr>\n",
       "      <th>3015</th>\n",
       "      <td>61.165640</td>\n",
       "      <td>100.301118</td>\n",
       "      <td>119.799387</td>\n",
       "      <td>104.415647</td>\n",
       "      <td>1</td>\n",
       "    </tr>\n",
       "    <tr>\n",
       "      <th>3112</th>\n",
       "      <td>64.918101</td>\n",
       "      <td>95.445886</td>\n",
       "      <td>118.773267</td>\n",
       "      <td>106.676410</td>\n",
       "      <td>0</td>\n",
       "    </tr>\n",
       "    <tr>\n",
       "      <th>3202</th>\n",
       "      <td>49.206488</td>\n",
       "      <td>95.037278</td>\n",
       "      <td>63.628335</td>\n",
       "      <td>93.579483</td>\n",
       "      <td>0</td>\n",
       "    </tr>\n",
       "    <tr>\n",
       "      <th>3454</th>\n",
       "      <td>43.154175</td>\n",
       "      <td>77.415566</td>\n",
       "      <td>63.583638</td>\n",
       "      <td>75.732215</td>\n",
       "      <td>0</td>\n",
       "    </tr>\n",
       "    <tr>\n",
       "      <th>4013</th>\n",
       "      <td>45.473308</td>\n",
       "      <td>119.904383</td>\n",
       "      <td>118.460035</td>\n",
       "      <td>120.818547</td>\n",
       "      <td>0</td>\n",
       "    </tr>\n",
       "    <tr>\n",
       "      <th>4163</th>\n",
       "      <td>68.361015</td>\n",
       "      <td>75.521545</td>\n",
       "      <td>64.065367</td>\n",
       "      <td>89.098375</td>\n",
       "      <td>1</td>\n",
       "    </tr>\n",
       "    <tr>\n",
       "      <th>4208</th>\n",
       "      <td>52.463106</td>\n",
       "      <td>103.967595</td>\n",
       "      <td>119.495425</td>\n",
       "      <td>99.112624</td>\n",
       "      <td>0</td>\n",
       "    </tr>\n",
       "    <tr>\n",
       "      <th>4279</th>\n",
       "      <td>58.228640</td>\n",
       "      <td>112.711201</td>\n",
       "      <td>120.610227</td>\n",
       "      <td>112.390034</td>\n",
       "      <td>1</td>\n",
       "    </tr>\n",
       "    <tr>\n",
       "      <th>4319</th>\n",
       "      <td>59.066355</td>\n",
       "      <td>125.342118</td>\n",
       "      <td>120.543885</td>\n",
       "      <td>117.570998</td>\n",
       "      <td>1</td>\n",
       "    </tr>\n",
       "    <tr>\n",
       "      <th>4388</th>\n",
       "      <td>57.807685</td>\n",
       "      <td>98.510114</td>\n",
       "      <td>133.456382</td>\n",
       "      <td>99.764970</td>\n",
       "      <td>0</td>\n",
       "    </tr>\n",
       "    <tr>\n",
       "      <th>4421</th>\n",
       "      <td>63.980320</td>\n",
       "      <td>108.108467</td>\n",
       "      <td>116.622969</td>\n",
       "      <td>109.493189</td>\n",
       "      <td>0</td>\n",
       "    </tr>\n",
       "    <tr>\n",
       "      <th>4472</th>\n",
       "      <td>87.828897</td>\n",
       "      <td>105.897902</td>\n",
       "      <td>121.732205</td>\n",
       "      <td>100.396401</td>\n",
       "      <td>1</td>\n",
       "    </tr>\n",
       "    <tr>\n",
       "      <th>4663</th>\n",
       "      <td>72.591803</td>\n",
       "      <td>94.089075</td>\n",
       "      <td>62.906074</td>\n",
       "      <td>84.592740</td>\n",
       "      <td>1</td>\n",
       "    </tr>\n",
       "    <tr>\n",
       "      <th>4755</th>\n",
       "      <td>61.238466</td>\n",
       "      <td>143.062378</td>\n",
       "      <td>116.420401</td>\n",
       "      <td>128.983542</td>\n",
       "      <td>1</td>\n",
       "    </tr>\n",
       "    <tr>\n",
       "      <th>4858</th>\n",
       "      <td>62.885102</td>\n",
       "      <td>133.190387</td>\n",
       "      <td>119.414219</td>\n",
       "      <td>104.180112</td>\n",
       "      <td>1</td>\n",
       "    </tr>\n",
       "    <tr>\n",
       "      <th>4873</th>\n",
       "      <td>58.238165</td>\n",
       "      <td>134.798196</td>\n",
       "      <td>121.820043</td>\n",
       "      <td>129.994146</td>\n",
       "      <td>1</td>\n",
       "    </tr>\n",
       "    <tr>\n",
       "      <th>4886</th>\n",
       "      <td>67.461640</td>\n",
       "      <td>109.394057</td>\n",
       "      <td>117.753062</td>\n",
       "      <td>136.812161</td>\n",
       "      <td>1</td>\n",
       "    </tr>\n",
       "    <tr>\n",
       "      <th>5394</th>\n",
       "      <td>57.177355</td>\n",
       "      <td>119.120609</td>\n",
       "      <td>118.374395</td>\n",
       "      <td>97.392700</td>\n",
       "      <td>1</td>\n",
       "    </tr>\n",
       "    <tr>\n",
       "      <th>5429</th>\n",
       "      <td>61.932287</td>\n",
       "      <td>105.754866</td>\n",
       "      <td>117.400561</td>\n",
       "      <td>134.705126</td>\n",
       "      <td>1</td>\n",
       "    </tr>\n",
       "    <tr>\n",
       "      <th>5488</th>\n",
       "      <td>67.218965</td>\n",
       "      <td>114.717124</td>\n",
       "      <td>119.811849</td>\n",
       "      <td>116.350418</td>\n",
       "      <td>1</td>\n",
       "    </tr>\n",
       "    <tr>\n",
       "      <th>5525</th>\n",
       "      <td>51.572812</td>\n",
       "      <td>102.746504</td>\n",
       "      <td>63.844792</td>\n",
       "      <td>105.194116</td>\n",
       "      <td>0</td>\n",
       "    </tr>\n",
       "    <tr>\n",
       "      <th>5647</th>\n",
       "      <td>66.543925</td>\n",
       "      <td>116.759120</td>\n",
       "      <td>118.732710</td>\n",
       "      <td>104.029505</td>\n",
       "      <td>1</td>\n",
       "    </tr>\n",
       "    <tr>\n",
       "      <th>5667</th>\n",
       "      <td>70.100397</td>\n",
       "      <td>111.444865</td>\n",
       "      <td>121.715752</td>\n",
       "      <td>110.120795</td>\n",
       "      <td>1</td>\n",
       "    </tr>\n",
       "    <tr>\n",
       "      <th>5930</th>\n",
       "      <td>53.933772</td>\n",
       "      <td>101.136214</td>\n",
       "      <td>117.908153</td>\n",
       "      <td>103.203283</td>\n",
       "      <td>1</td>\n",
       "    </tr>\n",
       "  </tbody>\n",
       "</table>\n",
       "</div>"
      ],
      "text/plain": [
       "            age  systolic_bp  diastolic_bp  cholesterol  prognosis\n",
       "20    41.663762   113.817344    116.311952   117.852312          1\n",
       "35    61.355212    97.823657    116.639356   111.179809          1\n",
       "242   58.871766    97.247527    124.143136    96.775539          0\n",
       "406   67.404012   104.409097    123.913707   108.544215          1\n",
       "430   56.128985   118.542803    121.031955   119.820215          1\n",
       "545   56.313788   102.927237    125.289993   116.587377          0\n",
       "589   38.829539   106.671573    120.972543   107.418557          1\n",
       "599   58.488598   118.127393    117.841303    93.380259          1\n",
       "660   52.514843   109.308127    129.086305   106.808021          0\n",
       "819   60.197121   110.094324    128.568519   131.925347          1\n",
       "822   53.232881   101.620769    116.664238   119.096168          1\n",
       "880   72.518310    96.955546    116.416732    97.989411          1\n",
       "927   57.815802   131.114228    116.533523   123.362645          1\n",
       "994   62.530066   116.089241    117.195368   117.449416          1\n",
       "1179  69.136195   104.975099    118.839200   109.008546          1\n",
       "1189  56.534139   123.143538    119.105337   105.071467          0\n",
       "1267  82.670193   105.448673    117.458073   106.647082          1\n",
       "1397  45.213993   127.260297    123.928961   105.960085          1\n",
       "1608  56.664725   106.350373    117.172224   113.233902          1\n",
       "1713  59.789945   115.433817    116.552503    98.379728          1\n",
       "1760  63.536462   100.112540    123.903938    90.876591          0\n",
       "1877  55.929804   112.925381    116.617231   120.424150          1\n",
       "1891  77.566521    94.746164    118.628198   114.460192          1\n",
       "1935  72.318871   126.000036    118.632604   110.848580          1\n",
       "2007  56.016841   126.761344    118.888129   112.426764          1\n",
       "2110  76.611699   125.990003    120.627887   104.320675          1\n",
       "2129  65.971464    75.980499     63.131292    85.376097          0\n",
       "2292  63.008066    91.805246     62.807105    80.572377          1\n",
       "2333  50.412889   113.679011    121.968379   125.717840          0\n",
       "2563  49.887624   106.278989    119.320220   112.341135          1\n",
       "3006  60.735204   102.924001    128.218608   100.194761          0\n",
       "3015  61.165640   100.301118    119.799387   104.415647          1\n",
       "3112  64.918101    95.445886    118.773267   106.676410          0\n",
       "3202  49.206488    95.037278     63.628335    93.579483          0\n",
       "3454  43.154175    77.415566     63.583638    75.732215          0\n",
       "4013  45.473308   119.904383    118.460035   120.818547          0\n",
       "4163  68.361015    75.521545     64.065367    89.098375          1\n",
       "4208  52.463106   103.967595    119.495425    99.112624          0\n",
       "4279  58.228640   112.711201    120.610227   112.390034          1\n",
       "4319  59.066355   125.342118    120.543885   117.570998          1\n",
       "4388  57.807685    98.510114    133.456382    99.764970          0\n",
       "4421  63.980320   108.108467    116.622969   109.493189          0\n",
       "4472  87.828897   105.897902    121.732205   100.396401          1\n",
       "4663  72.591803    94.089075     62.906074    84.592740          1\n",
       "4755  61.238466   143.062378    116.420401   128.983542          1\n",
       "4858  62.885102   133.190387    119.414219   104.180112          1\n",
       "4873  58.238165   134.798196    121.820043   129.994146          1\n",
       "4886  67.461640   109.394057    117.753062   136.812161          1\n",
       "5394  57.177355   119.120609    118.374395    97.392700          1\n",
       "5429  61.932287   105.754866    117.400561   134.705126          1\n",
       "5488  67.218965   114.717124    119.811849   116.350418          1\n",
       "5525  51.572812   102.746504     63.844792   105.194116          0\n",
       "5647  66.543925   116.759120    118.732710   104.029505          1\n",
       "5667  70.100397   111.444865    121.715752   110.120795          1\n",
       "5930  53.933772   101.136214    117.908153   103.203283          1"
      ]
     },
     "execution_count": 36,
     "metadata": {},
     "output_type": "execute_result"
    }
   ],
   "source": [
    "Q1 = Data.diastolic_bp.quantile(0.25)\n",
    "Q3 = Data.diastolic_bp.quantile(0.75)\n",
    "\n",
    "\n",
    "IQR = Q3 - Q1\n",
    "lower_limit = Q1 - 1.5*IQR\n",
    "upper_limit = Q3 + 1.5*IQR\n",
    "lower_limit,upper_limit\n",
    "\n",
    "Data3 =Data[(Data.diastolic_bp<lower_limit)|(Data.diastolic_bp>upper_limit)]\n",
    "Data3"
   ]
  },
  {
   "cell_type": "code",
   "execution_count": 37,
   "id": "a2fc37b2",
   "metadata": {},
   "outputs": [
    {
     "data": {
      "text/plain": [
       "<AxesSubplot:xlabel='prognosis', ylabel='cholesterol'>"
      ]
     },
     "execution_count": 37,
     "metadata": {},
     "output_type": "execute_result"
    },
    {
     "data": {
      "image/png": "[encoded data removed]",
      "text/plain": [
       "<Figure size 432x288 with 1 Axes>"
      ]
     },
     "metadata": {
      "needs_background": "light"
     },
     "output_type": "display_data"
    }
   ],
   "source": [
    "sns.boxplot(x='prognosis',y='cholesterol',data=Data)"
   ]
  },
  {
   "cell_type": "code",
   "execution_count": 38,
   "id": "1fbfccd9",
   "metadata": {},
   "outputs": [
    {
     "data": {
      "text/plain": [
       "<AxesSubplot:xlabel='cholesterol'>"
      ]
     },
     "execution_count": 38,
     "metadata": {},
     "output_type": "execute_result"
    },
    {
     "data": {
      "image/png": "[encoded data removed]",
      "text/plain": [
       "<Figure size 432x288 with 1 Axes>"
      ]
     },
     "metadata": {
      "needs_background": "light"
     },
     "output_type": "display_data"
    }
   ],
   "source": [
    "sns.boxplot('cholesterol',data=Data)"
   ]
  },
  {
   "cell_type": "code",
   "execution_count": 39,
   "id": "5afa8a50",
   "metadata": {
    "scrolled": true
   },
   "outputs": [
    {
     "data": {
      "text/html": [
       "<div>\n",
       "<style scoped>\n",
       "    .dataframe tbody tr th:only-of-type {\n",
       "        vertical-align: middle;\n",
       "    }\n",
       "\n",
       "    .dataframe tbody tr th {\n",
       "        vertical-align: top;\n",
       "    }\n",
       "\n",
       "    .dataframe thead th {\n",
       "        text-align: right;\n",
       "    }\n",
       "</style>\n",
       "<table border=\"1\" class=\"dataframe\">\n",
       "  <thead>\n",
       "    <tr style=\"text-align: right;\">\n",
       "      <th></th>\n",
       "      <th>age</th>\n",
       "      <th>systolic_bp</th>\n",
       "      <th>diastolic_bp</th>\n",
       "      <th>cholesterol</th>\n",
       "      <th>prognosis</th>\n",
       "    </tr>\n",
       "  </thead>\n",
       "  <tbody>\n",
       "    <tr>\n",
       "      <th>152</th>\n",
       "      <td>53.944245</td>\n",
       "      <td>117.305536</td>\n",
       "      <td>111.502024</td>\n",
       "      <td>135.194476</td>\n",
       "      <td>1</td>\n",
       "    </tr>\n",
       "    <tr>\n",
       "      <th>450</th>\n",
       "      <td>51.608343</td>\n",
       "      <td>86.605764</td>\n",
       "      <td>65.886401</td>\n",
       "      <td>71.816400</td>\n",
       "      <td>0</td>\n",
       "    </tr>\n",
       "    <tr>\n",
       "      <th>796</th>\n",
       "      <td>60.642730</td>\n",
       "      <td>113.459178</td>\n",
       "      <td>102.621072</td>\n",
       "      <td>128.788513</td>\n",
       "      <td>1</td>\n",
       "    </tr>\n",
       "    <tr>\n",
       "      <th>819</th>\n",
       "      <td>60.197121</td>\n",
       "      <td>110.094324</td>\n",
       "      <td>128.568519</td>\n",
       "      <td>131.925347</td>\n",
       "      <td>1</td>\n",
       "    </tr>\n",
       "    <tr>\n",
       "      <th>839</th>\n",
       "      <td>62.729824</td>\n",
       "      <td>116.394422</td>\n",
       "      <td>109.388297</td>\n",
       "      <td>131.422153</td>\n",
       "      <td>0</td>\n",
       "    </tr>\n",
       "    <tr>\n",
       "      <th>906</th>\n",
       "      <td>55.691815</td>\n",
       "      <td>118.118189</td>\n",
       "      <td>92.812373</td>\n",
       "      <td>130.806376</td>\n",
       "      <td>1</td>\n",
       "    </tr>\n",
       "    <tr>\n",
       "      <th>1002</th>\n",
       "      <td>56.487189</td>\n",
       "      <td>125.727737</td>\n",
       "      <td>104.201718</td>\n",
       "      <td>140.607313</td>\n",
       "      <td>1</td>\n",
       "    </tr>\n",
       "    <tr>\n",
       "      <th>1032</th>\n",
       "      <td>58.252152</td>\n",
       "      <td>136.205482</td>\n",
       "      <td>97.084642</td>\n",
       "      <td>129.562672</td>\n",
       "      <td>1</td>\n",
       "    </tr>\n",
       "    <tr>\n",
       "      <th>1051</th>\n",
       "      <td>52.809499</td>\n",
       "      <td>105.003966</td>\n",
       "      <td>96.124501</td>\n",
       "      <td>130.572975</td>\n",
       "      <td>1</td>\n",
       "    </tr>\n",
       "    <tr>\n",
       "      <th>1081</th>\n",
       "      <td>57.346287</td>\n",
       "      <td>106.967621</td>\n",
       "      <td>110.801094</td>\n",
       "      <td>129.032181</td>\n",
       "      <td>1</td>\n",
       "    </tr>\n",
       "    <tr>\n",
       "      <th>1283</th>\n",
       "      <td>64.516802</td>\n",
       "      <td>121.796527</td>\n",
       "      <td>100.132197</td>\n",
       "      <td>144.583159</td>\n",
       "      <td>1</td>\n",
       "    </tr>\n",
       "    <tr>\n",
       "      <th>1300</th>\n",
       "      <td>48.799154</td>\n",
       "      <td>95.762998</td>\n",
       "      <td>87.382763</td>\n",
       "      <td>135.166016</td>\n",
       "      <td>1</td>\n",
       "    </tr>\n",
       "    <tr>\n",
       "      <th>1630</th>\n",
       "      <td>61.356328</td>\n",
       "      <td>94.338012</td>\n",
       "      <td>98.034506</td>\n",
       "      <td>129.497587</td>\n",
       "      <td>1</td>\n",
       "    </tr>\n",
       "    <tr>\n",
       "      <th>1708</th>\n",
       "      <td>47.114337</td>\n",
       "      <td>103.061214</td>\n",
       "      <td>95.606031</td>\n",
       "      <td>130.484345</td>\n",
       "      <td>1</td>\n",
       "    </tr>\n",
       "    <tr>\n",
       "      <th>1784</th>\n",
       "      <td>55.196670</td>\n",
       "      <td>108.463984</td>\n",
       "      <td>108.358809</td>\n",
       "      <td>132.106672</td>\n",
       "      <td>1</td>\n",
       "    </tr>\n",
       "    <tr>\n",
       "      <th>1873</th>\n",
       "      <td>47.456596</td>\n",
       "      <td>109.486845</td>\n",
       "      <td>111.672715</td>\n",
       "      <td>134.470779</td>\n",
       "      <td>1</td>\n",
       "    </tr>\n",
       "    <tr>\n",
       "      <th>1920</th>\n",
       "      <td>73.185131</td>\n",
       "      <td>102.856662</td>\n",
       "      <td>103.426931</td>\n",
       "      <td>136.735671</td>\n",
       "      <td>1</td>\n",
       "    </tr>\n",
       "    <tr>\n",
       "      <th>2014</th>\n",
       "      <td>62.400911</td>\n",
       "      <td>96.205380</td>\n",
       "      <td>72.208196</td>\n",
       "      <td>70.179274</td>\n",
       "      <td>0</td>\n",
       "    </tr>\n",
       "    <tr>\n",
       "      <th>2037</th>\n",
       "      <td>74.305798</td>\n",
       "      <td>71.998590</td>\n",
       "      <td>84.715959</td>\n",
       "      <td>71.777424</td>\n",
       "      <td>0</td>\n",
       "    </tr>\n",
       "    <tr>\n",
       "      <th>2100</th>\n",
       "      <td>59.996423</td>\n",
       "      <td>101.542319</td>\n",
       "      <td>103.528847</td>\n",
       "      <td>135.080991</td>\n",
       "      <td>1</td>\n",
       "    </tr>\n",
       "    <tr>\n",
       "      <th>2119</th>\n",
       "      <td>64.486833</td>\n",
       "      <td>110.761237</td>\n",
       "      <td>92.895260</td>\n",
       "      <td>132.260340</td>\n",
       "      <td>1</td>\n",
       "    </tr>\n",
       "    <tr>\n",
       "      <th>2201</th>\n",
       "      <td>55.787245</td>\n",
       "      <td>120.912797</td>\n",
       "      <td>101.018597</td>\n",
       "      <td>130.067381</td>\n",
       "      <td>1</td>\n",
       "    </tr>\n",
       "    <tr>\n",
       "      <th>2320</th>\n",
       "      <td>62.081121</td>\n",
       "      <td>109.228592</td>\n",
       "      <td>113.280449</td>\n",
       "      <td>134.276119</td>\n",
       "      <td>1</td>\n",
       "    </tr>\n",
       "    <tr>\n",
       "      <th>2454</th>\n",
       "      <td>54.375249</td>\n",
       "      <td>116.148913</td>\n",
       "      <td>104.871232</td>\n",
       "      <td>128.704724</td>\n",
       "      <td>1</td>\n",
       "    </tr>\n",
       "    <tr>\n",
       "      <th>2605</th>\n",
       "      <td>52.830968</td>\n",
       "      <td>150.670082</td>\n",
       "      <td>113.691693</td>\n",
       "      <td>129.862805</td>\n",
       "      <td>1</td>\n",
       "    </tr>\n",
       "    <tr>\n",
       "      <th>2634</th>\n",
       "      <td>62.133724</td>\n",
       "      <td>109.885734</td>\n",
       "      <td>108.842565</td>\n",
       "      <td>137.652734</td>\n",
       "      <td>1</td>\n",
       "    </tr>\n",
       "    <tr>\n",
       "      <th>2659</th>\n",
       "      <td>63.844935</td>\n",
       "      <td>115.323880</td>\n",
       "      <td>101.438632</td>\n",
       "      <td>135.481066</td>\n",
       "      <td>0</td>\n",
       "    </tr>\n",
       "    <tr>\n",
       "      <th>3065</th>\n",
       "      <td>68.194809</td>\n",
       "      <td>119.247044</td>\n",
       "      <td>92.229143</td>\n",
       "      <td>128.739319</td>\n",
       "      <td>1</td>\n",
       "    </tr>\n",
       "    <tr>\n",
       "      <th>3106</th>\n",
       "      <td>52.994632</td>\n",
       "      <td>101.285768</td>\n",
       "      <td>88.324021</td>\n",
       "      <td>128.921507</td>\n",
       "      <td>1</td>\n",
       "    </tr>\n",
       "    <tr>\n",
       "      <th>3187</th>\n",
       "      <td>68.117547</td>\n",
       "      <td>118.094693</td>\n",
       "      <td>111.178816</td>\n",
       "      <td>142.720878</td>\n",
       "      <td>1</td>\n",
       "    </tr>\n",
       "    <tr>\n",
       "      <th>3514</th>\n",
       "      <td>68.149505</td>\n",
       "      <td>95.205113</td>\n",
       "      <td>90.943976</td>\n",
       "      <td>131.001983</td>\n",
       "      <td>1</td>\n",
       "    </tr>\n",
       "    <tr>\n",
       "      <th>3516</th>\n",
       "      <td>70.677026</td>\n",
       "      <td>126.943444</td>\n",
       "      <td>115.147536</td>\n",
       "      <td>137.071438</td>\n",
       "      <td>1</td>\n",
       "    </tr>\n",
       "    <tr>\n",
       "      <th>3706</th>\n",
       "      <td>51.601688</td>\n",
       "      <td>108.313152</td>\n",
       "      <td>100.773155</td>\n",
       "      <td>129.989474</td>\n",
       "      <td>1</td>\n",
       "    </tr>\n",
       "    <tr>\n",
       "      <th>3787</th>\n",
       "      <td>59.207090</td>\n",
       "      <td>109.694154</td>\n",
       "      <td>91.518223</td>\n",
       "      <td>131.203713</td>\n",
       "      <td>1</td>\n",
       "    </tr>\n",
       "    <tr>\n",
       "      <th>3830</th>\n",
       "      <td>55.198363</td>\n",
       "      <td>120.311169</td>\n",
       "      <td>103.602816</td>\n",
       "      <td>134.784636</td>\n",
       "      <td>1</td>\n",
       "    </tr>\n",
       "    <tr>\n",
       "      <th>4309</th>\n",
       "      <td>57.544848</td>\n",
       "      <td>108.379051</td>\n",
       "      <td>104.182801</td>\n",
       "      <td>148.233544</td>\n",
       "      <td>1</td>\n",
       "    </tr>\n",
       "    <tr>\n",
       "      <th>4369</th>\n",
       "      <td>62.053982</td>\n",
       "      <td>87.369471</td>\n",
       "      <td>105.227273</td>\n",
       "      <td>69.967453</td>\n",
       "      <td>0</td>\n",
       "    </tr>\n",
       "    <tr>\n",
       "      <th>4598</th>\n",
       "      <td>57.555918</td>\n",
       "      <td>111.926725</td>\n",
       "      <td>89.183287</td>\n",
       "      <td>130.747669</td>\n",
       "      <td>1</td>\n",
       "    </tr>\n",
       "    <tr>\n",
       "      <th>4646</th>\n",
       "      <td>57.300419</td>\n",
       "      <td>109.610943</td>\n",
       "      <td>98.961421</td>\n",
       "      <td>129.580503</td>\n",
       "      <td>1</td>\n",
       "    </tr>\n",
       "    <tr>\n",
       "      <th>4737</th>\n",
       "      <td>45.471040</td>\n",
       "      <td>119.493737</td>\n",
       "      <td>99.408317</td>\n",
       "      <td>141.703592</td>\n",
       "      <td>1</td>\n",
       "    </tr>\n",
       "    <tr>\n",
       "      <th>4755</th>\n",
       "      <td>61.238466</td>\n",
       "      <td>143.062378</td>\n",
       "      <td>116.420401</td>\n",
       "      <td>128.983542</td>\n",
       "      <td>1</td>\n",
       "    </tr>\n",
       "    <tr>\n",
       "      <th>4795</th>\n",
       "      <td>61.621648</td>\n",
       "      <td>102.399852</td>\n",
       "      <td>94.921016</td>\n",
       "      <td>130.085681</td>\n",
       "      <td>1</td>\n",
       "    </tr>\n",
       "    <tr>\n",
       "      <th>4873</th>\n",
       "      <td>58.238165</td>\n",
       "      <td>134.798196</td>\n",
       "      <td>121.820043</td>\n",
       "      <td>129.994146</td>\n",
       "      <td>1</td>\n",
       "    </tr>\n",
       "    <tr>\n",
       "      <th>4886</th>\n",
       "      <td>67.461640</td>\n",
       "      <td>109.394057</td>\n",
       "      <td>117.753062</td>\n",
       "      <td>136.812161</td>\n",
       "      <td>1</td>\n",
       "    </tr>\n",
       "    <tr>\n",
       "      <th>5095</th>\n",
       "      <td>55.371208</td>\n",
       "      <td>107.231112</td>\n",
       "      <td>106.244398</td>\n",
       "      <td>131.529964</td>\n",
       "      <td>1</td>\n",
       "    </tr>\n",
       "    <tr>\n",
       "      <th>5128</th>\n",
       "      <td>73.795209</td>\n",
       "      <td>128.054842</td>\n",
       "      <td>90.865188</td>\n",
       "      <td>129.004966</td>\n",
       "      <td>1</td>\n",
       "    </tr>\n",
       "    <tr>\n",
       "      <th>5155</th>\n",
       "      <td>45.591349</td>\n",
       "      <td>120.950071</td>\n",
       "      <td>97.291452</td>\n",
       "      <td>142.280689</td>\n",
       "      <td>1</td>\n",
       "    </tr>\n",
       "    <tr>\n",
       "      <th>5164</th>\n",
       "      <td>50.548316</td>\n",
       "      <td>119.220357</td>\n",
       "      <td>100.476010</td>\n",
       "      <td>128.622094</td>\n",
       "      <td>1</td>\n",
       "    </tr>\n",
       "    <tr>\n",
       "      <th>5336</th>\n",
       "      <td>48.759074</td>\n",
       "      <td>124.335522</td>\n",
       "      <td>108.984458</td>\n",
       "      <td>144.712660</td>\n",
       "      <td>1</td>\n",
       "    </tr>\n",
       "    <tr>\n",
       "      <th>5429</th>\n",
       "      <td>61.932287</td>\n",
       "      <td>105.754866</td>\n",
       "      <td>117.400561</td>\n",
       "      <td>134.705126</td>\n",
       "      <td>1</td>\n",
       "    </tr>\n",
       "    <tr>\n",
       "      <th>5477</th>\n",
       "      <td>64.122062</td>\n",
       "      <td>98.635651</td>\n",
       "      <td>107.255219</td>\n",
       "      <td>131.677153</td>\n",
       "      <td>0</td>\n",
       "    </tr>\n",
       "    <tr>\n",
       "      <th>5616</th>\n",
       "      <td>55.313557</td>\n",
       "      <td>128.808759</td>\n",
       "      <td>106.652282</td>\n",
       "      <td>130.790049</td>\n",
       "      <td>1</td>\n",
       "    </tr>\n",
       "    <tr>\n",
       "      <th>5748</th>\n",
       "      <td>56.774707</td>\n",
       "      <td>110.354672</td>\n",
       "      <td>102.929523</td>\n",
       "      <td>136.074457</td>\n",
       "      <td>1</td>\n",
       "    </tr>\n",
       "    <tr>\n",
       "      <th>5867</th>\n",
       "      <td>67.243820</td>\n",
       "      <td>106.543763</td>\n",
       "      <td>112.179151</td>\n",
       "      <td>129.039427</td>\n",
       "      <td>1</td>\n",
       "    </tr>\n",
       "  </tbody>\n",
       "</table>\n",
       "</div>"
      ],
      "text/plain": [
       "            age  systolic_bp  diastolic_bp  cholesterol  prognosis\n",
       "152   53.944245   117.305536    111.502024   135.194476          1\n",
       "450   51.608343    86.605764     65.886401    71.816400          0\n",
       "796   60.642730   113.459178    102.621072   128.788513          1\n",
       "819   60.197121   110.094324    128.568519   131.925347          1\n",
       "839   62.729824   116.394422    109.388297   131.422153          0\n",
       "906   55.691815   118.118189     92.812373   130.806376          1\n",
       "1002  56.487189   125.727737    104.201718   140.607313          1\n",
       "1032  58.252152   136.205482     97.084642   129.562672          1\n",
       "1051  52.809499   105.003966     96.124501   130.572975          1\n",
       "1081  57.346287   106.967621    110.801094   129.032181          1\n",
       "1283  64.516802   121.796527    100.132197   144.583159          1\n",
       "1300  48.799154    95.762998     87.382763   135.166016          1\n",
       "1630  61.356328    94.338012     98.034506   129.497587          1\n",
       "1708  47.114337   103.061214     95.606031   130.484345          1\n",
       "1784  55.196670   108.463984    108.358809   132.106672          1\n",
       "1873  47.456596   109.486845    111.672715   134.470779          1\n",
       "1920  73.185131   102.856662    103.426931   136.735671          1\n",
       "2014  62.400911    96.205380     72.208196    70.179274          0\n",
       "2037  74.305798    71.998590     84.715959    71.777424          0\n",
       "2100  59.996423   101.542319    103.528847   135.080991          1\n",
       "2119  64.486833   110.761237     92.895260   132.260340          1\n",
       "2201  55.787245   120.912797    101.018597   130.067381          1\n",
       "2320  62.081121   109.228592    113.280449   134.276119          1\n",
       "2454  54.375249   116.148913    104.871232   128.704724          1\n",
       "2605  52.830968   150.670082    113.691693   129.862805          1\n",
       "2634  62.133724   109.885734    108.842565   137.652734          1\n",
       "2659  63.844935   115.323880    101.438632   135.481066          0\n",
       "3065  68.194809   119.247044     92.229143   128.739319          1\n",
       "3106  52.994632   101.285768     88.324021   128.921507          1\n",
       "3187  68.117547   118.094693    111.178816   142.720878          1\n",
       "3514  68.149505    95.205113     90.943976   131.001983          1\n",
       "3516  70.677026   126.943444    115.147536   137.071438          1\n",
       "3706  51.601688   108.313152    100.773155   129.989474          1\n",
       "3787  59.207090   109.694154     91.518223   131.203713          1\n",
       "3830  55.198363   120.311169    103.602816   134.784636          1\n",
       "4309  57.544848   108.379051    104.182801   148.233544          1\n",
       "4369  62.053982    87.369471    105.227273    69.967453          0\n",
       "4598  57.555918   111.926725     89.183287   130.747669          1\n",
       "4646  57.300419   109.610943     98.961421   129.580503          1\n",
       "4737  45.471040   119.493737     99.408317   141.703592          1\n",
       "4755  61.238466   143.062378    116.420401   128.983542          1\n",
       "4795  61.621648   102.399852     94.921016   130.085681          1\n",
       "4873  58.238165   134.798196    121.820043   129.994146          1\n",
       "4886  67.461640   109.394057    117.753062   136.812161          1\n",
       "5095  55.371208   107.231112    106.244398   131.529964          1\n",
       "5128  73.795209   128.054842     90.865188   129.004966          1\n",
       "5155  45.591349   120.950071     97.291452   142.280689          1\n",
       "5164  50.548316   119.220357    100.476010   128.622094          1\n",
       "5336  48.759074   124.335522    108.984458   144.712660          1\n",
       "5429  61.932287   105.754866    117.400561   134.705126          1\n",
       "5477  64.122062    98.635651    107.255219   131.677153          0\n",
       "5616  55.313557   128.808759    106.652282   130.790049          1\n",
       "5748  56.774707   110.354672    102.929523   136.074457          1\n",
       "5867  67.243820   106.543763    112.179151   129.039427          1"
      ]
     },
     "execution_count": 39,
     "metadata": {},
     "output_type": "execute_result"
    }
   ],
   "source": [
    "Q1 = Data.cholesterol.quantile(0.25)\n",
    "Q3 = Data.cholesterol.quantile(0.75)\n",
    "\n",
    "\n",
    "IQR = Q3 - Q1\n",
    "lower_limit = Q1 - 1.5*IQR\n",
    "upper_limit = Q3 + 1.5*IQR\n",
    "lower_limit,upper_limit\n",
    "\n",
    "Data4 =Data[(Data.cholesterol<lower_limit)|(Data.cholesterol>upper_limit)]\n",
    "Data4"
   ]
  },
  {
   "cell_type": "code",
   "execution_count": 40,
   "id": "a37612b2",
   "metadata": {
    "scrolled": false
   },
   "outputs": [
    {
     "data": {
      "text/plain": [
       "<seaborn.axisgrid.PairGrid at 0x17843d892b0>"
      ]
     },
     "execution_count": 40,
     "metadata": {},
     "output_type": "execute_result"
    },
    {
     "data": {
      "image/png": "[encoded data removed]",
      "text/plain": [
       "<Figure size 776.25x720 with 20 Axes>"
      ]
     },
     "metadata": {
      "needs_background": "light"
     },
     "output_type": "display_data"
    }
   ],
   "source": [
    "sns.pairplot(Data,hue='prognosis')"
   ]
  },
  {
   "cell_type": "code",
   "execution_count": 41,
   "id": "551a8b1d",
   "metadata": {
    "scrolled": true
   },
   "outputs": [
    {
     "data": {
      "text/html": [
       "<div>\n",
       "<style scoped>\n",
       "    .dataframe tbody tr th:only-of-type {\n",
       "        vertical-align: middle;\n",
       "    }\n",
       "\n",
       "    .dataframe tbody tr th {\n",
       "        vertical-align: top;\n",
       "    }\n",
       "\n",
       "    .dataframe thead th {\n",
       "        text-align: right;\n",
       "    }\n",
       "</style>\n",
       "<table border=\"1\" class=\"dataframe\">\n",
       "  <thead>\n",
       "    <tr style=\"text-align: right;\">\n",
       "      <th></th>\n",
       "      <th>age</th>\n",
       "      <th>systolic_bp</th>\n",
       "      <th>diastolic_bp</th>\n",
       "      <th>cholesterol</th>\n",
       "      <th>prognosis</th>\n",
       "    </tr>\n",
       "  </thead>\n",
       "  <tbody>\n",
       "    <tr>\n",
       "      <th>age</th>\n",
       "      <td>1.000000</td>\n",
       "      <td>0.010361</td>\n",
       "      <td>-0.005410</td>\n",
       "      <td>-0.006972</td>\n",
       "      <td>0.377440</td>\n",
       "    </tr>\n",
       "    <tr>\n",
       "      <th>systolic_bp</th>\n",
       "      <td>0.010361</td>\n",
       "      <td>1.000000</td>\n",
       "      <td>0.405406</td>\n",
       "      <td>0.406029</td>\n",
       "      <td>0.339842</td>\n",
       "    </tr>\n",
       "    <tr>\n",
       "      <th>diastolic_bp</th>\n",
       "      <td>-0.005410</td>\n",
       "      <td>0.405406</td>\n",
       "      <td>1.000000</td>\n",
       "      <td>0.398345</td>\n",
       "      <td>0.181541</td>\n",
       "    </tr>\n",
       "    <tr>\n",
       "      <th>cholesterol</th>\n",
       "      <td>-0.006972</td>\n",
       "      <td>0.406029</td>\n",
       "      <td>0.398345</td>\n",
       "      <td>1.000000</td>\n",
       "      <td>0.315811</td>\n",
       "    </tr>\n",
       "    <tr>\n",
       "      <th>prognosis</th>\n",
       "      <td>0.377440</td>\n",
       "      <td>0.339842</td>\n",
       "      <td>0.181541</td>\n",
       "      <td>0.315811</td>\n",
       "      <td>1.000000</td>\n",
       "    </tr>\n",
       "  </tbody>\n",
       "</table>\n",
       "</div>"
      ],
      "text/plain": [
       "                   age  systolic_bp  diastolic_bp  cholesterol  prognosis\n",
       "age           1.000000     0.010361     -0.005410    -0.006972   0.377440\n",
       "systolic_bp   0.010361     1.000000      0.405406     0.406029   0.339842\n",
       "diastolic_bp -0.005410     0.405406      1.000000     0.398345   0.181541\n",
       "cholesterol  -0.006972     0.406029      0.398345     1.000000   0.315811\n",
       "prognosis     0.377440     0.339842      0.181541     0.315811   1.000000"
      ]
     },
     "execution_count": 41,
     "metadata": {},
     "output_type": "execute_result"
    }
   ],
   "source": [
    "corr=Data.corr()\n",
    "corr"
   ]
  },
  {
   "cell_type": "code",
   "execution_count": 42,
   "id": "77dad7d1",
   "metadata": {},
   "outputs": [
    {
     "data": {
      "image/png": "[encoded data removed]",
      "text/plain": [
       "<Figure size 432x288 with 2 Axes>"
      ]
     },
     "metadata": {
      "needs_background": "light"
     },
     "output_type": "display_data"
    }
   ],
   "source": [
    "sns.heatmap(data = corr,annot=True)\n",
    "plt.show()"
   ]
  },
  {
   "cell_type": "markdown",
   "id": "fb87473a",
   "metadata": {},
   "source": [
    "#####  Inference- \n",
    "* age has highest correlation with target variable*"
   ]
  },
  {
   "cell_type": "code",
   "execution_count": 43,
   "id": "2257f5e1",
   "metadata": {},
   "outputs": [
    {
     "data": {
      "text/plain": [
       "<AxesSubplot:xlabel='prognosis', ylabel='count'>"
      ]
     },
     "execution_count": 43,
     "metadata": {},
     "output_type": "execute_result"
    },
    {
     "data": {
      "image/png": "[encoded data removed]",
      "text/plain": [
       "<Figure size 720x360 with 1 Axes>"
      ]
     },
     "metadata": {
      "needs_background": "light"
     },
     "output_type": "display_data"
    }
   ],
   "source": [
    "plt.figure(figsize=(10,5))\n",
    "sns.countplot(Data['prognosis'])"
   ]
  },
  {
   "cell_type": "markdown",
   "id": "7ff40724",
   "metadata": {},
   "source": [
    "## Handing Outliers by Median"
   ]
  },
  {
   "cell_type": "code",
   "execution_count": 44,
   "id": "998f7ad5",
   "metadata": {},
   "outputs": [],
   "source": [
    "#Age outlier replace by median value of the age feature\n",
    "\n",
    "median=Data.loc[Data['age']<82,'age'].median()\n",
    "median2=Data.loc[Data['age']>37,'age'].median()\n",
    "Data.loc[Data.age>82,'age']=np.nan\n",
    "Data.loc[Data.age<37,'age']=np.nan\n",
    "Data.fillna(median,inplace=True)\n",
    "Data.fillna(median2,inplace=True)"
   ]
  },
  {
   "cell_type": "code",
   "execution_count": 45,
   "id": "a0a6aec5",
   "metadata": {},
   "outputs": [],
   "source": [
    "#systolic_bp outlier replace by median value of the age feature\n",
    "\n",
    "median=Data.loc[Data['systolic_bp']<128,'systolic_bp'].median()\n",
    "median2=Data.loc[Data['systolic_bp']>73,'systolic_bp'].median()\n",
    "Data.loc[Data.systolic_bp>128,'systolic_bp']=np.nan\n",
    "Data.loc[Data.systolic_bp<73,'systolic_bp']=np.nan\n",
    "Data.fillna(median,inplace=True)\n",
    "Data.fillna(median2,inplace=True)"
   ]
  },
  {
   "cell_type": "code",
   "execution_count": 46,
   "id": "e90f9a27",
   "metadata": {},
   "outputs": [],
   "source": [
    "#diastolic_bp outlier replace by median value of the age feature\n",
    "\n",
    "median=Data.loc[Data['diastolic_bp']<115,'diastolic_bp'].median()\n",
    "median2=Data.loc[Data['diastolic_bp']>65,'diastolic_bp'].median()\n",
    "Data.loc[Data.diastolic_bp>115,'diastolic_bp']=np.nan\n",
    "Data.loc[Data.diastolic_bp<65,'diastolic_bp']=np.nan\n",
    "Data.fillna(median,inplace=True)\n",
    "Data.fillna(median2,inplace=True)"
   ]
  },
  {
   "cell_type": "code",
   "execution_count": 47,
   "id": "27d10818",
   "metadata": {},
   "outputs": [],
   "source": [
    "#cholesterol outlier replace by median value of the age feature\n",
    "\n",
    "median=Data.loc[Data['cholesterol']<127,'cholesterol'].median()\n",
    "median2=Data.loc[Data['cholesterol']>73,'cholesterol'].median()\n",
    "Data.loc[Data.cholesterol>127,'cholesterol']=np.nan\n",
    "Data.loc[Data.cholesterol<73,'cholesterol']=np.nan\n",
    "Data.fillna(median,inplace=True)\n",
    "Data.fillna(median2,inplace=True)"
   ]
  },
  {
   "cell_type": "code",
   "execution_count": 48,
   "id": "72643e21",
   "metadata": {},
   "outputs": [
    {
     "data": {
      "text/html": [
       "<div>\n",
       "<style scoped>\n",
       "    .dataframe tbody tr th:only-of-type {\n",
       "        vertical-align: middle;\n",
       "    }\n",
       "\n",
       "    .dataframe tbody tr th {\n",
       "        vertical-align: top;\n",
       "    }\n",
       "\n",
       "    .dataframe thead th {\n",
       "        text-align: right;\n",
       "    }\n",
       "</style>\n",
       "<table border=\"1\" class=\"dataframe\">\n",
       "  <thead>\n",
       "    <tr style=\"text-align: right;\">\n",
       "      <th></th>\n",
       "      <th>age</th>\n",
       "      <th>systolic_bp</th>\n",
       "      <th>diastolic_bp</th>\n",
       "      <th>cholesterol</th>\n",
       "      <th>prognosis</th>\n",
       "    </tr>\n",
       "  </thead>\n",
       "  <tbody>\n",
       "    <tr>\n",
       "      <th>0</th>\n",
       "      <td>77.196340</td>\n",
       "      <td>85.288742</td>\n",
       "      <td>80.021878</td>\n",
       "      <td>79.957109</td>\n",
       "      <td>1</td>\n",
       "    </tr>\n",
       "    <tr>\n",
       "      <th>1</th>\n",
       "      <td>63.529850</td>\n",
       "      <td>99.379736</td>\n",
       "      <td>84.852361</td>\n",
       "      <td>110.382411</td>\n",
       "      <td>1</td>\n",
       "    </tr>\n",
       "    <tr>\n",
       "      <th>2</th>\n",
       "      <td>69.003986</td>\n",
       "      <td>111.349455</td>\n",
       "      <td>109.850616</td>\n",
       "      <td>100.828246</td>\n",
       "      <td>1</td>\n",
       "    </tr>\n",
       "    <tr>\n",
       "      <th>3</th>\n",
       "      <td>59.694163</td>\n",
       "      <td>95.056128</td>\n",
       "      <td>79.666851</td>\n",
       "      <td>87.066303</td>\n",
       "      <td>1</td>\n",
       "    </tr>\n",
       "    <tr>\n",
       "      <th>4</th>\n",
       "      <td>78.346286</td>\n",
       "      <td>109.154591</td>\n",
       "      <td>90.713220</td>\n",
       "      <td>92.511770</td>\n",
       "      <td>1</td>\n",
       "    </tr>\n",
       "    <tr>\n",
       "      <th>...</th>\n",
       "      <td>...</td>\n",
       "      <td>...</td>\n",
       "      <td>...</td>\n",
       "      <td>...</td>\n",
       "      <td>...</td>\n",
       "    </tr>\n",
       "    <tr>\n",
       "      <th>5995</th>\n",
       "      <td>49.611850</td>\n",
       "      <td>94.857639</td>\n",
       "      <td>86.615671</td>\n",
       "      <td>107.643986</td>\n",
       "      <td>0</td>\n",
       "    </tr>\n",
       "    <tr>\n",
       "      <th>5996</th>\n",
       "      <td>63.099686</td>\n",
       "      <td>100.039527</td>\n",
       "      <td>93.515186</td>\n",
       "      <td>104.971404</td>\n",
       "      <td>1</td>\n",
       "    </tr>\n",
       "    <tr>\n",
       "      <th>5997</th>\n",
       "      <td>55.562243</td>\n",
       "      <td>98.421446</td>\n",
       "      <td>102.697875</td>\n",
       "      <td>120.875951</td>\n",
       "      <td>1</td>\n",
       "    </tr>\n",
       "    <tr>\n",
       "      <th>5998</th>\n",
       "      <td>63.468956</td>\n",
       "      <td>106.809289</td>\n",
       "      <td>88.060631</td>\n",
       "      <td>106.052213</td>\n",
       "      <td>1</td>\n",
       "    </tr>\n",
       "    <tr>\n",
       "      <th>5999</th>\n",
       "      <td>62.506825</td>\n",
       "      <td>96.900784</td>\n",
       "      <td>86.878033</td>\n",
       "      <td>108.625436</td>\n",
       "      <td>0</td>\n",
       "    </tr>\n",
       "  </tbody>\n",
       "</table>\n",
       "<p>6000 rows × 5 columns</p>\n",
       "</div>"
      ],
      "text/plain": [
       "            age  systolic_bp  diastolic_bp  cholesterol  prognosis\n",
       "0     77.196340    85.288742     80.021878    79.957109          1\n",
       "1     63.529850    99.379736     84.852361   110.382411          1\n",
       "2     69.003986   111.349455    109.850616   100.828246          1\n",
       "3     59.694163    95.056128     79.666851    87.066303          1\n",
       "4     78.346286   109.154591     90.713220    92.511770          1\n",
       "...         ...          ...           ...          ...        ...\n",
       "5995  49.611850    94.857639     86.615671   107.643986          0\n",
       "5996  63.099686   100.039527     93.515186   104.971404          1\n",
       "5997  55.562243    98.421446    102.697875   120.875951          1\n",
       "5998  63.468956   106.809289     88.060631   106.052213          1\n",
       "5999  62.506825    96.900784     86.878033   108.625436          0\n",
       "\n",
       "[6000 rows x 5 columns]"
      ]
     },
     "execution_count": 48,
     "metadata": {},
     "output_type": "execute_result"
    }
   ],
   "source": [
    "Data"
   ]
  },
  {
   "cell_type": "markdown",
   "id": "5436a444",
   "metadata": {
    "scrolled": true
   },
   "source": [
    "## Dividing data in X and Y"
   ]
  },
  {
   "cell_type": "code",
   "execution_count": 49,
   "id": "3fa64342",
   "metadata": {},
   "outputs": [
    {
     "data": {
      "text/plain": [
       "((6000, 4), (6000,))"
      ]
     },
     "execution_count": 49,
     "metadata": {},
     "output_type": "execute_result"
    }
   ],
   "source": [
    "# Splitting the independent and dependent variables\n",
    "X = Data.drop(columns=\"prognosis\",axis=1)\n",
    "Y = Data.prognosis\n",
    "X.shape,Y.shape"
   ]
  },
  {
   "cell_type": "markdown",
   "id": "a1dc0136",
   "metadata": {},
   "source": [
    "# Feature Scaling"
   ]
  },
  {
   "cell_type": "code",
   "execution_count": 50,
   "id": "62e207ac",
   "metadata": {},
   "outputs": [],
   "source": [
    "from sklearn.preprocessing import StandardScaler"
   ]
  },
  {
   "cell_type": "code",
   "execution_count": 51,
   "id": "356bd252",
   "metadata": {
    "scrolled": true
   },
   "outputs": [
    {
     "name": "stdout",
     "output_type": "stream",
     "text": [
      "[[ 2.12861278 -1.49920548 -1.11897174 -2.06484113]\n",
      " [ 0.42438837 -0.10356533 -0.58939197  1.02215518]\n",
      " [ 1.10701842  1.08197356  2.15123868  0.05277541]\n",
      " ...\n",
      " [-0.56917997 -0.19847897  1.36706315  2.08684533]\n",
      " [ 0.41679484  0.63229355 -0.23766006  0.58280688]\n",
      " [ 0.29681608 -0.34909274 -0.36731164  0.8438899 ]]\n"
     ]
    }
   ],
   "source": [
    "# standardization \n",
    "std_scaler = StandardScaler()\n",
    "X_scaler = std_scaler.fit_transform(X) \n",
    "print(X_scaler)"
   ]
  },
  {
   "cell_type": "code",
   "execution_count": 52,
   "id": "612429eb",
   "metadata": {},
   "outputs": [],
   "source": [
    "#Spliting the variable into train and test\n",
    "from sklearn.model_selection import train_test_split\n",
    "X_train, X_test, y_train, y_test = train_test_split(X_scaler,Y, test_size=0.20, random_state=40)\n"
   ]
  },
  {
   "cell_type": "markdown",
   "id": "083a3b5a",
   "metadata": {},
   "source": [
    "## Auto Machine Learning Model"
   ]
  },
  {
   "cell_type": "markdown",
   "id": "c78699ef",
   "metadata": {},
   "source": [
    "## Tpot"
   ]
  },
  {
   "cell_type": "code",
   "execution_count": 53,
   "id": "53de109d",
   "metadata": {},
   "outputs": [
    {
     "data": {
      "application/vnd.jupyter.widget-view+json": {
       "model_id": "1793b6a37ef64cdda3bf3c01b94b565a",
       "version_major": 2,
       "version_minor": 0
      },
      "text/plain": [
       "Optimization Progress:   0%|          | 0/100 [00:00<?, ?pipeline/s]"
      ]
     },
     "metadata": {},
     "output_type": "display_data"
    },
    {
     "name": "stdout",
     "output_type": "stream",
     "text": [
      "\n",
      "10.02 minutes have elapsed. TPOT will close down.\n",
      "TPOT closed during evaluation in one generation.\n",
      "WARNING: TPOT may not provide a good pipeline if TPOT is stopped/interrupted in a early generation.\n",
      "\n",
      "\n",
      "TPOT closed prematurely. Will use the current best pipeline.\n",
      "\n",
      "Best pipeline: RandomForestClassifier(input_matrix, bootstrap=True, criterion=gini, max_features=0.4, min_samples_leaf=19, min_samples_split=6, n_estimators=100)\n",
      "0.7191666666666666\n"
     ]
    }
   ],
   "source": [
    "#Import Auto Machine Learning Tpot\n",
    "from tpot import TPOTClassifier\n",
    "tpot = TPOTClassifier(verbosity=2, max_time_mins=10)\n",
    "tpot.fit(X_train, y_train)\n",
    "print(tpot.score(X_test, y_test))"
   ]
  },
  {
   "cell_type": "markdown",
   "id": "77def84b",
   "metadata": {},
   "source": [
    "## Pycaret"
   ]
  },
  {
   "cell_type": "code",
   "execution_count": 54,
   "id": "54fdb265",
   "metadata": {
    "scrolled": false
   },
   "outputs": [
    {
     "data": {
      "text/html": [
       "<style type=\"text/css\">\n",
       "#T_dc95b_row44_col1 {\n",
       "  background-color: lightgreen;\n",
       "}\n",
       "</style>\n",
       "<table id=\"T_dc95b\">\n",
       "  <thead>\n",
       "    <tr>\n",
       "      <th class=\"blank level0\" >&nbsp;</th>\n",
       "      <th id=\"T_dc95b_level0_col0\" class=\"col_heading level0 col0\" >Description</th>\n",
       "      <th id=\"T_dc95b_level0_col1\" class=\"col_heading level0 col1\" >Value</th>\n",
       "    </tr>\n",
       "  </thead>\n",
       "  <tbody>\n",
       "    <tr>\n",
       "      <th id=\"T_dc95b_level0_row0\" class=\"row_heading level0 row0\" >0</th>\n",
       "      <td id=\"T_dc95b_row0_col0\" class=\"data row0 col0\" >session_id</td>\n",
       "      <td id=\"T_dc95b_row0_col1\" class=\"data row0 col1\" >6999</td>\n",
       "    </tr>\n",
       "    <tr>\n",
       "      <th id=\"T_dc95b_level0_row1\" class=\"row_heading level0 row1\" >1</th>\n",
       "      <td id=\"T_dc95b_row1_col0\" class=\"data row1 col0\" >Target</td>\n",
       "      <td id=\"T_dc95b_row1_col1\" class=\"data row1 col1\" >prognosis</td>\n",
       "    </tr>\n",
       "    <tr>\n",
       "      <th id=\"T_dc95b_level0_row2\" class=\"row_heading level0 row2\" >2</th>\n",
       "      <td id=\"T_dc95b_row2_col0\" class=\"data row2 col0\" >Target Type</td>\n",
       "      <td id=\"T_dc95b_row2_col1\" class=\"data row2 col1\" >Binary</td>\n",
       "    </tr>\n",
       "    <tr>\n",
       "      <th id=\"T_dc95b_level0_row3\" class=\"row_heading level0 row3\" >3</th>\n",
       "      <td id=\"T_dc95b_row3_col0\" class=\"data row3 col0\" >Label Encoded</td>\n",
       "      <td id=\"T_dc95b_row3_col1\" class=\"data row3 col1\" >None</td>\n",
       "    </tr>\n",
       "    <tr>\n",
       "      <th id=\"T_dc95b_level0_row4\" class=\"row_heading level0 row4\" >4</th>\n",
       "      <td id=\"T_dc95b_row4_col0\" class=\"data row4 col0\" >Original Data</td>\n",
       "      <td id=\"T_dc95b_row4_col1\" class=\"data row4 col1\" >(6000, 5)</td>\n",
       "    </tr>\n",
       "    <tr>\n",
       "      <th id=\"T_dc95b_level0_row5\" class=\"row_heading level0 row5\" >5</th>\n",
       "      <td id=\"T_dc95b_row5_col0\" class=\"data row5 col0\" >Missing Values</td>\n",
       "      <td id=\"T_dc95b_row5_col1\" class=\"data row5 col1\" >False</td>\n",
       "    </tr>\n",
       "    <tr>\n",
       "      <th id=\"T_dc95b_level0_row6\" class=\"row_heading level0 row6\" >6</th>\n",
       "      <td id=\"T_dc95b_row6_col0\" class=\"data row6 col0\" >Numeric Features</td>\n",
       "      <td id=\"T_dc95b_row6_col1\" class=\"data row6 col1\" >4</td>\n",
       "    </tr>\n",
       "    <tr>\n",
       "      <th id=\"T_dc95b_level0_row7\" class=\"row_heading level0 row7\" >7</th>\n",
       "      <td id=\"T_dc95b_row7_col0\" class=\"data row7 col0\" >Categorical Features</td>\n",
       "      <td id=\"T_dc95b_row7_col1\" class=\"data row7 col1\" >0</td>\n",
       "    </tr>\n",
       "    <tr>\n",
       "      <th id=\"T_dc95b_level0_row8\" class=\"row_heading level0 row8\" >8</th>\n",
       "      <td id=\"T_dc95b_row8_col0\" class=\"data row8 col0\" >Ordinal Features</td>\n",
       "      <td id=\"T_dc95b_row8_col1\" class=\"data row8 col1\" >False</td>\n",
       "    </tr>\n",
       "    <tr>\n",
       "      <th id=\"T_dc95b_level0_row9\" class=\"row_heading level0 row9\" >9</th>\n",
       "      <td id=\"T_dc95b_row9_col0\" class=\"data row9 col0\" >High Cardinality Features</td>\n",
       "      <td id=\"T_dc95b_row9_col1\" class=\"data row9 col1\" >False</td>\n",
       "    </tr>\n",
       "    <tr>\n",
       "      <th id=\"T_dc95b_level0_row10\" class=\"row_heading level0 row10\" >10</th>\n",
       "      <td id=\"T_dc95b_row10_col0\" class=\"data row10 col0\" >High Cardinality Method</td>\n",
       "      <td id=\"T_dc95b_row10_col1\" class=\"data row10 col1\" >None</td>\n",
       "    </tr>\n",
       "    <tr>\n",
       "      <th id=\"T_dc95b_level0_row11\" class=\"row_heading level0 row11\" >11</th>\n",
       "      <td id=\"T_dc95b_row11_col0\" class=\"data row11 col0\" >Transformed Train Set</td>\n",
       "      <td id=\"T_dc95b_row11_col1\" class=\"data row11 col1\" >(4199, 4)</td>\n",
       "    </tr>\n",
       "    <tr>\n",
       "      <th id=\"T_dc95b_level0_row12\" class=\"row_heading level0 row12\" >12</th>\n",
       "      <td id=\"T_dc95b_row12_col0\" class=\"data row12 col0\" >Transformed Test Set</td>\n",
       "      <td id=\"T_dc95b_row12_col1\" class=\"data row12 col1\" >(1801, 4)</td>\n",
       "    </tr>\n",
       "    <tr>\n",
       "      <th id=\"T_dc95b_level0_row13\" class=\"row_heading level0 row13\" >13</th>\n",
       "      <td id=\"T_dc95b_row13_col0\" class=\"data row13 col0\" >Shuffle Train-Test</td>\n",
       "      <td id=\"T_dc95b_row13_col1\" class=\"data row13 col1\" >True</td>\n",
       "    </tr>\n",
       "    <tr>\n",
       "      <th id=\"T_dc95b_level0_row14\" class=\"row_heading level0 row14\" >14</th>\n",
       "      <td id=\"T_dc95b_row14_col0\" class=\"data row14 col0\" >Stratify Train-Test</td>\n",
       "      <td id=\"T_dc95b_row14_col1\" class=\"data row14 col1\" >False</td>\n",
       "    </tr>\n",
       "    <tr>\n",
       "      <th id=\"T_dc95b_level0_row15\" class=\"row_heading level0 row15\" >15</th>\n",
       "      <td id=\"T_dc95b_row15_col0\" class=\"data row15 col0\" >Fold Generator</td>\n",
       "      <td id=\"T_dc95b_row15_col1\" class=\"data row15 col1\" >StratifiedKFold</td>\n",
       "    </tr>\n",
       "    <tr>\n",
       "      <th id=\"T_dc95b_level0_row16\" class=\"row_heading level0 row16\" >16</th>\n",
       "      <td id=\"T_dc95b_row16_col0\" class=\"data row16 col0\" >Fold Number</td>\n",
       "      <td id=\"T_dc95b_row16_col1\" class=\"data row16 col1\" >10</td>\n",
       "    </tr>\n",
       "    <tr>\n",
       "      <th id=\"T_dc95b_level0_row17\" class=\"row_heading level0 row17\" >17</th>\n",
       "      <td id=\"T_dc95b_row17_col0\" class=\"data row17 col0\" >CPU Jobs</td>\n",
       "      <td id=\"T_dc95b_row17_col1\" class=\"data row17 col1\" >-1</td>\n",
       "    </tr>\n",
       "    <tr>\n",
       "      <th id=\"T_dc95b_level0_row18\" class=\"row_heading level0 row18\" >18</th>\n",
       "      <td id=\"T_dc95b_row18_col0\" class=\"data row18 col0\" >Use GPU</td>\n",
       "      <td id=\"T_dc95b_row18_col1\" class=\"data row18 col1\" >False</td>\n",
       "    </tr>\n",
       "    <tr>\n",
       "      <th id=\"T_dc95b_level0_row19\" class=\"row_heading level0 row19\" >19</th>\n",
       "      <td id=\"T_dc95b_row19_col0\" class=\"data row19 col0\" >Log Experiment</td>\n",
       "      <td id=\"T_dc95b_row19_col1\" class=\"data row19 col1\" >False</td>\n",
       "    </tr>\n",
       "    <tr>\n",
       "      <th id=\"T_dc95b_level0_row20\" class=\"row_heading level0 row20\" >20</th>\n",
       "      <td id=\"T_dc95b_row20_col0\" class=\"data row20 col0\" >Experiment Name</td>\n",
       "      <td id=\"T_dc95b_row20_col1\" class=\"data row20 col1\" >clf-default-name</td>\n",
       "    </tr>\n",
       "    <tr>\n",
       "      <th id=\"T_dc95b_level0_row21\" class=\"row_heading level0 row21\" >21</th>\n",
       "      <td id=\"T_dc95b_row21_col0\" class=\"data row21 col0\" >USI</td>\n",
       "      <td id=\"T_dc95b_row21_col1\" class=\"data row21 col1\" >394b</td>\n",
       "    </tr>\n",
       "    <tr>\n",
       "      <th id=\"T_dc95b_level0_row22\" class=\"row_heading level0 row22\" >22</th>\n",
       "      <td id=\"T_dc95b_row22_col0\" class=\"data row22 col0\" >Imputation Type</td>\n",
       "      <td id=\"T_dc95b_row22_col1\" class=\"data row22 col1\" >simple</td>\n",
       "    </tr>\n",
       "    <tr>\n",
       "      <th id=\"T_dc95b_level0_row23\" class=\"row_heading level0 row23\" >23</th>\n",
       "      <td id=\"T_dc95b_row23_col0\" class=\"data row23 col0\" >Iterative Imputation Iteration</td>\n",
       "      <td id=\"T_dc95b_row23_col1\" class=\"data row23 col1\" >None</td>\n",
       "    </tr>\n",
       "    <tr>\n",
       "      <th id=\"T_dc95b_level0_row24\" class=\"row_heading level0 row24\" >24</th>\n",
       "      <td id=\"T_dc95b_row24_col0\" class=\"data row24 col0\" >Numeric Imputer</td>\n",
       "      <td id=\"T_dc95b_row24_col1\" class=\"data row24 col1\" >mean</td>\n",
       "    </tr>\n",
       "    <tr>\n",
       "      <th id=\"T_dc95b_level0_row25\" class=\"row_heading level0 row25\" >25</th>\n",
       "      <td id=\"T_dc95b_row25_col0\" class=\"data row25 col0\" >Iterative Imputation Numeric Model</td>\n",
       "      <td id=\"T_dc95b_row25_col1\" class=\"data row25 col1\" >None</td>\n",
       "    </tr>\n",
       "    <tr>\n",
       "      <th id=\"T_dc95b_level0_row26\" class=\"row_heading level0 row26\" >26</th>\n",
       "      <td id=\"T_dc95b_row26_col0\" class=\"data row26 col0\" >Categorical Imputer</td>\n",
       "      <td id=\"T_dc95b_row26_col1\" class=\"data row26 col1\" >constant</td>\n",
       "    </tr>\n",
       "    <tr>\n",
       "      <th id=\"T_dc95b_level0_row27\" class=\"row_heading level0 row27\" >27</th>\n",
       "      <td id=\"T_dc95b_row27_col0\" class=\"data row27 col0\" >Iterative Imputation Categorical Model</td>\n",
       "      <td id=\"T_dc95b_row27_col1\" class=\"data row27 col1\" >None</td>\n",
       "    </tr>\n",
       "    <tr>\n",
       "      <th id=\"T_dc95b_level0_row28\" class=\"row_heading level0 row28\" >28</th>\n",
       "      <td id=\"T_dc95b_row28_col0\" class=\"data row28 col0\" >Unknown Categoricals Handling</td>\n",
       "      <td id=\"T_dc95b_row28_col1\" class=\"data row28 col1\" >least_frequent</td>\n",
       "    </tr>\n",
       "    <tr>\n",
       "      <th id=\"T_dc95b_level0_row29\" class=\"row_heading level0 row29\" >29</th>\n",
       "      <td id=\"T_dc95b_row29_col0\" class=\"data row29 col0\" >Normalize</td>\n",
       "      <td id=\"T_dc95b_row29_col1\" class=\"data row29 col1\" >False</td>\n",
       "    </tr>\n",
       "    <tr>\n",
       "      <th id=\"T_dc95b_level0_row30\" class=\"row_heading level0 row30\" >30</th>\n",
       "      <td id=\"T_dc95b_row30_col0\" class=\"data row30 col0\" >Normalize Method</td>\n",
       "      <td id=\"T_dc95b_row30_col1\" class=\"data row30 col1\" >None</td>\n",
       "    </tr>\n",
       "    <tr>\n",
       "      <th id=\"T_dc95b_level0_row31\" class=\"row_heading level0 row31\" >31</th>\n",
       "      <td id=\"T_dc95b_row31_col0\" class=\"data row31 col0\" >Transformation</td>\n",
       "      <td id=\"T_dc95b_row31_col1\" class=\"data row31 col1\" >False</td>\n",
       "    </tr>\n",
       "    <tr>\n",
       "      <th id=\"T_dc95b_level0_row32\" class=\"row_heading level0 row32\" >32</th>\n",
       "      <td id=\"T_dc95b_row32_col0\" class=\"data row32 col0\" >Transformation Method</td>\n",
       "      <td id=\"T_dc95b_row32_col1\" class=\"data row32 col1\" >None</td>\n",
       "    </tr>\n",
       "    <tr>\n",
       "      <th id=\"T_dc95b_level0_row33\" class=\"row_heading level0 row33\" >33</th>\n",
       "      <td id=\"T_dc95b_row33_col0\" class=\"data row33 col0\" >PCA</td>\n",
       "      <td id=\"T_dc95b_row33_col1\" class=\"data row33 col1\" >False</td>\n",
       "    </tr>\n",
       "    <tr>\n",
       "      <th id=\"T_dc95b_level0_row34\" class=\"row_heading level0 row34\" >34</th>\n",
       "      <td id=\"T_dc95b_row34_col0\" class=\"data row34 col0\" >PCA Method</td>\n",
       "      <td id=\"T_dc95b_row34_col1\" class=\"data row34 col1\" >None</td>\n",
       "    </tr>\n",
       "    <tr>\n",
       "      <th id=\"T_dc95b_level0_row35\" class=\"row_heading level0 row35\" >35</th>\n",
       "      <td id=\"T_dc95b_row35_col0\" class=\"data row35 col0\" >PCA Components</td>\n",
       "      <td id=\"T_dc95b_row35_col1\" class=\"data row35 col1\" >None</td>\n",
       "    </tr>\n",
       "    <tr>\n",
       "      <th id=\"T_dc95b_level0_row36\" class=\"row_heading level0 row36\" >36</th>\n",
       "      <td id=\"T_dc95b_row36_col0\" class=\"data row36 col0\" >Ignore Low Variance</td>\n",
       "      <td id=\"T_dc95b_row36_col1\" class=\"data row36 col1\" >False</td>\n",
       "    </tr>\n",
       "    <tr>\n",
       "      <th id=\"T_dc95b_level0_row37\" class=\"row_heading level0 row37\" >37</th>\n",
       "      <td id=\"T_dc95b_row37_col0\" class=\"data row37 col0\" >Combine Rare Levels</td>\n",
       "      <td id=\"T_dc95b_row37_col1\" class=\"data row37 col1\" >False</td>\n",
       "    </tr>\n",
       "    <tr>\n",
       "      <th id=\"T_dc95b_level0_row38\" class=\"row_heading level0 row38\" >38</th>\n",
       "      <td id=\"T_dc95b_row38_col0\" class=\"data row38 col0\" >Rare Level Threshold</td>\n",
       "      <td id=\"T_dc95b_row38_col1\" class=\"data row38 col1\" >None</td>\n",
       "    </tr>\n",
       "    <tr>\n",
       "      <th id=\"T_dc95b_level0_row39\" class=\"row_heading level0 row39\" >39</th>\n",
       "      <td id=\"T_dc95b_row39_col0\" class=\"data row39 col0\" >Numeric Binning</td>\n",
       "      <td id=\"T_dc95b_row39_col1\" class=\"data row39 col1\" >False</td>\n",
       "    </tr>\n",
       "    <tr>\n",
       "      <th id=\"T_dc95b_level0_row40\" class=\"row_heading level0 row40\" >40</th>\n",
       "      <td id=\"T_dc95b_row40_col0\" class=\"data row40 col0\" >Remove Outliers</td>\n",
       "      <td id=\"T_dc95b_row40_col1\" class=\"data row40 col1\" >False</td>\n",
       "    </tr>\n",
       "    <tr>\n",
       "      <th id=\"T_dc95b_level0_row41\" class=\"row_heading level0 row41\" >41</th>\n",
       "      <td id=\"T_dc95b_row41_col0\" class=\"data row41 col0\" >Outliers Threshold</td>\n",
       "      <td id=\"T_dc95b_row41_col1\" class=\"data row41 col1\" >None</td>\n",
       "    </tr>\n",
       "    <tr>\n",
       "      <th id=\"T_dc95b_level0_row42\" class=\"row_heading level0 row42\" >42</th>\n",
       "      <td id=\"T_dc95b_row42_col0\" class=\"data row42 col0\" >Remove Multicollinearity</td>\n",
       "      <td id=\"T_dc95b_row42_col1\" class=\"data row42 col1\" >False</td>\n",
       "    </tr>\n",
       "    <tr>\n",
       "      <th id=\"T_dc95b_level0_row43\" class=\"row_heading level0 row43\" >43</th>\n",
       "      <td id=\"T_dc95b_row43_col0\" class=\"data row43 col0\" >Multicollinearity Threshold</td>\n",
       "      <td id=\"T_dc95b_row43_col1\" class=\"data row43 col1\" >None</td>\n",
       "    </tr>\n",
       "    <tr>\n",
       "      <th id=\"T_dc95b_level0_row44\" class=\"row_heading level0 row44\" >44</th>\n",
       "      <td id=\"T_dc95b_row44_col0\" class=\"data row44 col0\" >Remove Perfect Collinearity</td>\n",
       "      <td id=\"T_dc95b_row44_col1\" class=\"data row44 col1\" >True</td>\n",
       "    </tr>\n",
       "    <tr>\n",
       "      <th id=\"T_dc95b_level0_row45\" class=\"row_heading level0 row45\" >45</th>\n",
       "      <td id=\"T_dc95b_row45_col0\" class=\"data row45 col0\" >Clustering</td>\n",
       "      <td id=\"T_dc95b_row45_col1\" class=\"data row45 col1\" >False</td>\n",
       "    </tr>\n",
       "    <tr>\n",
       "      <th id=\"T_dc95b_level0_row46\" class=\"row_heading level0 row46\" >46</th>\n",
       "      <td id=\"T_dc95b_row46_col0\" class=\"data row46 col0\" >Clustering Iteration</td>\n",
       "      <td id=\"T_dc95b_row46_col1\" class=\"data row46 col1\" >None</td>\n",
       "    </tr>\n",
       "    <tr>\n",
       "      <th id=\"T_dc95b_level0_row47\" class=\"row_heading level0 row47\" >47</th>\n",
       "      <td id=\"T_dc95b_row47_col0\" class=\"data row47 col0\" >Polynomial Features</td>\n",
       "      <td id=\"T_dc95b_row47_col1\" class=\"data row47 col1\" >False</td>\n",
       "    </tr>\n",
       "    <tr>\n",
       "      <th id=\"T_dc95b_level0_row48\" class=\"row_heading level0 row48\" >48</th>\n",
       "      <td id=\"T_dc95b_row48_col0\" class=\"data row48 col0\" >Polynomial Degree</td>\n",
       "      <td id=\"T_dc95b_row48_col1\" class=\"data row48 col1\" >None</td>\n",
       "    </tr>\n",
       "    <tr>\n",
       "      <th id=\"T_dc95b_level0_row49\" class=\"row_heading level0 row49\" >49</th>\n",
       "      <td id=\"T_dc95b_row49_col0\" class=\"data row49 col0\" >Trignometry Features</td>\n",
       "      <td id=\"T_dc95b_row49_col1\" class=\"data row49 col1\" >False</td>\n",
       "    </tr>\n",
       "    <tr>\n",
       "      <th id=\"T_dc95b_level0_row50\" class=\"row_heading level0 row50\" >50</th>\n",
       "      <td id=\"T_dc95b_row50_col0\" class=\"data row50 col0\" >Polynomial Threshold</td>\n",
       "      <td id=\"T_dc95b_row50_col1\" class=\"data row50 col1\" >None</td>\n",
       "    </tr>\n",
       "    <tr>\n",
       "      <th id=\"T_dc95b_level0_row51\" class=\"row_heading level0 row51\" >51</th>\n",
       "      <td id=\"T_dc95b_row51_col0\" class=\"data row51 col0\" >Group Features</td>\n",
       "      <td id=\"T_dc95b_row51_col1\" class=\"data row51 col1\" >False</td>\n",
       "    </tr>\n",
       "    <tr>\n",
       "      <th id=\"T_dc95b_level0_row52\" class=\"row_heading level0 row52\" >52</th>\n",
       "      <td id=\"T_dc95b_row52_col0\" class=\"data row52 col0\" >Feature Selection</td>\n",
       "      <td id=\"T_dc95b_row52_col1\" class=\"data row52 col1\" >False</td>\n",
       "    </tr>\n",
       "    <tr>\n",
       "      <th id=\"T_dc95b_level0_row53\" class=\"row_heading level0 row53\" >53</th>\n",
       "      <td id=\"T_dc95b_row53_col0\" class=\"data row53 col0\" >Feature Selection Method</td>\n",
       "      <td id=\"T_dc95b_row53_col1\" class=\"data row53 col1\" >classic</td>\n",
       "    </tr>\n",
       "    <tr>\n",
       "      <th id=\"T_dc95b_level0_row54\" class=\"row_heading level0 row54\" >54</th>\n",
       "      <td id=\"T_dc95b_row54_col0\" class=\"data row54 col0\" >Features Selection Threshold</td>\n",
       "      <td id=\"T_dc95b_row54_col1\" class=\"data row54 col1\" >None</td>\n",
       "    </tr>\n",
       "    <tr>\n",
       "      <th id=\"T_dc95b_level0_row55\" class=\"row_heading level0 row55\" >55</th>\n",
       "      <td id=\"T_dc95b_row55_col0\" class=\"data row55 col0\" >Feature Interaction</td>\n",
       "      <td id=\"T_dc95b_row55_col1\" class=\"data row55 col1\" >False</td>\n",
       "    </tr>\n",
       "    <tr>\n",
       "      <th id=\"T_dc95b_level0_row56\" class=\"row_heading level0 row56\" >56</th>\n",
       "      <td id=\"T_dc95b_row56_col0\" class=\"data row56 col0\" >Feature Ratio</td>\n",
       "      <td id=\"T_dc95b_row56_col1\" class=\"data row56 col1\" >False</td>\n",
       "    </tr>\n",
       "    <tr>\n",
       "      <th id=\"T_dc95b_level0_row57\" class=\"row_heading level0 row57\" >57</th>\n",
       "      <td id=\"T_dc95b_row57_col0\" class=\"data row57 col0\" >Interaction Threshold</td>\n",
       "      <td id=\"T_dc95b_row57_col1\" class=\"data row57 col1\" >None</td>\n",
       "    </tr>\n",
       "    <tr>\n",
       "      <th id=\"T_dc95b_level0_row58\" class=\"row_heading level0 row58\" >58</th>\n",
       "      <td id=\"T_dc95b_row58_col0\" class=\"data row58 col0\" >Fix Imbalance</td>\n",
       "      <td id=\"T_dc95b_row58_col1\" class=\"data row58 col1\" >False</td>\n",
       "    </tr>\n",
       "    <tr>\n",
       "      <th id=\"T_dc95b_level0_row59\" class=\"row_heading level0 row59\" >59</th>\n",
       "      <td id=\"T_dc95b_row59_col0\" class=\"data row59 col0\" >Fix Imbalance Method</td>\n",
       "      <td id=\"T_dc95b_row59_col1\" class=\"data row59 col1\" >SMOTE</td>\n",
       "    </tr>\n",
       "  </tbody>\n",
       "</table>\n"
      ],
      "text/plain": [
       "<pandas.io.formats.style.Styler at 0x1784acc8f10>"
      ]
     },
     "metadata": {},
     "output_type": "display_data"
    }
   ],
   "source": [
    "import pycaret\n",
    "from pycaret.classification import *\n",
    "cls = setup(data = Data , target='prognosis')\n"
   ]
  },
  {
   "cell_type": "code",
   "execution_count": 55,
   "id": "662f9d7b",
   "metadata": {},
   "outputs": [
    {
     "data": {
      "text/html": [
       "<style type=\"text/css\">\n",
       "#T_ec3fe th {\n",
       "  text-align: left;\n",
       "}\n",
       "#T_ec3fe_row0_col0, #T_ec3fe_row0_col3, #T_ec3fe_row0_col5, #T_ec3fe_row1_col0, #T_ec3fe_row1_col1, #T_ec3fe_row1_col2, #T_ec3fe_row1_col3, #T_ec3fe_row1_col4, #T_ec3fe_row1_col5, #T_ec3fe_row1_col6, #T_ec3fe_row1_col7, #T_ec3fe_row2_col0, #T_ec3fe_row2_col1, #T_ec3fe_row2_col2, #T_ec3fe_row2_col3, #T_ec3fe_row2_col4, #T_ec3fe_row2_col5, #T_ec3fe_row2_col6, #T_ec3fe_row2_col7, #T_ec3fe_row3_col0, #T_ec3fe_row3_col1, #T_ec3fe_row3_col2, #T_ec3fe_row3_col3, #T_ec3fe_row3_col4, #T_ec3fe_row3_col5, #T_ec3fe_row3_col6, #T_ec3fe_row3_col7, #T_ec3fe_row4_col0, #T_ec3fe_row4_col1, #T_ec3fe_row4_col2, #T_ec3fe_row4_col3, #T_ec3fe_row4_col4, #T_ec3fe_row4_col6, #T_ec3fe_row4_col7, #T_ec3fe_row5_col0, #T_ec3fe_row5_col1, #T_ec3fe_row5_col2, #T_ec3fe_row5_col3, #T_ec3fe_row5_col4, #T_ec3fe_row5_col5, #T_ec3fe_row5_col6, #T_ec3fe_row5_col7, #T_ec3fe_row6_col0, #T_ec3fe_row6_col1, #T_ec3fe_row6_col2, #T_ec3fe_row6_col3, #T_ec3fe_row6_col4, #T_ec3fe_row6_col5, #T_ec3fe_row6_col6, #T_ec3fe_row6_col7, #T_ec3fe_row7_col0, #T_ec3fe_row7_col1, #T_ec3fe_row7_col2, #T_ec3fe_row7_col3, #T_ec3fe_row7_col4, #T_ec3fe_row7_col5, #T_ec3fe_row7_col6, #T_ec3fe_row7_col7, #T_ec3fe_row8_col0, #T_ec3fe_row8_col1, #T_ec3fe_row8_col2, #T_ec3fe_row8_col3, #T_ec3fe_row8_col4, #T_ec3fe_row8_col5, #T_ec3fe_row8_col6, #T_ec3fe_row8_col7, #T_ec3fe_row9_col0, #T_ec3fe_row9_col1, #T_ec3fe_row9_col2, #T_ec3fe_row9_col3, #T_ec3fe_row9_col4, #T_ec3fe_row9_col5, #T_ec3fe_row9_col6, #T_ec3fe_row9_col7, #T_ec3fe_row10_col0, #T_ec3fe_row10_col1, #T_ec3fe_row10_col2, #T_ec3fe_row10_col3, #T_ec3fe_row10_col4, #T_ec3fe_row10_col5, #T_ec3fe_row10_col6, #T_ec3fe_row10_col7, #T_ec3fe_row11_col0, #T_ec3fe_row11_col1, #T_ec3fe_row11_col2, #T_ec3fe_row11_col3, #T_ec3fe_row11_col4, #T_ec3fe_row11_col5, #T_ec3fe_row11_col6, #T_ec3fe_row11_col7, #T_ec3fe_row12_col0, #T_ec3fe_row12_col1, #T_ec3fe_row12_col2, #T_ec3fe_row12_col3, #T_ec3fe_row12_col4, #T_ec3fe_row12_col5, #T_ec3fe_row12_col6, #T_ec3fe_row12_col7, #T_ec3fe_row13_col0, #T_ec3fe_row13_col1, #T_ec3fe_row13_col2, #T_ec3fe_row13_col3, #T_ec3fe_row13_col4, #T_ec3fe_row13_col5, #T_ec3fe_row13_col6, #T_ec3fe_row13_col7, #T_ec3fe_row14_col0, #T_ec3fe_row14_col1, #T_ec3fe_row14_col2, #T_ec3fe_row14_col4, #T_ec3fe_row14_col5, #T_ec3fe_row14_col6, #T_ec3fe_row14_col7 {\n",
       "  text-align: left;\n",
       "}\n",
       "#T_ec3fe_row0_col1, #T_ec3fe_row0_col2, #T_ec3fe_row0_col4, #T_ec3fe_row0_col6, #T_ec3fe_row0_col7, #T_ec3fe_row4_col5, #T_ec3fe_row14_col3 {\n",
       "  text-align: left;\n",
       "  background-color: yellow;\n",
       "}\n",
       "#T_ec3fe_row0_col8, #T_ec3fe_row1_col8, #T_ec3fe_row2_col8, #T_ec3fe_row3_col8, #T_ec3fe_row4_col8, #T_ec3fe_row5_col8, #T_ec3fe_row7_col8, #T_ec3fe_row8_col8, #T_ec3fe_row9_col8, #T_ec3fe_row10_col8, #T_ec3fe_row11_col8, #T_ec3fe_row12_col8, #T_ec3fe_row13_col8, #T_ec3fe_row14_col8 {\n",
       "  text-align: left;\n",
       "  background-color: lightgrey;\n",
       "}\n",
       "#T_ec3fe_row6_col8 {\n",
       "  text-align: left;\n",
       "  background-color: yellow;\n",
       "  background-color: lightgrey;\n",
       "}\n",
       "</style>\n",
       "<table id=\"T_ec3fe\">\n",
       "  <thead>\n",
       "    <tr>\n",
       "      <th class=\"blank level0\" >&nbsp;</th>\n",
       "      <th id=\"T_ec3fe_level0_col0\" class=\"col_heading level0 col0\" >Model</th>\n",
       "      <th id=\"T_ec3fe_level0_col1\" class=\"col_heading level0 col1\" >Accuracy</th>\n",
       "      <th id=\"T_ec3fe_level0_col2\" class=\"col_heading level0 col2\" >AUC</th>\n",
       "      <th id=\"T_ec3fe_level0_col3\" class=\"col_heading level0 col3\" >Recall</th>\n",
       "      <th id=\"T_ec3fe_level0_col4\" class=\"col_heading level0 col4\" >Prec.</th>\n",
       "      <th id=\"T_ec3fe_level0_col5\" class=\"col_heading level0 col5\" >F1</th>\n",
       "      <th id=\"T_ec3fe_level0_col6\" class=\"col_heading level0 col6\" >Kappa</th>\n",
       "      <th id=\"T_ec3fe_level0_col7\" class=\"col_heading level0 col7\" >MCC</th>\n",
       "      <th id=\"T_ec3fe_level0_col8\" class=\"col_heading level0 col8\" >TT (Sec)</th>\n",
       "    </tr>\n",
       "  </thead>\n",
       "  <tbody>\n",
       "    <tr>\n",
       "      <th id=\"T_ec3fe_level0_row0\" class=\"row_heading level0 row0\" >qda</th>\n",
       "      <td id=\"T_ec3fe_row0_col0\" class=\"data row0 col0\" >Quadratic Discriminant Analysis</td>\n",
       "      <td id=\"T_ec3fe_row0_col1\" class=\"data row0 col1\" >0.7328</td>\n",
       "      <td id=\"T_ec3fe_row0_col2\" class=\"data row0 col2\" >0.8095</td>\n",
       "      <td id=\"T_ec3fe_row0_col3\" class=\"data row0 col3\" >0.7288</td>\n",
       "      <td id=\"T_ec3fe_row0_col4\" class=\"data row0 col4\" >0.7442</td>\n",
       "      <td id=\"T_ec3fe_row0_col5\" class=\"data row0 col5\" >0.7363</td>\n",
       "      <td id=\"T_ec3fe_row0_col6\" class=\"data row0 col6\" >0.4656</td>\n",
       "      <td id=\"T_ec3fe_row0_col7\" class=\"data row0 col7\" >0.4658</td>\n",
       "      <td id=\"T_ec3fe_row0_col8\" class=\"data row0 col8\" >0.0190</td>\n",
       "    </tr>\n",
       "    <tr>\n",
       "      <th id=\"T_ec3fe_level0_row1\" class=\"row_heading level0 row1\" >lr</th>\n",
       "      <td id=\"T_ec3fe_row1_col0\" class=\"data row1 col0\" >Logistic Regression</td>\n",
       "      <td id=\"T_ec3fe_row1_col1\" class=\"data row1 col1\" >0.7311</td>\n",
       "      <td id=\"T_ec3fe_row1_col2\" class=\"data row1 col2\" >0.8063</td>\n",
       "      <td id=\"T_ec3fe_row1_col3\" class=\"data row1 col3\" >0.7340</td>\n",
       "      <td id=\"T_ec3fe_row1_col4\" class=\"data row1 col4\" >0.7392</td>\n",
       "      <td id=\"T_ec3fe_row1_col5\" class=\"data row1 col5\" >0.7364</td>\n",
       "      <td id=\"T_ec3fe_row1_col6\" class=\"data row1 col6\" >0.4620</td>\n",
       "      <td id=\"T_ec3fe_row1_col7\" class=\"data row1 col7\" >0.4622</td>\n",
       "      <td id=\"T_ec3fe_row1_col8\" class=\"data row1 col8\" >1.8230</td>\n",
       "    </tr>\n",
       "    <tr>\n",
       "      <th id=\"T_ec3fe_level0_row2\" class=\"row_heading level0 row2\" >ridge</th>\n",
       "      <td id=\"T_ec3fe_row2_col0\" class=\"data row2 col0\" >Ridge Classifier</td>\n",
       "      <td id=\"T_ec3fe_row2_col1\" class=\"data row2 col1\" >0.7309</td>\n",
       "      <td id=\"T_ec3fe_row2_col2\" class=\"data row2 col2\" >0.0000</td>\n",
       "      <td id=\"T_ec3fe_row2_col3\" class=\"data row2 col3\" >0.7260</td>\n",
       "      <td id=\"T_ec3fe_row2_col4\" class=\"data row2 col4\" >0.7429</td>\n",
       "      <td id=\"T_ec3fe_row2_col5\" class=\"data row2 col5\" >0.7342</td>\n",
       "      <td id=\"T_ec3fe_row2_col6\" class=\"data row2 col6\" >0.4618</td>\n",
       "      <td id=\"T_ec3fe_row2_col7\" class=\"data row2 col7\" >0.4622</td>\n",
       "      <td id=\"T_ec3fe_row2_col8\" class=\"data row2 col8\" >0.0390</td>\n",
       "    </tr>\n",
       "    <tr>\n",
       "      <th id=\"T_ec3fe_level0_row3\" class=\"row_heading level0 row3\" >lda</th>\n",
       "      <td id=\"T_ec3fe_row3_col0\" class=\"data row3 col0\" >Linear Discriminant Analysis</td>\n",
       "      <td id=\"T_ec3fe_row3_col1\" class=\"data row3 col1\" >0.7309</td>\n",
       "      <td id=\"T_ec3fe_row3_col2\" class=\"data row3 col2\" >0.8063</td>\n",
       "      <td id=\"T_ec3fe_row3_col3\" class=\"data row3 col3\" >0.7260</td>\n",
       "      <td id=\"T_ec3fe_row3_col4\" class=\"data row3 col4\" >0.7429</td>\n",
       "      <td id=\"T_ec3fe_row3_col5\" class=\"data row3 col5\" >0.7342</td>\n",
       "      <td id=\"T_ec3fe_row3_col6\" class=\"data row3 col6\" >0.4618</td>\n",
       "      <td id=\"T_ec3fe_row3_col7\" class=\"data row3 col7\" >0.4622</td>\n",
       "      <td id=\"T_ec3fe_row3_col8\" class=\"data row3 col8\" >0.0150</td>\n",
       "    </tr>\n",
       "    <tr>\n",
       "      <th id=\"T_ec3fe_level0_row4\" class=\"row_heading level0 row4\" >gbc</th>\n",
       "      <td id=\"T_ec3fe_row4_col0\" class=\"data row4 col0\" >Gradient Boosting Classifier</td>\n",
       "      <td id=\"T_ec3fe_row4_col1\" class=\"data row4 col1\" >0.7261</td>\n",
       "      <td id=\"T_ec3fe_row4_col2\" class=\"data row4 col2\" >0.8034</td>\n",
       "      <td id=\"T_ec3fe_row4_col3\" class=\"data row4 col3\" >0.7567</td>\n",
       "      <td id=\"T_ec3fe_row4_col4\" class=\"data row4 col4\" >0.7221</td>\n",
       "      <td id=\"T_ec3fe_row4_col5\" class=\"data row4 col5\" >0.7387</td>\n",
       "      <td id=\"T_ec3fe_row4_col6\" class=\"data row4 col6\" >0.4513</td>\n",
       "      <td id=\"T_ec3fe_row4_col7\" class=\"data row4 col7\" >0.4522</td>\n",
       "      <td id=\"T_ec3fe_row4_col8\" class=\"data row4 col8\" >0.3410</td>\n",
       "    </tr>\n",
       "    <tr>\n",
       "      <th id=\"T_ec3fe_level0_row5\" class=\"row_heading level0 row5\" >ada</th>\n",
       "      <td id=\"T_ec3fe_row5_col0\" class=\"data row5 col0\" >Ada Boost Classifier</td>\n",
       "      <td id=\"T_ec3fe_row5_col1\" class=\"data row5 col1\" >0.7235</td>\n",
       "      <td id=\"T_ec3fe_row5_col2\" class=\"data row5 col2\" >0.7905</td>\n",
       "      <td id=\"T_ec3fe_row5_col3\" class=\"data row5 col3\" >0.7186</td>\n",
       "      <td id=\"T_ec3fe_row5_col4\" class=\"data row5 col4\" >0.7358</td>\n",
       "      <td id=\"T_ec3fe_row5_col5\" class=\"data row5 col5\" >0.7268</td>\n",
       "      <td id=\"T_ec3fe_row5_col6\" class=\"data row5 col6\" >0.4470</td>\n",
       "      <td id=\"T_ec3fe_row5_col7\" class=\"data row5 col7\" >0.4475</td>\n",
       "      <td id=\"T_ec3fe_row5_col8\" class=\"data row5 col8\" >0.1430</td>\n",
       "    </tr>\n",
       "    <tr>\n",
       "      <th id=\"T_ec3fe_level0_row6\" class=\"row_heading level0 row6\" >nb</th>\n",
       "      <td id=\"T_ec3fe_row6_col0\" class=\"data row6 col0\" >Naive Bayes</td>\n",
       "      <td id=\"T_ec3fe_row6_col1\" class=\"data row6 col1\" >0.7233</td>\n",
       "      <td id=\"T_ec3fe_row6_col2\" class=\"data row6 col2\" >0.7980</td>\n",
       "      <td id=\"T_ec3fe_row6_col3\" class=\"data row6 col3\" >0.7070</td>\n",
       "      <td id=\"T_ec3fe_row6_col4\" class=\"data row6 col4\" >0.7409</td>\n",
       "      <td id=\"T_ec3fe_row6_col5\" class=\"data row6 col5\" >0.7233</td>\n",
       "      <td id=\"T_ec3fe_row6_col6\" class=\"data row6 col6\" >0.4468</td>\n",
       "      <td id=\"T_ec3fe_row6_col7\" class=\"data row6 col7\" >0.4476</td>\n",
       "      <td id=\"T_ec3fe_row6_col8\" class=\"data row6 col8\" >0.0130</td>\n",
       "    </tr>\n",
       "    <tr>\n",
       "      <th id=\"T_ec3fe_level0_row7\" class=\"row_heading level0 row7\" >lightgbm</th>\n",
       "      <td id=\"T_ec3fe_row7_col0\" class=\"data row7 col0\" >Light Gradient Boosting Machine</td>\n",
       "      <td id=\"T_ec3fe_row7_col1\" class=\"data row7 col1\" >0.7199</td>\n",
       "      <td id=\"T_ec3fe_row7_col2\" class=\"data row7 col2\" >0.7906</td>\n",
       "      <td id=\"T_ec3fe_row7_col3\" class=\"data row7 col3\" >0.7484</td>\n",
       "      <td id=\"T_ec3fe_row7_col4\" class=\"data row7 col4\" >0.7172</td>\n",
       "      <td id=\"T_ec3fe_row7_col5\" class=\"data row7 col5\" >0.7323</td>\n",
       "      <td id=\"T_ec3fe_row7_col6\" class=\"data row7 col6\" >0.4389</td>\n",
       "      <td id=\"T_ec3fe_row7_col7\" class=\"data row7 col7\" >0.4396</td>\n",
       "      <td id=\"T_ec3fe_row7_col8\" class=\"data row7 col8\" >0.2870</td>\n",
       "    </tr>\n",
       "    <tr>\n",
       "      <th id=\"T_ec3fe_level0_row8\" class=\"row_heading level0 row8\" >et</th>\n",
       "      <td id=\"T_ec3fe_row8_col0\" class=\"data row8 col0\" >Extra Trees Classifier</td>\n",
       "      <td id=\"T_ec3fe_row8_col1\" class=\"data row8 col1\" >0.7154</td>\n",
       "      <td id=\"T_ec3fe_row8_col2\" class=\"data row8 col2\" >0.7835</td>\n",
       "      <td id=\"T_ec3fe_row8_col3\" class=\"data row8 col3\" >0.7340</td>\n",
       "      <td id=\"T_ec3fe_row8_col4\" class=\"data row8 col4\" >0.7173</td>\n",
       "      <td id=\"T_ec3fe_row8_col5\" class=\"data row8 col5\" >0.7253</td>\n",
       "      <td id=\"T_ec3fe_row8_col6\" class=\"data row8 col6\" >0.4302</td>\n",
       "      <td id=\"T_ec3fe_row8_col7\" class=\"data row8 col7\" >0.4306</td>\n",
       "      <td id=\"T_ec3fe_row8_col8\" class=\"data row8 col8\" >0.3340</td>\n",
       "    </tr>\n",
       "    <tr>\n",
       "      <th id=\"T_ec3fe_level0_row9\" class=\"row_heading level0 row9\" >rf</th>\n",
       "      <td id=\"T_ec3fe_row9_col0\" class=\"data row9 col0\" >Random Forest Classifier</td>\n",
       "      <td id=\"T_ec3fe_row9_col1\" class=\"data row9 col1\" >0.7125</td>\n",
       "      <td id=\"T_ec3fe_row9_col2\" class=\"data row9 col2\" >0.7824</td>\n",
       "      <td id=\"T_ec3fe_row9_col3\" class=\"data row9 col3\" >0.7419</td>\n",
       "      <td id=\"T_ec3fe_row9_col4\" class=\"data row9 col4\" >0.7101</td>\n",
       "      <td id=\"T_ec3fe_row9_col5\" class=\"data row9 col5\" >0.7254</td>\n",
       "      <td id=\"T_ec3fe_row9_col6\" class=\"data row9 col6\" >0.4241</td>\n",
       "      <td id=\"T_ec3fe_row9_col7\" class=\"data row9 col7\" >0.4248</td>\n",
       "      <td id=\"T_ec3fe_row9_col8\" class=\"data row9 col8\" >0.4850</td>\n",
       "    </tr>\n",
       "    <tr>\n",
       "      <th id=\"T_ec3fe_level0_row10\" class=\"row_heading level0 row10\" >xgboost</th>\n",
       "      <td id=\"T_ec3fe_row10_col0\" class=\"data row10 col0\" >Extreme Gradient Boosting</td>\n",
       "      <td id=\"T_ec3fe_row10_col1\" class=\"data row10 col1\" >0.7016</td>\n",
       "      <td id=\"T_ec3fe_row10_col2\" class=\"data row10 col2\" >0.7773</td>\n",
       "      <td id=\"T_ec3fe_row10_col3\" class=\"data row10 col3\" >0.7260</td>\n",
       "      <td id=\"T_ec3fe_row10_col4\" class=\"data row10 col4\" >0.7021</td>\n",
       "      <td id=\"T_ec3fe_row10_col5\" class=\"data row10 col5\" >0.7136</td>\n",
       "      <td id=\"T_ec3fe_row10_col6\" class=\"data row10 col6\" >0.4023</td>\n",
       "      <td id=\"T_ec3fe_row10_col7\" class=\"data row10 col7\" >0.4030</td>\n",
       "      <td id=\"T_ec3fe_row10_col8\" class=\"data row10 col8\" >0.4050</td>\n",
       "    </tr>\n",
       "    <tr>\n",
       "      <th id=\"T_ec3fe_level0_row11\" class=\"row_heading level0 row11\" >knn</th>\n",
       "      <td id=\"T_ec3fe_row11_col0\" class=\"data row11 col0\" >K Neighbors Classifier</td>\n",
       "      <td id=\"T_ec3fe_row11_col1\" class=\"data row11 col1\" >0.6959</td>\n",
       "      <td id=\"T_ec3fe_row11_col2\" class=\"data row11 col2\" >0.7578</td>\n",
       "      <td id=\"T_ec3fe_row11_col3\" class=\"data row11 col3\" >0.7191</td>\n",
       "      <td id=\"T_ec3fe_row11_col4\" class=\"data row11 col4\" >0.6969</td>\n",
       "      <td id=\"T_ec3fe_row11_col5\" class=\"data row11 col5\" >0.7076</td>\n",
       "      <td id=\"T_ec3fe_row11_col6\" class=\"data row11 col6\" >0.3909</td>\n",
       "      <td id=\"T_ec3fe_row11_col7\" class=\"data row11 col7\" >0.3914</td>\n",
       "      <td id=\"T_ec3fe_row11_col8\" class=\"data row11 col8\" >0.0400</td>\n",
       "    </tr>\n",
       "    <tr>\n",
       "      <th id=\"T_ec3fe_level0_row12\" class=\"row_heading level0 row12\" >dt</th>\n",
       "      <td id=\"T_ec3fe_row12_col0\" class=\"data row12 col0\" >Decision Tree Classifier</td>\n",
       "      <td id=\"T_ec3fe_row12_col1\" class=\"data row12 col1\" >0.6440</td>\n",
       "      <td id=\"T_ec3fe_row12_col2\" class=\"data row12 col2\" >0.6439</td>\n",
       "      <td id=\"T_ec3fe_row12_col3\" class=\"data row12 col3\" >0.6484</td>\n",
       "      <td id=\"T_ec3fe_row12_col4\" class=\"data row12 col4\" >0.6538</td>\n",
       "      <td id=\"T_ec3fe_row12_col5\" class=\"data row12 col5\" >0.6508</td>\n",
       "      <td id=\"T_ec3fe_row12_col6\" class=\"data row12 col6\" >0.2877</td>\n",
       "      <td id=\"T_ec3fe_row12_col7\" class=\"data row12 col7\" >0.2879</td>\n",
       "      <td id=\"T_ec3fe_row12_col8\" class=\"data row12 col8\" >0.0230</td>\n",
       "    </tr>\n",
       "    <tr>\n",
       "      <th id=\"T_ec3fe_level0_row13\" class=\"row_heading level0 row13\" >svm</th>\n",
       "      <td id=\"T_ec3fe_row13_col0\" class=\"data row13 col0\" >SVM - Linear Kernel</td>\n",
       "      <td id=\"T_ec3fe_row13_col1\" class=\"data row13 col1\" >0.5449</td>\n",
       "      <td id=\"T_ec3fe_row13_col2\" class=\"data row13 col2\" >0.0000</td>\n",
       "      <td id=\"T_ec3fe_row13_col3\" class=\"data row13 col3\" >0.5358</td>\n",
       "      <td id=\"T_ec3fe_row13_col4\" class=\"data row13 col4\" >0.5467</td>\n",
       "      <td id=\"T_ec3fe_row13_col5\" class=\"data row13 col5\" >0.4171</td>\n",
       "      <td id=\"T_ec3fe_row13_col6\" class=\"data row13 col6\" >0.0906</td>\n",
       "      <td id=\"T_ec3fe_row13_col7\" class=\"data row13 col7\" >0.1396</td>\n",
       "      <td id=\"T_ec3fe_row13_col8\" class=\"data row13 col8\" >0.0420</td>\n",
       "    </tr>\n",
       "    <tr>\n",
       "      <th id=\"T_ec3fe_level0_row14\" class=\"row_heading level0 row14\" >dummy</th>\n",
       "      <td id=\"T_ec3fe_row14_col0\" class=\"data row14 col0\" >Dummy Classifier</td>\n",
       "      <td id=\"T_ec3fe_row14_col1\" class=\"data row14 col1\" >0.5120</td>\n",
       "      <td id=\"T_ec3fe_row14_col2\" class=\"data row14 col2\" >0.5000</td>\n",
       "      <td id=\"T_ec3fe_row14_col3\" class=\"data row14 col3\" >1.0000</td>\n",
       "      <td id=\"T_ec3fe_row14_col4\" class=\"data row14 col4\" >0.5120</td>\n",
       "      <td id=\"T_ec3fe_row14_col5\" class=\"data row14 col5\" >0.6773</td>\n",
       "      <td id=\"T_ec3fe_row14_col6\" class=\"data row14 col6\" >0.0000</td>\n",
       "      <td id=\"T_ec3fe_row14_col7\" class=\"data row14 col7\" >0.0000</td>\n",
       "      <td id=\"T_ec3fe_row14_col8\" class=\"data row14 col8\" >0.0210</td>\n",
       "    </tr>\n",
       "  </tbody>\n",
       "</table>\n"
      ],
      "text/plain": [
       "<pandas.io.formats.style.Styler at 0x1784a800f40>"
      ]
     },
     "metadata": {},
     "output_type": "display_data"
    }
   ],
   "source": [
    "#model training and selections\n",
    "best= compare_models()"
   ]
  },
  {
   "cell_type": "raw",
   "id": "faa2606f",
   "metadata": {},
   "source": [
    " "
   ]
  },
  {
   "cell_type": "markdown",
   "id": "1685037e",
   "metadata": {},
   "source": [
    "# MODEL BUILDING"
   ]
  },
  {
   "cell_type": "markdown",
   "id": "903a6928",
   "metadata": {},
   "source": [
    "## 1. RANDOM FOREST CLASSIFIER"
   ]
  },
  {
   "cell_type": "code",
   "execution_count": 56,
   "id": "7a279e0b",
   "metadata": {},
   "outputs": [
    {
     "data": {
      "text/plain": [
       "RandomForestClassifier(bootstrap=True, ccp_alpha=0.0, class_weight=None,\n",
       "                       criterion='gini', max_depth=None, max_features='auto',\n",
       "                       max_leaf_nodes=None, max_samples=None,\n",
       "                       min_impurity_decrease=0.0, min_impurity_split=None,\n",
       "                       min_samples_leaf=1, min_samples_split=2,\n",
       "                       min_weight_fraction_leaf=0.0, n_estimators=100, n_jobs=2,\n",
       "                       oob_score=False, random_state=40, verbose=0,\n",
       "                       warm_start=False)"
      ]
     },
     "execution_count": 56,
     "metadata": {},
     "output_type": "execute_result"
    }
   ],
   "source": [
    "from sklearn.ensemble import RandomForestClassifier\n",
    "rfc_model = RandomForestClassifier(n_jobs=2, random_state=40)\n",
    "rfc_model.fit(X_train,y_train)"
   ]
  },
  {
   "cell_type": "markdown",
   "id": "1dc1da44",
   "metadata": {},
   "source": [
    "### Validation of model"
   ]
  },
  {
   "cell_type": "code",
   "execution_count": 57,
   "id": "e1e8e730",
   "metadata": {},
   "outputs": [],
   "source": [
    "y_pred_rfc_train= rfc_model.predict(X_train)"
   ]
  },
  {
   "cell_type": "code",
   "execution_count": 58,
   "id": "48cd9a0b",
   "metadata": {},
   "outputs": [],
   "source": [
    "from sklearn.metrics import accuracy_score\n",
    "from sklearn.metrics import confusion_matrix\n",
    "from sklearn.metrics import classification_report"
   ]
  },
  {
   "cell_type": "code",
   "execution_count": 59,
   "id": "2ca6fb84",
   "metadata": {},
   "outputs": [
    {
     "name": "stdout",
     "output_type": "stream",
     "text": [
      "Accuracy of training model 1.0\n",
      "==============================================================================\n",
      "Confusion Matrics [[2321    0]\n",
      " [   0 2479]]\n",
      "==============================================================================\n",
      "Classificaton Report                precision    recall  f1-score   support\n",
      "\n",
      "           0       1.00      1.00      1.00      2321\n",
      "           1       1.00      1.00      1.00      2479\n",
      "\n",
      "    accuracy                           1.00      4800\n",
      "   macro avg       1.00      1.00      1.00      4800\n",
      "weighted avg       1.00      1.00      1.00      4800\n",
      "\n"
     ]
    }
   ],
   "source": [
    "print(\"Accuracy of training model\",accuracy_score(y_train,y_pred_rfc_train))\n",
    "print(\"==============================================================================\")\n",
    "print(\"Confusion Matrics\",confusion_matrix(y_train,y_pred_rfc_train))\n",
    "print(\"==============================================================================\")\n",
    "print(\"Classificaton Report \",classification_report(y_train,y_pred_rfc_train))"
   ]
  },
  {
   "cell_type": "code",
   "execution_count": 60,
   "id": "f35498b1",
   "metadata": {},
   "outputs": [],
   "source": [
    "y_pred_rfc_test= rfc_model.predict(X_test)"
   ]
  },
  {
   "cell_type": "code",
   "execution_count": 61,
   "id": "61cc7354",
   "metadata": {},
   "outputs": [
    {
     "name": "stdout",
     "output_type": "stream",
     "text": [
      "Accuracy of testing model 0.7025\n",
      "==============================================================================\n",
      "Confusion Matrics [[392 200]\n",
      " [157 451]]\n",
      "==============================================================================\n",
      "Classificaton Report               precision    recall  f1-score   support\n",
      "\n",
      "           0       0.71      0.66      0.69       592\n",
      "           1       0.69      0.74      0.72       608\n",
      "\n",
      "    accuracy                           0.70      1200\n",
      "   macro avg       0.70      0.70      0.70      1200\n",
      "weighted avg       0.70      0.70      0.70      1200\n",
      "\n"
     ]
    }
   ],
   "source": [
    "print(\"Accuracy of testing model\",accuracy_score(y_test,y_pred_rfc_test))\n",
    "print(\"==============================================================================\")\n",
    "print(\"Confusion Matrics\",confusion_matrix(y_test,y_pred_rfc_test))\n",
    "print(\"==============================================================================\")\n",
    "print(\"Classificaton Report\",classification_report(y_test,y_pred_rfc_test))"
   ]
  },
  {
   "cell_type": "markdown",
   "id": "f954e567",
   "metadata": {},
   "source": [
    "## 2. LOGISTIC REGRESSION"
   ]
  },
  {
   "cell_type": "code",
   "execution_count": 62,
   "id": "980a4129",
   "metadata": {},
   "outputs": [
    {
     "data": {
      "text/plain": [
       "LogisticRegression(C=1.0, class_weight=None, dual=False, fit_intercept=True,\n",
       "                   intercept_scaling=1, l1_ratio=None, max_iter=100,\n",
       "                   multi_class='auto', n_jobs=None, penalty='l2',\n",
       "                   random_state=None, solver='lbfgs', tol=0.0001, verbose=0,\n",
       "                   warm_start=False)"
      ]
     },
     "execution_count": 62,
     "metadata": {},
     "output_type": "execute_result"
    }
   ],
   "source": [
    "from sklearn.linear_model import LogisticRegression\n",
    "lr_model=LogisticRegression()\n",
    "lr_model.fit(X_train,y_train)"
   ]
  },
  {
   "cell_type": "markdown",
   "id": "dda53741",
   "metadata": {},
   "source": [
    "### Validation of model"
   ]
  },
  {
   "cell_type": "code",
   "execution_count": 63,
   "id": "43d48e75",
   "metadata": {},
   "outputs": [],
   "source": [
    "y_pred_lr_train=lr_model.predict(X_train)"
   ]
  },
  {
   "cell_type": "code",
   "execution_count": 64,
   "id": "4236d3e0",
   "metadata": {},
   "outputs": [
    {
     "name": "stdout",
     "output_type": "stream",
     "text": [
      "Accuracy of training model 0.7416666666666667\n",
      "==============================================================================\n",
      "Confusion Matrics [[1698  623]\n",
      " [ 617 1862]]\n",
      "==============================================================================\n",
      "Classificaton Report                precision    recall  f1-score   support\n",
      "\n",
      "           0       0.73      0.73      0.73      2321\n",
      "           1       0.75      0.75      0.75      2479\n",
      "\n",
      "    accuracy                           0.74      4800\n",
      "   macro avg       0.74      0.74      0.74      4800\n",
      "weighted avg       0.74      0.74      0.74      4800\n",
      "\n"
     ]
    }
   ],
   "source": [
    "print(\"Accuracy of training model\",accuracy_score(y_train,y_pred_lr_train))\n",
    "print(\"==============================================================================\")\n",
    "print(\"Confusion Matrics\",confusion_matrix(y_train,y_pred_lr_train))\n",
    "print(\"==============================================================================\")\n",
    "print(\"Classificaton Report \",classification_report(y_train,y_pred_lr_train))"
   ]
  },
  {
   "cell_type": "code",
   "execution_count": 65,
   "id": "b2cdd68c",
   "metadata": {},
   "outputs": [],
   "source": [
    "y_pred_lr_test= lr_model.predict(X_test)"
   ]
  },
  {
   "cell_type": "code",
   "execution_count": 66,
   "id": "c2de3dfb",
   "metadata": {},
   "outputs": [
    {
     "name": "stdout",
     "output_type": "stream",
     "text": [
      "Accuracy of testing model 0.7125\n",
      "==============================================================================\n",
      "Confusion Matrics [[415 177]\n",
      " [168 440]]\n",
      "==============================================================================\n",
      "Classificaton Report               precision    recall  f1-score   support\n",
      "\n",
      "           0       0.71      0.70      0.71       592\n",
      "           1       0.71      0.72      0.72       608\n",
      "\n",
      "    accuracy                           0.71      1200\n",
      "   macro avg       0.71      0.71      0.71      1200\n",
      "weighted avg       0.71      0.71      0.71      1200\n",
      "\n"
     ]
    }
   ],
   "source": [
    "print(\"Accuracy of testing model\",accuracy_score(y_test,y_pred_lr_test))\n",
    "print(\"==============================================================================\")\n",
    "print(\"Confusion Matrics\",confusion_matrix(y_test,y_pred_lr_test))\n",
    "print(\"==============================================================================\")\n",
    "print(\"Classificaton Report\",classification_report(y_test,y_pred_lr_test))"
   ]
  },
  {
   "cell_type": "markdown",
   "id": "dc93f158",
   "metadata": {},
   "source": [
    "## 3. GAUSSIAN NAIVE BAYES CLASSIFIER"
   ]
  },
  {
   "cell_type": "code",
   "execution_count": 67,
   "id": "5ceb086a",
   "metadata": {},
   "outputs": [
    {
     "data": {
      "text/plain": [
       "GaussianNB(priors=None, var_smoothing=1e-09)"
      ]
     },
     "execution_count": 67,
     "metadata": {},
     "output_type": "execute_result"
    }
   ],
   "source": [
    "# training the model on training set\n",
    "from sklearn.naive_bayes import GaussianNB\n",
    "gnb_model= GaussianNB()\n",
    "gnb_model.fit(X_train, y_train)"
   ]
  },
  {
   "cell_type": "markdown",
   "id": "d5ad2f60",
   "metadata": {},
   "source": [
    "### Validation of model"
   ]
  },
  {
   "cell_type": "code",
   "execution_count": 68,
   "id": "0ee3cc7b",
   "metadata": {},
   "outputs": [],
   "source": [
    "y_pred_gnb_train=gnb_model.predict(X_train)"
   ]
  },
  {
   "cell_type": "code",
   "execution_count": 69,
   "id": "912e70c6",
   "metadata": {},
   "outputs": [
    {
     "name": "stdout",
     "output_type": "stream",
     "text": [
      "Accuracy of training model 0.73375\n",
      "==============================================================================\n",
      "Confusion Matrics [[1723  598]\n",
      " [ 680 1799]]\n",
      "==============================================================================\n",
      "Classificaton Report                precision    recall  f1-score   support\n",
      "\n",
      "           0       0.72      0.74      0.73      2321\n",
      "           1       0.75      0.73      0.74      2479\n",
      "\n",
      "    accuracy                           0.73      4800\n",
      "   macro avg       0.73      0.73      0.73      4800\n",
      "weighted avg       0.73      0.73      0.73      4800\n",
      "\n"
     ]
    }
   ],
   "source": [
    "print(\"Accuracy of training model\",accuracy_score(y_train,y_pred_gnb_train))\n",
    "print(\"==============================================================================\")\n",
    "print(\"Confusion Matrics\",confusion_matrix(y_train,y_pred_gnb_train))\n",
    "print(\"==============================================================================\")\n",
    "print(\"Classificaton Report \",classification_report(y_train,y_pred_gnb_train))"
   ]
  },
  {
   "cell_type": "code",
   "execution_count": 70,
   "id": "2a4a9a1c",
   "metadata": {},
   "outputs": [],
   "source": [
    "y_pred_gnb_test = gnb_model.predict(X_test)"
   ]
  },
  {
   "cell_type": "code",
   "execution_count": 71,
   "id": "6bc0f30e",
   "metadata": {},
   "outputs": [
    {
     "name": "stdout",
     "output_type": "stream",
     "text": [
      "Accuracy of testing model 0.72\n",
      "==============================================================================\n",
      "Confusion Matrics [[424 168]\n",
      " [168 440]]\n",
      "==============================================================================\n",
      "Classificaton Report               precision    recall  f1-score   support\n",
      "\n",
      "           0       0.72      0.72      0.72       592\n",
      "           1       0.72      0.72      0.72       608\n",
      "\n",
      "    accuracy                           0.72      1200\n",
      "   macro avg       0.72      0.72      0.72      1200\n",
      "weighted avg       0.72      0.72      0.72      1200\n",
      "\n"
     ]
    }
   ],
   "source": [
    "print(\"Accuracy of testing model\",accuracy_score(y_test,y_pred_gnb_test))\n",
    "print(\"==============================================================================\")\n",
    "print(\"Confusion Matrics\",confusion_matrix(y_test,y_pred_gnb_test))\n",
    "print(\"==============================================================================\")\n",
    "print(\"Classificaton Report\",classification_report(y_test,y_pred_gnb_test))"
   ]
  },
  {
   "cell_type": "markdown",
   "id": "c23161c2",
   "metadata": {},
   "source": [
    "## 4. SUPPORT VECTOR MACHINE"
   ]
  },
  {
   "cell_type": "code",
   "execution_count": 72,
   "id": "4db5d7e9",
   "metadata": {},
   "outputs": [
    {
     "data": {
      "text/plain": [
       "SVC(C=0.1, break_ties=False, cache_size=200, class_weight=None, coef0=0.0,\n",
       "    decision_function_shape='ovr', degree=3, gamma=1, kernel='linear',\n",
       "    max_iter=-1, probability=False, random_state=None, shrinking=True,\n",
       "    tol=0.001, verbose=False)"
      ]
     },
     "execution_count": 72,
     "metadata": {},
     "output_type": "execute_result"
    }
   ],
   "source": [
    "from sklearn.svm import SVC\n",
    "# Building a Support Vector Machine on train data\n",
    "svc_model = SVC(C= .1, kernel='linear', gamma= 1)\n",
    "svc_model.fit(X_train, y_train)"
   ]
  },
  {
   "cell_type": "markdown",
   "id": "955829e4",
   "metadata": {},
   "source": [
    "### Validation of model"
   ]
  },
  {
   "cell_type": "code",
   "execution_count": 73,
   "id": "2e9dd451",
   "metadata": {},
   "outputs": [],
   "source": [
    "y_pred_svc_train=svc_model.predict(X_train)"
   ]
  },
  {
   "cell_type": "code",
   "execution_count": 74,
   "id": "1b06ee8a",
   "metadata": {},
   "outputs": [
    {
     "name": "stdout",
     "output_type": "stream",
     "text": [
      "Accuracy of training model 0.7416666666666667\n",
      "==============================================================================\n",
      "Confusion Matrics [[1689  632]\n",
      " [ 608 1871]]\n",
      "==============================================================================\n",
      "Classificaton Report                precision    recall  f1-score   support\n",
      "\n",
      "           0       0.74      0.73      0.73      2321\n",
      "           1       0.75      0.75      0.75      2479\n",
      "\n",
      "    accuracy                           0.74      4800\n",
      "   macro avg       0.74      0.74      0.74      4800\n",
      "weighted avg       0.74      0.74      0.74      4800\n",
      "\n"
     ]
    }
   ],
   "source": [
    "print(\"Accuracy of training model\",accuracy_score(y_train,y_pred_svc_train))\n",
    "print(\"==============================================================================\")\n",
    "print(\"Confusion Matrics\",confusion_matrix(y_train,y_pred_svc_train))\n",
    "print(\"==============================================================================\")\n",
    "print(\"Classificaton Report \",classification_report(y_train,y_pred_svc_train))"
   ]
  },
  {
   "cell_type": "code",
   "execution_count": 75,
   "id": "9628abcd",
   "metadata": {},
   "outputs": [],
   "source": [
    "y_pred_svc_test = svc_model.predict(X_test)"
   ]
  },
  {
   "cell_type": "code",
   "execution_count": 76,
   "id": "e0f968d0",
   "metadata": {},
   "outputs": [
    {
     "name": "stdout",
     "output_type": "stream",
     "text": [
      "Accuracy of testing model 0.715\n",
      "==============================================================================\n",
      "Confusion Matrics [[414 178]\n",
      " [164 444]]\n",
      "==============================================================================\n",
      "Classificaton Report               precision    recall  f1-score   support\n",
      "\n",
      "           0       0.72      0.70      0.71       592\n",
      "           1       0.71      0.73      0.72       608\n",
      "\n",
      "    accuracy                           0.71      1200\n",
      "   macro avg       0.72      0.71      0.71      1200\n",
      "weighted avg       0.72      0.71      0.71      1200\n",
      "\n"
     ]
    }
   ],
   "source": [
    "print(\"Accuracy of testing model\",accuracy_score(y_test,y_pred_svc_test))\n",
    "print(\"==============================================================================\")\n",
    "print(\"Confusion Matrics\",confusion_matrix(y_test,y_pred_svc_test))\n",
    "print(\"==============================================================================\")\n",
    "print(\"Classificaton Report\",classification_report(y_test,y_pred_svc_test))"
   ]
  },
  {
   "cell_type": "markdown",
   "id": "58c03338",
   "metadata": {},
   "source": [
    "## 5. XGBOOST CLASSIFIER"
   ]
  },
  {
   "cell_type": "code",
   "execution_count": 77,
   "id": "724ce69c",
   "metadata": {},
   "outputs": [],
   "source": [
    "# pip install xgboost"
   ]
  },
  {
   "cell_type": "code",
   "execution_count": 78,
   "id": "958db3df",
   "metadata": {},
   "outputs": [
    {
     "data": {
      "text/plain": [
       "XGBClassifier(base_score=0.5, booster='gbtree', callbacks=None,\n",
       "              colsample_bylevel=1, colsample_bynode=1, colsample_bytree=1,\n",
       "              early_stopping_rounds=None, enable_categorical=False,\n",
       "              eval_metric=None, gamma=0, gpu_id=-1, grow_policy='depthwise',\n",
       "              importance_type=None, interaction_constraints='',\n",
       "              learning_rate=0.300000012, max_bin=256, max_cat_to_onehot=4,\n",
       "              max_delta_step=0, max_depth=6, max_leaves=0, min_child_weight=1,\n",
       "              missing=nan, monotone_constraints='()', n_estimators=100,\n",
       "              n_jobs=0, num_parallel_tree=1, objective='binary:logistic',\n",
       "              predictor='auto', random_state=0, reg_alpha=0, ...)"
      ]
     },
     "execution_count": 78,
     "metadata": {},
     "output_type": "execute_result"
    }
   ],
   "source": [
    "from xgboost import XGBClassifier\n",
    "xgb_model = XGBClassifier()\n",
    "xgb_model.fit(X_train, y_train)"
   ]
  },
  {
   "cell_type": "markdown",
   "id": "2d275e02",
   "metadata": {},
   "source": [
    "### Validation of model"
   ]
  },
  {
   "cell_type": "code",
   "execution_count": 79,
   "id": "29905a83",
   "metadata": {},
   "outputs": [],
   "source": [
    "y_pred_xgb_train=xgb_model.predict(X_train)"
   ]
  },
  {
   "cell_type": "code",
   "execution_count": 80,
   "id": "9606be2c",
   "metadata": {},
   "outputs": [
    {
     "name": "stdout",
     "output_type": "stream",
     "text": [
      "Accuracy of training model 0.9402083333333333\n",
      "==============================================================================\n",
      "Confusion Matrics [[2174  147]\n",
      " [ 140 2339]]\n",
      "==============================================================================\n",
      "Classificaton Report                precision    recall  f1-score   support\n",
      "\n",
      "           0       0.94      0.94      0.94      2321\n",
      "           1       0.94      0.94      0.94      2479\n",
      "\n",
      "    accuracy                           0.94      4800\n",
      "   macro avg       0.94      0.94      0.94      4800\n",
      "weighted avg       0.94      0.94      0.94      4800\n",
      "\n"
     ]
    }
   ],
   "source": [
    "print(\"Accuracy of training model\",accuracy_score(y_train,y_pred_xgb_train))\n",
    "print(\"==============================================================================\")\n",
    "print(\"Confusion Matrics\",confusion_matrix(y_train,y_pred_xgb_train))\n",
    "print(\"==============================================================================\")\n",
    "print(\"Classificaton Report \",classification_report(y_train,y_pred_xgb_train))"
   ]
  },
  {
   "cell_type": "code",
   "execution_count": 81,
   "id": "9dec9922",
   "metadata": {},
   "outputs": [],
   "source": [
    "y_pred_xgb_test = xgb_model.predict(X_test)"
   ]
  },
  {
   "cell_type": "code",
   "execution_count": 82,
   "id": "6b21cea8",
   "metadata": {},
   "outputs": [
    {
     "name": "stdout",
     "output_type": "stream",
     "text": [
      "Accuracy of testing model 0.7108333333333333\n",
      "==============================================================================\n",
      "Confusion Matrics [[397 195]\n",
      " [152 456]]\n",
      "==============================================================================\n",
      "Classificaton Report               precision    recall  f1-score   support\n",
      "\n",
      "           0       0.72      0.67      0.70       592\n",
      "           1       0.70      0.75      0.72       608\n",
      "\n",
      "    accuracy                           0.71      1200\n",
      "   macro avg       0.71      0.71      0.71      1200\n",
      "weighted avg       0.71      0.71      0.71      1200\n",
      "\n"
     ]
    }
   ],
   "source": [
    "print(\"Accuracy of testing model\",accuracy_score(y_test,y_pred_xgb_test))\n",
    "print(\"==============================================================================\")\n",
    "print(\"Confusion Matrics\",confusion_matrix(y_test,y_pred_xgb_test))\n",
    "print(\"==============================================================================\")\n",
    "print(\"Classificaton Report\",classification_report(y_test,y_pred_xgb_test))"
   ]
  },
  {
   "cell_type": "markdown",
   "id": "6b022556",
   "metadata": {},
   "source": [
    "## 6. DECISION TREE"
   ]
  },
  {
   "cell_type": "code",
   "execution_count": 83,
   "id": "73a055f5",
   "metadata": {},
   "outputs": [
    {
     "data": {
      "text/plain": [
       "DecisionTreeClassifier(ccp_alpha=0.0, class_weight=None, criterion='entropy',\n",
       "                       max_depth=None, max_features=None, max_leaf_nodes=None,\n",
       "                       min_impurity_decrease=0.0, min_impurity_split=None,\n",
       "                       min_samples_leaf=1, min_samples_split=2,\n",
       "                       min_weight_fraction_leaf=0.0, presort='deprecated',\n",
       "                       random_state=None, splitter='best')"
      ]
     },
     "execution_count": 83,
     "metadata": {},
     "output_type": "execute_result"
    }
   ],
   "source": [
    "from sklearn.tree import DecisionTreeClassifier\n",
    "dtc_model=DecisionTreeClassifier(criterion = 'entropy')\n",
    "dtc_model.fit(X_train,y_train)"
   ]
  },
  {
   "cell_type": "markdown",
   "id": "a3a603a3",
   "metadata": {},
   "source": [
    "### Validation of model"
   ]
  },
  {
   "cell_type": "code",
   "execution_count": 84,
   "id": "f5a1c934",
   "metadata": {},
   "outputs": [],
   "source": [
    "y_pred_dtc_train = dtc_model.predict(X_train)"
   ]
  },
  {
   "cell_type": "code",
   "execution_count": 85,
   "id": "819ccb41",
   "metadata": {},
   "outputs": [
    {
     "name": "stdout",
     "output_type": "stream",
     "text": [
      "Accuracy of training model 1.0\n",
      "==============================================================================\n",
      "Confusion Matrics [[2321    0]\n",
      " [   0 2479]]\n",
      "==============================================================================\n",
      "Classificaton Report                precision    recall  f1-score   support\n",
      "\n",
      "           0       1.00      1.00      1.00      2321\n",
      "           1       1.00      1.00      1.00      2479\n",
      "\n",
      "    accuracy                           1.00      4800\n",
      "   macro avg       1.00      1.00      1.00      4800\n",
      "weighted avg       1.00      1.00      1.00      4800\n",
      "\n"
     ]
    }
   ],
   "source": [
    "print(\"Accuracy of training model\",accuracy_score(y_train,y_pred_dtc_train))\n",
    "print(\"==============================================================================\")\n",
    "print(\"Confusion Matrics\",confusion_matrix(y_train,y_pred_dtc_train))\n",
    "print(\"==============================================================================\")\n",
    "print(\"Classificaton Report \",classification_report(y_train,y_pred_dtc_train))"
   ]
  },
  {
   "cell_type": "code",
   "execution_count": 86,
   "id": "968636d7",
   "metadata": {},
   "outputs": [],
   "source": [
    "y_pred_dtc_test = dtc_model.predict(X_test)"
   ]
  },
  {
   "cell_type": "code",
   "execution_count": 87,
   "id": "5f09e6e5",
   "metadata": {},
   "outputs": [
    {
     "name": "stdout",
     "output_type": "stream",
     "text": [
      "Accuracy of testing model 0.6316666666666667\n",
      "==============================================================================\n",
      "Confusion Matrics [[368 224]\n",
      " [218 390]]\n",
      "==============================================================================\n",
      "Classificaton Report               precision    recall  f1-score   support\n",
      "\n",
      "           0       0.63      0.62      0.62       592\n",
      "           1       0.64      0.64      0.64       608\n",
      "\n",
      "    accuracy                           0.63      1200\n",
      "   macro avg       0.63      0.63      0.63      1200\n",
      "weighted avg       0.63      0.63      0.63      1200\n",
      "\n"
     ]
    }
   ],
   "source": [
    "print(\"Accuracy of testing model\",accuracy_score(y_test,y_pred_dtc_test))\n",
    "print(\"==============================================================================\")\n",
    "print(\"Confusion Matrics\",confusion_matrix(y_test,y_pred_dtc_test))\n",
    "print(\"==============================================================================\")\n",
    "print(\"Classificaton Report\",classification_report(y_test,y_pred_dtc_test))"
   ]
  },
  {
   "cell_type": "markdown",
   "id": "75f5dea2",
   "metadata": {},
   "source": [
    "## 7. KNN"
   ]
  },
  {
   "cell_type": "code",
   "execution_count": 88,
   "id": "e778beac",
   "metadata": {},
   "outputs": [
    {
     "data": {
      "text/plain": [
       "KNeighborsClassifier(algorithm='auto', leaf_size=30, metric='minkowski',\n",
       "                     metric_params=None, n_jobs=None, n_neighbors=3, p=2,\n",
       "                     weights='uniform')"
      ]
     },
     "execution_count": 88,
     "metadata": {},
     "output_type": "execute_result"
    }
   ],
   "source": [
    "from sklearn.neighbors import KNeighborsClassifier\n",
    "knn_model = KNeighborsClassifier(n_neighbors = 3)\n",
    "knn_model.fit(X_train,y_train)"
   ]
  },
  {
   "cell_type": "markdown",
   "id": "f66ebabb",
   "metadata": {},
   "source": [
    "### Validation of model"
   ]
  },
  {
   "cell_type": "code",
   "execution_count": 89,
   "id": "78218a61",
   "metadata": {},
   "outputs": [],
   "source": [
    "y_pred_knn_train = knn_model.predict(X_train)"
   ]
  },
  {
   "cell_type": "code",
   "execution_count": 90,
   "id": "32d69d42",
   "metadata": {},
   "outputs": [
    {
     "name": "stdout",
     "output_type": "stream",
     "text": [
      "Accuracy of training model 0.8391666666666666\n",
      "==============================================================================\n",
      "Confusion Matrics [[1916  405]\n",
      " [ 367 2112]]\n",
      "==============================================================================\n",
      "Classificaton Report                precision    recall  f1-score   support\n",
      "\n",
      "           0       0.84      0.83      0.83      2321\n",
      "           1       0.84      0.85      0.85      2479\n",
      "\n",
      "    accuracy                           0.84      4800\n",
      "   macro avg       0.84      0.84      0.84      4800\n",
      "weighted avg       0.84      0.84      0.84      4800\n",
      "\n"
     ]
    }
   ],
   "source": [
    "print(\"Accuracy of training model\",accuracy_score(y_train,y_pred_knn_train))\n",
    "print(\"==============================================================================\")\n",
    "print(\"Confusion Matrics\",confusion_matrix(y_train,y_pred_knn_train))\n",
    "print(\"==============================================================================\")\n",
    "print(\"Classificaton Report \",classification_report(y_train,y_pred_knn_train))"
   ]
  },
  {
   "cell_type": "code",
   "execution_count": 91,
   "id": "2a51910b",
   "metadata": {},
   "outputs": [],
   "source": [
    "y_pred_knn_test = knn_model.predict(X_test)"
   ]
  },
  {
   "cell_type": "code",
   "execution_count": 92,
   "id": "4f0b90c8",
   "metadata": {
    "scrolled": true
   },
   "outputs": [
    {
     "name": "stdout",
     "output_type": "stream",
     "text": [
      "Accuracy of testing model 0.6591666666666667\n",
      "==============================================================================\n",
      "Confusion Matrics [[376 216]\n",
      " [193 415]]\n",
      "==============================================================================\n",
      "Classificaton Report               precision    recall  f1-score   support\n",
      "\n",
      "           0       0.66      0.64      0.65       592\n",
      "           1       0.66      0.68      0.67       608\n",
      "\n",
      "    accuracy                           0.66      1200\n",
      "   macro avg       0.66      0.66      0.66      1200\n",
      "weighted avg       0.66      0.66      0.66      1200\n",
      "\n"
     ]
    }
   ],
   "source": [
    "print(\"Accuracy of testing model\",accuracy_score(y_test,y_pred_knn_test))\n",
    "print(\"==============================================================================\")\n",
    "print(\"Confusion Matrics\",confusion_matrix(y_test,y_pred_knn_test))\n",
    "print(\"==============================================================================\")\n",
    "print(\"Classificaton Report\",classification_report(y_test,y_pred_knn_test))"
   ]
  },
  {
   "cell_type": "code",
   "execution_count": 93,
   "id": "0749cd7d",
   "metadata": {},
   "outputs": [],
   "source": [
    "#Spliting the variable into train and test\n",
    "from sklearn.model_selection import train_test_split\n",
    "X_train, X_test, y_train, y_test = train_test_split(X_scaler,Y, test_size=0.20, random_state=2903)"
   ]
  },
  {
   "cell_type": "markdown",
   "id": "84210f4f",
   "metadata": {},
   "source": [
    "## 8. GradientBoostingClassifier"
   ]
  },
  {
   "cell_type": "code",
   "execution_count": 94,
   "id": "8ee3f326",
   "metadata": {},
   "outputs": [
    {
     "data": {
      "text/plain": [
       "GradientBoostingClassifier(ccp_alpha=0.0, criterion='friedman_mse', init=None,\n",
       "                           learning_rate=0.1, loss='deviance', max_depth=3,\n",
       "                           max_features=None, max_leaf_nodes=None,\n",
       "                           min_impurity_decrease=0.0, min_impurity_split=None,\n",
       "                           min_samples_leaf=1, min_samples_split=2,\n",
       "                           min_weight_fraction_leaf=0.0, n_estimators=100,\n",
       "                           n_iter_no_change=None, presort='deprecated',\n",
       "                           random_state=2903, subsample=1.0, tol=0.0001,\n",
       "                           validation_fraction=0.1, verbose=0,\n",
       "                           warm_start=False)"
      ]
     },
     "execution_count": 94,
     "metadata": {},
     "output_type": "execute_result"
    }
   ],
   "source": [
    "from sklearn.ensemble import GradientBoostingClassifier\n",
    "gbc_model = GradientBoostingClassifier(ccp_alpha=0.0, criterion='friedman_mse', init=None,\n",
    "                                       learning_rate=0.1, loss='deviance', max_depth=3,\n",
    "                                       max_features=None, max_leaf_nodes=None,\n",
    "                                       min_impurity_decrease=0.0,\n",
    "                                       min_samples_leaf=1, min_samples_split=2,\n",
    "                                       min_weight_fraction_leaf=0.0, n_estimators=100,\n",
    "                                       n_iter_no_change=None,\n",
    "                                       random_state=2903, subsample=1.0, tol=0.0001,\n",
    "                                       validation_fraction=0.1, verbose=0,\n",
    "                                       warm_start=False)\n",
    "gbc_model.fit(X_train,y_train)"
   ]
  },
  {
   "cell_type": "markdown",
   "id": "9af797cd",
   "metadata": {},
   "source": [
    "### Validation of model"
   ]
  },
  {
   "cell_type": "code",
   "execution_count": 95,
   "id": "060c7013",
   "metadata": {},
   "outputs": [],
   "source": [
    "y_pred_gbc_train= gbc_model.predict(X_train)"
   ]
  },
  {
   "cell_type": "code",
   "execution_count": 96,
   "id": "62fa89a5",
   "metadata": {},
   "outputs": [
    {
     "name": "stdout",
     "output_type": "stream",
     "text": [
      "Accuracy of training model 0.7722916666666667\n",
      "==============================================================================\n",
      "Confusion Matrics [[1712  611]\n",
      " [ 482 1995]]\n",
      "==============================================================================\n",
      "Classificaton Report                precision    recall  f1-score   support\n",
      "\n",
      "           0       0.78      0.74      0.76      2323\n",
      "           1       0.77      0.81      0.78      2477\n",
      "\n",
      "    accuracy                           0.77      4800\n",
      "   macro avg       0.77      0.77      0.77      4800\n",
      "weighted avg       0.77      0.77      0.77      4800\n",
      "\n"
     ]
    }
   ],
   "source": [
    "print(\"Accuracy of training model\",accuracy_score(y_train,y_pred_gbc_train))\n",
    "print(\"==============================================================================\")\n",
    "print(\"Confusion Matrics\",confusion_matrix(y_train,y_pred_gbc_train))\n",
    "print(\"==============================================================================\")\n",
    "print(\"Classificaton Report \",classification_report(y_train,y_pred_gbc_train))"
   ]
  },
  {
   "cell_type": "code",
   "execution_count": 97,
   "id": "1b67b61a",
   "metadata": {},
   "outputs": [],
   "source": [
    "y_pred_gbc_test= gbc_model.predict(X_test)"
   ]
  },
  {
   "cell_type": "code",
   "execution_count": 98,
   "id": "410bb430",
   "metadata": {},
   "outputs": [
    {
     "name": "stdout",
     "output_type": "stream",
     "text": [
      "Accuracy of testing model 0.7483333333333333\n",
      "==============================================================================\n",
      "Confusion Matrics [[431 159]\n",
      " [143 467]]\n",
      "==============================================================================\n",
      "Classificaton Report               precision    recall  f1-score   support\n",
      "\n",
      "           0       0.75      0.73      0.74       590\n",
      "           1       0.75      0.77      0.76       610\n",
      "\n",
      "    accuracy                           0.75      1200\n",
      "   macro avg       0.75      0.75      0.75      1200\n",
      "weighted avg       0.75      0.75      0.75      1200\n",
      "\n"
     ]
    }
   ],
   "source": [
    "print(\"Accuracy of testing model\",accuracy_score(y_test,y_pred_gbc_test))\n",
    "print(\"==============================================================================\")\n",
    "print(\"Confusion Matrics\",confusion_matrix(y_test,y_pred_gbc_test))\n",
    "print(\"==============================================================================\")\n",
    "print(\"Classificaton Report\",classification_report(y_test,y_pred_gbc_test))"
   ]
  },
  {
   "cell_type": "markdown",
   "id": "fb9e5f15",
   "metadata": {},
   "source": [
    "## Accuracy comparision"
   ]
  },
  {
   "cell_type": "code",
   "execution_count": 109,
   "id": "0295658d",
   "metadata": {},
   "outputs": [],
   "source": [
    "model = ['RANDOM FOREST','LOGISTIC REGRESSION','GAUSSIAN NAIVE BAYES CLASSIFIER','SVC','XGB','DECISION TREE','KNN','GradientBoostingClassifier']\n",
    "\n",
    "training = [\n",
    "     (accuracy_score(y_train,y_pred_rfc_train)*100),\n",
    "     (accuracy_score(y_train,y_pred_lr_train)*100),\n",
    "     (accuracy_score(y_train,y_pred_gnb_train)*100),\n",
    "     (accuracy_score(y_train,y_pred_svc_train)*100),\n",
    "     (accuracy_score(y_train,y_pred_xgb_train)*100),\n",
    "     (accuracy_score(y_train,y_pred_dtc_train)*100),\n",
    "     (accuracy_score(y_train,y_pred_knn_train)*100),\n",
    "     (accuracy_score(y_train,y_pred_gbc_train)*100)\n",
    "]\n",
    "\n",
    "testing = [\n",
    "     (accuracy_score(y_test,y_pred_rfc_test)*100),\n",
    "     (accuracy_score(y_test,y_pred_lr_test)*100),\n",
    "     (accuracy_score(y_test,y_pred_gnb_test)*100),\n",
    "     (accuracy_score(y_test,y_pred_svc_test)*100),\n",
    "     (accuracy_score(y_test,y_pred_xgb_test)*100),\n",
    "     (accuracy_score(y_test,y_pred_dtc_test)*100),\n",
    "     (accuracy_score(y_test,y_pred_knn_test)*100),\n",
    "     (accuracy_score(y_test,y_pred_gbc_test)*100)\n",
    "]"
   ]
  },
  {
   "cell_type": "code",
   "execution_count": 110,
   "id": "ad7f0cef",
   "metadata": {
    "scrolled": true
   },
   "outputs": [
    {
     "data": {
      "text/html": [
       "<div>\n",
       "<style scoped>\n",
       "    .dataframe tbody tr th:only-of-type {\n",
       "        vertical-align: middle;\n",
       "    }\n",
       "\n",
       "    .dataframe tbody tr th {\n",
       "        vertical-align: top;\n",
       "    }\n",
       "\n",
       "    .dataframe thead th {\n",
       "        text-align: right;\n",
       "    }\n",
       "</style>\n",
       "<table border=\"1\" class=\"dataframe\">\n",
       "  <thead>\n",
       "    <tr style=\"text-align: right;\">\n",
       "      <th></th>\n",
       "      <th>Model</th>\n",
       "      <th>Training</th>\n",
       "      <th>Testing</th>\n",
       "    </tr>\n",
       "  </thead>\n",
       "  <tbody>\n",
       "    <tr>\n",
       "      <th>0</th>\n",
       "      <td>RANDOM FOREST</td>\n",
       "      <td>50.083333</td>\n",
       "      <td>49.416667</td>\n",
       "    </tr>\n",
       "    <tr>\n",
       "      <th>1</th>\n",
       "      <td>LOGISTIC REGRESSION</td>\n",
       "      <td>50.291667</td>\n",
       "      <td>48.083333</td>\n",
       "    </tr>\n",
       "    <tr>\n",
       "      <th>2</th>\n",
       "      <td>GAUSSIAN NAIVE BAYES CLASSIFIER</td>\n",
       "      <td>50.250000</td>\n",
       "      <td>48.333333</td>\n",
       "    </tr>\n",
       "    <tr>\n",
       "      <th>3</th>\n",
       "      <td>SVC</td>\n",
       "      <td>50.333333</td>\n",
       "      <td>48.166667</td>\n",
       "    </tr>\n",
       "    <tr>\n",
       "      <th>4</th>\n",
       "      <td>XGB</td>\n",
       "      <td>49.979167</td>\n",
       "      <td>48.583333</td>\n",
       "    </tr>\n",
       "    <tr>\n",
       "      <th>5</th>\n",
       "      <td>DECISION TREE</td>\n",
       "      <td>50.083333</td>\n",
       "      <td>50.166667</td>\n",
       "    </tr>\n",
       "    <tr>\n",
       "      <th>6</th>\n",
       "      <td>KNN</td>\n",
       "      <td>50.041667</td>\n",
       "      <td>49.083333</td>\n",
       "    </tr>\n",
       "    <tr>\n",
       "      <th>7</th>\n",
       "      <td>GradientBoostingClassifier</td>\n",
       "      <td>77.229167</td>\n",
       "      <td>74.833333</td>\n",
       "    </tr>\n",
       "  </tbody>\n",
       "</table>\n",
       "</div>"
      ],
      "text/plain": [
       "                             Model   Training    Testing\n",
       "0                    RANDOM FOREST  50.083333  49.416667\n",
       "1              LOGISTIC REGRESSION  50.291667  48.083333\n",
       "2  GAUSSIAN NAIVE BAYES CLASSIFIER  50.250000  48.333333\n",
       "3                              SVC  50.333333  48.166667\n",
       "4                              XGB  49.979167  48.583333\n",
       "5                    DECISION TREE  50.083333  50.166667\n",
       "6                              KNN  50.041667  49.083333\n",
       "7       GradientBoostingClassifier  77.229167  74.833333"
      ]
     },
     "execution_count": 110,
     "metadata": {},
     "output_type": "execute_result"
    }
   ],
   "source": [
    "df = pd.DataFrame()\n",
    "df['Model'] = model\n",
    "df['Training'] = training\n",
    "df['Testing'] = testing\n",
    "df"
   ]
  },
  {
   "cell_type": "code",
   "execution_count": null,
   "id": "823a2846",
   "metadata": {},
   "outputs": [],
   "source": []
  },
  {
   "cell_type": "code",
   "execution_count": null,
   "id": "13351471",
   "metadata": {},
   "outputs": [],
   "source": []
  },
  {
   "cell_type": "code",
   "execution_count": null,
   "id": "77809902",
   "metadata": {},
   "outputs": [],
   "source": []
  },
  {
   "cell_type": "code",
   "execution_count": null,
   "id": "953ea605",
   "metadata": {},
   "outputs": [],
   "source": []
  },
  {
   "cell_type": "markdown",
   "id": "6b4d9c65",
   "metadata": {},
   "source": [
    "## 8. ARTIFICAIL NEURAL NETWORK"
   ]
  },
  {
   "cell_type": "code",
   "execution_count": null,
   "id": "1c0bd1f4",
   "metadata": {},
   "outputs": [],
   "source": [
    "# !pip install tensorflow"
   ]
  },
  {
   "cell_type": "code",
   "execution_count": null,
   "id": "2f7ac3de",
   "metadata": {},
   "outputs": [],
   "source": [
    "# import tensorflow as tf\n",
    "# from tensorflow.keras.layers import Input,Dense\n",
    "# from tensorflow.keras.models import Sequential\n",
    "# import matplotlib.pyplot as plt\n",
    "# %matplotlib inline"
   ]
  },
  {
   "cell_type": "code",
   "execution_count": null,
   "id": "fdf20a8d",
   "metadata": {},
   "outputs": [],
   "source": [
    "# accuracies = []\n",
    "\n",
    "# for i in range(10):\n",
    "#     tf.random.set_seed(i)\n",
    "#     nn_model= Sequential()\n",
    "#     nn_model.add(Dense(1, input_dim=4, activation='sigmoid'))\n",
    "#     nn_model.compile(loss='binary_crossentropy',optimizer='adam', metrics=['accuracy'])\n",
    "#     nn_model.fit(X_train,y_train,epochs=1000,batch_size=32,verbose=0)\n",
    "#     _,accuracy = nn_model.evaluate(X_test,y_test)\n",
    "#     accuracies.append(accuracy*100)\n"
   ]
  },
  {
   "cell_type": "code",
   "execution_count": null,
   "id": "fa578220",
   "metadata": {},
   "outputs": [],
   "source": [
    "# sum(accuracies)/len(accuracies)"
   ]
  },
  {
   "cell_type": "code",
   "execution_count": null,
   "id": "6eb157b7",
   "metadata": {},
   "outputs": [],
   "source": []
  },
  {
   "cell_type": "code",
   "execution_count": null,
   "id": "4d5f1a53",
   "metadata": {},
   "outputs": [],
   "source": []
  }
 ],
 "metadata": {
  "kernelspec": {
   "display_name": "Python 3",
   "language": "python",
   "name": "python3"
  },
  "language_info": {
   "codemirror_mode": {
    "name": "ipython",
    "version": 3
   },
   "file_extension": ".py",
   "mimetype": "text/x-python",
   "name": "python",
   "nbconvert_exporter": "python",
   "pygments_lexer": "ipython3",
   "version": "3.8.8"
  }
 },
 "nbformat": 4,
 "nbformat_minor": 5
}
